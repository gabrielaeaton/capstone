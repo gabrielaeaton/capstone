{
 "cells": [
  {
   "cell_type": "markdown",
   "metadata": {},
   "source": [
    "**Gabriela Tanumihardja**</br>\n",
    "**Capstone Project - Part VIIA** </br>\n",
    "**Data prep for BERT Multiclass**"
   ]
  },
  {
   "cell_type": "code",
   "execution_count": 1,
   "metadata": {},
   "outputs": [],
   "source": [
    "import pandas as pd\n",
    "import numpy as np\n",
    "import matplotlib.pyplot as plt\n",
    "import seaborn as sns\n",
    "import re\n",
    "from sklearn.linear_model import LogisticRegression\n",
    "import datetime\n",
    "from sklearn.feature_extraction.text import CountVectorizer\n",
    "%config InlineBackend.figure_format='retina'\n",
    "from sklearn.model_selection import train_test_split\n",
    "from sklearn.feature_extraction.text import CountVectorizer\n",
    "from nltk.corpus import wordnet as wn\n",
    "from nltk.stem.wordnet import WordNetLemmatizer\n",
    "from nltk import word_tokenize, pos_tag\n",
    "from collections import defaultdict\n",
    "from nltk.corpus import stopwords\n",
    "import string\n",
    "from operator import itemgetter\n",
    "from wordcloud import WordCloud\n",
    "\n",
    "%matplotlib inline"
   ]
  },
  {
   "cell_type": "markdown",
   "metadata": {},
   "source": [
    "***"
   ]
  },
  {
   "cell_type": "markdown",
   "metadata": {},
   "source": [
    "Previously, I was successful in training a model to perform a binary classification (satire/legitimate). Now I would like to modify the model to predict the news source for each headline. For this task I would need to make sure my target variable categories are balanced. I will now begin with reading in the data."
   ]
  },
  {
   "cell_type": "code",
   "execution_count": 9,
   "metadata": {},
   "outputs": [],
   "source": [
    "# read in data\n",
    "\n",
    "df = pd.read_csv('data/year_sampled.csv', index_col = 0)"
   ]
  },
  {
   "cell_type": "code",
   "execution_count": 10,
   "metadata": {},
   "outputs": [
    {
     "data": {
      "text/html": [
       "<div>\n",
       "<style scoped>\n",
       "    .dataframe tbody tr th:only-of-type {\n",
       "        vertical-align: middle;\n",
       "    }\n",
       "\n",
       "    .dataframe tbody tr th {\n",
       "        vertical-align: top;\n",
       "    }\n",
       "\n",
       "    .dataframe thead th {\n",
       "        text-align: right;\n",
       "    }\n",
       "</style>\n",
       "<table border=\"1\" class=\"dataframe\">\n",
       "  <thead>\n",
       "    <tr style=\"text-align: right;\">\n",
       "      <th></th>\n",
       "      <th>index</th>\n",
       "      <th>title</th>\n",
       "      <th>topic</th>\n",
       "      <th>date_published</th>\n",
       "      <th>source</th>\n",
       "      <th>satire</th>\n",
       "      <th>year</th>\n",
       "    </tr>\n",
       "  </thead>\n",
       "  <tbody>\n",
       "    <tr>\n",
       "      <th>0</th>\n",
       "      <td>10523</td>\n",
       "      <td>Divorced Mom At Point In Life Where She Figure...</td>\n",
       "      <td>local</td>\n",
       "      <td>2020-03-16 15:39:00+00:00</td>\n",
       "      <td>the onion</td>\n",
       "      <td>1</td>\n",
       "      <td>2020</td>\n",
       "    </tr>\n",
       "    <tr>\n",
       "      <th>1</th>\n",
       "      <td>10440</td>\n",
       "      <td>Unclear Why Only One Half Of Couple Wearing Mask</td>\n",
       "      <td>local</td>\n",
       "      <td>2020-05-20 18:42:00+00:00</td>\n",
       "      <td>the onion</td>\n",
       "      <td>1</td>\n",
       "      <td>2020</td>\n",
       "    </tr>\n",
       "    <tr>\n",
       "      <th>2</th>\n",
       "      <td>3675</td>\n",
       "      <td>Jessie Fleming turns pro, signs deal with Che...</td>\n",
       "      <td>sports</td>\n",
       "      <td>2020-07-22 14:25:21.526000+00:00</td>\n",
       "      <td>the globe and mail</td>\n",
       "      <td>0</td>\n",
       "      <td>2020</td>\n",
       "    </tr>\n",
       "    <tr>\n",
       "      <th>3</th>\n",
       "      <td>5440</td>\n",
       "      <td>Full Stream Ahead: Your best action movie bet...</td>\n",
       "      <td>arts</td>\n",
       "      <td>2020-04-30 21:50:59.493000+00:00</td>\n",
       "      <td>the globe and mail</td>\n",
       "      <td>0</td>\n",
       "      <td>2020</td>\n",
       "    </tr>\n",
       "    <tr>\n",
       "      <th>4</th>\n",
       "      <td>533</td>\n",
       "      <td>COVID-19 in Quebec: Province reports 133 new ...</td>\n",
       "      <td>canada</td>\n",
       "      <td>2020-08-06 16:04:46.296000+00:00</td>\n",
       "      <td>the globe and mail</td>\n",
       "      <td>0</td>\n",
       "      <td>2020</td>\n",
       "    </tr>\n",
       "  </tbody>\n",
       "</table>\n",
       "</div>"
      ],
      "text/plain": [
       "   index                                              title   topic  \\\n",
       "0  10523  Divorced Mom At Point In Life Where She Figure...   local   \n",
       "1  10440   Unclear Why Only One Half Of Couple Wearing Mask   local   \n",
       "2   3675   Jessie Fleming turns pro, signs deal with Che...  sports   \n",
       "3   5440   Full Stream Ahead: Your best action movie bet...    arts   \n",
       "4    533   COVID-19 in Quebec: Province reports 133 new ...  canada   \n",
       "\n",
       "                     date_published              source  satire  year  \n",
       "0         2020-03-16 15:39:00+00:00           the onion       1  2020  \n",
       "1         2020-05-20 18:42:00+00:00           the onion       1  2020  \n",
       "2  2020-07-22 14:25:21.526000+00:00  the globe and mail       0  2020  \n",
       "3  2020-04-30 21:50:59.493000+00:00  the globe and mail       0  2020  \n",
       "4  2020-08-06 16:04:46.296000+00:00  the globe and mail       0  2020  "
      ]
     },
     "execution_count": 10,
     "metadata": {},
     "output_type": "execute_result"
    }
   ],
   "source": [
    "# check\n",
    "\n",
    "df.head()"
   ]
  },
  {
   "cell_type": "code",
   "execution_count": 11,
   "metadata": {},
   "outputs": [
    {
     "data": {
      "text/plain": [
       "array(['the onion', 'the globe and mail', 'beaverton', 'nyt'],\n",
       "      dtype=object)"
      ]
     },
     "execution_count": 11,
     "metadata": {},
     "output_type": "execute_result"
    }
   ],
   "source": [
    "# Check!\n",
    "\n",
    "df['source'].unique()"
   ]
  },
  {
   "cell_type": "markdown",
   "metadata": {},
   "source": [
    "Now, I would code the sources into codes. I will add a new column for this."
   ]
  },
  {
   "cell_type": "code",
   "execution_count": 12,
   "metadata": {},
   "outputs": [],
   "source": [
    "# Add a new column for source_code\n",
    "\n",
    "df.loc[df['source'] == 'beaverton', 'source_code'] = 0\n",
    "df.loc[df['source'] == 'the globe and mail', 'source_code'] = 1\n",
    "df.loc[df['source'] == 'the onion', 'source_code'] = 2\n",
    "df.loc[df['source'] == 'nyt', 'source_code'] = 3"
   ]
  },
  {
   "cell_type": "code",
   "execution_count": 13,
   "metadata": {},
   "outputs": [
    {
     "data": {
      "text/html": [
       "<div>\n",
       "<style scoped>\n",
       "    .dataframe tbody tr th:only-of-type {\n",
       "        vertical-align: middle;\n",
       "    }\n",
       "\n",
       "    .dataframe tbody tr th {\n",
       "        vertical-align: top;\n",
       "    }\n",
       "\n",
       "    .dataframe thead th {\n",
       "        text-align: right;\n",
       "    }\n",
       "</style>\n",
       "<table border=\"1\" class=\"dataframe\">\n",
       "  <thead>\n",
       "    <tr style=\"text-align: right;\">\n",
       "      <th></th>\n",
       "      <th>index</th>\n",
       "      <th>title</th>\n",
       "      <th>topic</th>\n",
       "      <th>date_published</th>\n",
       "      <th>source</th>\n",
       "      <th>satire</th>\n",
       "      <th>year</th>\n",
       "      <th>source_code</th>\n",
       "    </tr>\n",
       "  </thead>\n",
       "  <tbody>\n",
       "    <tr>\n",
       "      <th>0</th>\n",
       "      <td>10523</td>\n",
       "      <td>Divorced Mom At Point In Life Where She Figure...</td>\n",
       "      <td>local</td>\n",
       "      <td>2020-03-16 15:39:00+00:00</td>\n",
       "      <td>the onion</td>\n",
       "      <td>1</td>\n",
       "      <td>2020</td>\n",
       "      <td>2.0</td>\n",
       "    </tr>\n",
       "    <tr>\n",
       "      <th>1</th>\n",
       "      <td>10440</td>\n",
       "      <td>Unclear Why Only One Half Of Couple Wearing Mask</td>\n",
       "      <td>local</td>\n",
       "      <td>2020-05-20 18:42:00+00:00</td>\n",
       "      <td>the onion</td>\n",
       "      <td>1</td>\n",
       "      <td>2020</td>\n",
       "      <td>2.0</td>\n",
       "    </tr>\n",
       "    <tr>\n",
       "      <th>2</th>\n",
       "      <td>3675</td>\n",
       "      <td>Jessie Fleming turns pro, signs deal with Che...</td>\n",
       "      <td>sports</td>\n",
       "      <td>2020-07-22 14:25:21.526000+00:00</td>\n",
       "      <td>the globe and mail</td>\n",
       "      <td>0</td>\n",
       "      <td>2020</td>\n",
       "      <td>1.0</td>\n",
       "    </tr>\n",
       "    <tr>\n",
       "      <th>3</th>\n",
       "      <td>5440</td>\n",
       "      <td>Full Stream Ahead: Your best action movie bet...</td>\n",
       "      <td>arts</td>\n",
       "      <td>2020-04-30 21:50:59.493000+00:00</td>\n",
       "      <td>the globe and mail</td>\n",
       "      <td>0</td>\n",
       "      <td>2020</td>\n",
       "      <td>1.0</td>\n",
       "    </tr>\n",
       "    <tr>\n",
       "      <th>4</th>\n",
       "      <td>533</td>\n",
       "      <td>COVID-19 in Quebec: Province reports 133 new ...</td>\n",
       "      <td>canada</td>\n",
       "      <td>2020-08-06 16:04:46.296000+00:00</td>\n",
       "      <td>the globe and mail</td>\n",
       "      <td>0</td>\n",
       "      <td>2020</td>\n",
       "      <td>1.0</td>\n",
       "    </tr>\n",
       "  </tbody>\n",
       "</table>\n",
       "</div>"
      ],
      "text/plain": [
       "   index                                              title   topic  \\\n",
       "0  10523  Divorced Mom At Point In Life Where She Figure...   local   \n",
       "1  10440   Unclear Why Only One Half Of Couple Wearing Mask   local   \n",
       "2   3675   Jessie Fleming turns pro, signs deal with Che...  sports   \n",
       "3   5440   Full Stream Ahead: Your best action movie bet...    arts   \n",
       "4    533   COVID-19 in Quebec: Province reports 133 new ...  canada   \n",
       "\n",
       "                     date_published              source  satire  year  \\\n",
       "0         2020-03-16 15:39:00+00:00           the onion       1  2020   \n",
       "1         2020-05-20 18:42:00+00:00           the onion       1  2020   \n",
       "2  2020-07-22 14:25:21.526000+00:00  the globe and mail       0  2020   \n",
       "3  2020-04-30 21:50:59.493000+00:00  the globe and mail       0  2020   \n",
       "4  2020-08-06 16:04:46.296000+00:00  the globe and mail       0  2020   \n",
       "\n",
       "   source_code  \n",
       "0          2.0  \n",
       "1          2.0  \n",
       "2          1.0  \n",
       "3          1.0  \n",
       "4          1.0  "
      ]
     },
     "execution_count": 13,
     "metadata": {},
     "output_type": "execute_result"
    }
   ],
   "source": [
    "# Check\n",
    "\n",
    "df.head()"
   ]
  },
  {
   "cell_type": "code",
   "execution_count": 23,
   "metadata": {},
   "outputs": [
    {
     "data": {
      "text/plain": [
       "array([2., 1., 0., 3.])"
      ]
     },
     "execution_count": 23,
     "metadata": {},
     "output_type": "execute_result"
    }
   ],
   "source": [
    "# Check!\n",
    "\n",
    "df['source_code'].unique()"
   ]
  },
  {
   "cell_type": "markdown",
   "metadata": {},
   "source": [
    "As it stands currently, the source code is stored as a float and not a string. To make things neat, I will transform this to integer type. "
   ]
  },
  {
   "cell_type": "code",
   "execution_count": 14,
   "metadata": {},
   "outputs": [],
   "source": [
    "# transform column to integer\n",
    "\n",
    "import numpy as np\n",
    "df['source_code'] = df['source_code'].apply(np.int64)"
   ]
  },
  {
   "cell_type": "code",
   "execution_count": 16,
   "metadata": {},
   "outputs": [
    {
     "data": {
      "text/html": [
       "<div>\n",
       "<style scoped>\n",
       "    .dataframe tbody tr th:only-of-type {\n",
       "        vertical-align: middle;\n",
       "    }\n",
       "\n",
       "    .dataframe tbody tr th {\n",
       "        vertical-align: top;\n",
       "    }\n",
       "\n",
       "    .dataframe thead th {\n",
       "        text-align: right;\n",
       "    }\n",
       "</style>\n",
       "<table border=\"1\" class=\"dataframe\">\n",
       "  <thead>\n",
       "    <tr style=\"text-align: right;\">\n",
       "      <th></th>\n",
       "      <th>index</th>\n",
       "      <th>title</th>\n",
       "      <th>topic</th>\n",
       "      <th>date_published</th>\n",
       "      <th>source</th>\n",
       "      <th>satire</th>\n",
       "      <th>year</th>\n",
       "      <th>source_code</th>\n",
       "    </tr>\n",
       "  </thead>\n",
       "  <tbody>\n",
       "    <tr>\n",
       "      <th>0</th>\n",
       "      <td>10523</td>\n",
       "      <td>Divorced Mom At Point In Life Where She Figure...</td>\n",
       "      <td>local</td>\n",
       "      <td>2020-03-16 15:39:00+00:00</td>\n",
       "      <td>the onion</td>\n",
       "      <td>1</td>\n",
       "      <td>2020</td>\n",
       "      <td>2</td>\n",
       "    </tr>\n",
       "    <tr>\n",
       "      <th>1</th>\n",
       "      <td>10440</td>\n",
       "      <td>Unclear Why Only One Half Of Couple Wearing Mask</td>\n",
       "      <td>local</td>\n",
       "      <td>2020-05-20 18:42:00+00:00</td>\n",
       "      <td>the onion</td>\n",
       "      <td>1</td>\n",
       "      <td>2020</td>\n",
       "      <td>2</td>\n",
       "    </tr>\n",
       "    <tr>\n",
       "      <th>2</th>\n",
       "      <td>3675</td>\n",
       "      <td>Jessie Fleming turns pro, signs deal with Che...</td>\n",
       "      <td>sports</td>\n",
       "      <td>2020-07-22 14:25:21.526000+00:00</td>\n",
       "      <td>the globe and mail</td>\n",
       "      <td>0</td>\n",
       "      <td>2020</td>\n",
       "      <td>1</td>\n",
       "    </tr>\n",
       "    <tr>\n",
       "      <th>3</th>\n",
       "      <td>5440</td>\n",
       "      <td>Full Stream Ahead: Your best action movie bet...</td>\n",
       "      <td>arts</td>\n",
       "      <td>2020-04-30 21:50:59.493000+00:00</td>\n",
       "      <td>the globe and mail</td>\n",
       "      <td>0</td>\n",
       "      <td>2020</td>\n",
       "      <td>1</td>\n",
       "    </tr>\n",
       "    <tr>\n",
       "      <th>4</th>\n",
       "      <td>533</td>\n",
       "      <td>COVID-19 in Quebec: Province reports 133 new ...</td>\n",
       "      <td>canada</td>\n",
       "      <td>2020-08-06 16:04:46.296000+00:00</td>\n",
       "      <td>the globe and mail</td>\n",
       "      <td>0</td>\n",
       "      <td>2020</td>\n",
       "      <td>1</td>\n",
       "    </tr>\n",
       "  </tbody>\n",
       "</table>\n",
       "</div>"
      ],
      "text/plain": [
       "   index                                              title   topic  \\\n",
       "0  10523  Divorced Mom At Point In Life Where She Figure...   local   \n",
       "1  10440   Unclear Why Only One Half Of Couple Wearing Mask   local   \n",
       "2   3675   Jessie Fleming turns pro, signs deal with Che...  sports   \n",
       "3   5440   Full Stream Ahead: Your best action movie bet...    arts   \n",
       "4    533   COVID-19 in Quebec: Province reports 133 new ...  canada   \n",
       "\n",
       "                     date_published              source  satire  year  \\\n",
       "0         2020-03-16 15:39:00+00:00           the onion       1  2020   \n",
       "1         2020-05-20 18:42:00+00:00           the onion       1  2020   \n",
       "2  2020-07-22 14:25:21.526000+00:00  the globe and mail       0  2020   \n",
       "3  2020-04-30 21:50:59.493000+00:00  the globe and mail       0  2020   \n",
       "4  2020-08-06 16:04:46.296000+00:00  the globe and mail       0  2020   \n",
       "\n",
       "   source_code  \n",
       "0            2  \n",
       "1            2  \n",
       "2            1  \n",
       "3            1  \n",
       "4            1  "
      ]
     },
     "execution_count": 16,
     "metadata": {},
     "output_type": "execute_result"
    }
   ],
   "source": [
    "# Check!\n",
    "\n",
    "df.head()"
   ]
  },
  {
   "cell_type": "markdown",
   "metadata": {},
   "source": [
    "I think it's now is the time to see the distribution of article sources."
   ]
  },
  {
   "cell_type": "code",
   "execution_count": 18,
   "metadata": {},
   "outputs": [
    {
     "data": {
      "image/png": "[encoded data removed]",
      "text/plain": [
       "<Figure size 432x288 with 1 Axes>"
      ]
     },
     "metadata": {
      "image/png": {
       "height": 248,
       "width": 388
      },
      "needs_background": "light"
     },
     "output_type": "display_data"
    }
   ],
   "source": [
    "# check out the article source distribution\n",
    "\n",
    "df['source_code'].hist();"
   ]
  },
  {
   "cell_type": "markdown",
   "metadata": {},
   "source": [
    "Whewww there are definitely more articles coming from the onion and the nyt than ones coming from the globe and mail. I will now resample the articles from nyt and the onions to be 3000 each. I think that would be a fair amount to make things more balanced. As previously done, I will sample without replacement."
   ]
  },
  {
   "cell_type": "code",
   "execution_count": 19,
   "metadata": {},
   "outputs": [],
   "source": [
    "# separate data by sources\n",
    "\n",
    "df_0 =  df[df.source_code == 0]\n",
    "df_1 =  df[df.source_code == 1]\n",
    "df_2 =  df[df.source_code == 2]\n",
    "df_3 =  df[df.source_code == 3]"
   ]
  },
  {
   "cell_type": "code",
   "execution_count": 20,
   "metadata": {},
   "outputs": [],
   "source": [
    "from sklearn.utils import resample\n",
    "\n",
    "# downsample the onion and the nyt\n",
    "df_2_downsampled = resample(df_2, \n",
    "                            replace=False,\n",
    "                            n_samples=3000,\n",
    "                            random_state=99)\n",
    "df_3_downsampled = resample(df_3, \n",
    "                            replace=False,\n",
    "                            n_samples=3000,\n",
    "                            random_state=99)\n",
    "\n",
    "# combine all the data\n",
    "df_downsampled = pd.concat([df_0, df_1, df_2_downsampled, df_3_downsampled])\n",
    " "
   ]
  },
  {
   "cell_type": "code",
   "execution_count": 39,
   "metadata": {},
   "outputs": [
    {
     "data": {
      "text/plain": [
       "(11960, 7)"
      ]
     },
     "execution_count": 39,
     "metadata": {},
     "output_type": "execute_result"
    }
   ],
   "source": [
    "# check\n",
    "\n",
    "df_downsampled.shape"
   ]
  },
  {
   "cell_type": "markdown",
   "metadata": {},
   "source": [
    "Our final df still have almost 12,000 data points, which should be enough to train a model.  I will now check for the distribution once more."
   ]
  },
  {
   "cell_type": "code",
   "execution_count": 21,
   "metadata": {},
   "outputs": [
    {
     "data": {
      "image/png": "[encoded data removed]",
      "text/plain": [
       "<Figure size 432x288 with 1 Axes>"
      ]
     },
     "metadata": {
      "image/png": {
       "height": 250,
       "width": 381
      },
      "needs_background": "light"
     },
     "output_type": "display_data"
    }
   ],
   "source": [
    "# check distribution\n",
    "\n",
    "df_downsampled['source_code'].hist();"
   ]
  },
  {
   "cell_type": "markdown",
   "metadata": {},
   "source": [
    "The data is more or less balance now. I will perform a train test split with this data. I will only need a train and test set for this data as I will use the BERT model for this data and TF does cross validation automatically."
   ]
  },
  {
   "cell_type": "code",
   "execution_count": 24,
   "metadata": {},
   "outputs": [],
   "source": [
    "from sklearn.model_selection import train_test_split\n",
    "\n",
    "train, test = train_test_split(df_downsampled, test_size = 0.2, random_state = 99, stratify = df_downsampled['source_code'])"
   ]
  },
  {
   "cell_type": "code",
   "execution_count": 25,
   "metadata": {},
   "outputs": [
    {
     "data": {
      "text/plain": [
       "(9568, 8)"
      ]
     },
     "execution_count": 25,
     "metadata": {},
     "output_type": "execute_result"
    }
   ],
   "source": [
    "# Check\n",
    "\n",
    "train.shape"
   ]
  },
  {
   "cell_type": "code",
   "execution_count": 26,
   "metadata": {},
   "outputs": [
    {
     "data": {
      "text/plain": [
       "(2392, 8)"
      ]
     },
     "execution_count": 26,
     "metadata": {},
     "output_type": "execute_result"
    }
   ],
   "source": [
    "# Check\n",
    "\n",
    "test.shape"
   ]
  },
  {
   "cell_type": "markdown",
   "metadata": {},
   "source": [
    "I will save the train and test data to csv for convenience now."
   ]
  },
  {
   "cell_type": "code",
   "execution_count": 46,
   "metadata": {},
   "outputs": [],
   "source": [
    "train.to_csv('data/BERT_data/train_multi.csv')"
   ]
  },
  {
   "cell_type": "code",
   "execution_count": 47,
   "metadata": {},
   "outputs": [],
   "source": [
    "test.to_csv('data/BERT_data/test_multi.csv')"
   ]
  },
  {
   "cell_type": "markdown",
   "metadata": {},
   "source": [
    "I will now fit this data into a 4 classes classification BERT model."
   ]
  },
  {
   "cell_type": "code",
   "execution_count": null,
   "metadata": {},
   "outputs": [],
   "source": []
  }
 ],
 "metadata": {
  "kernelspec": {
   "display_name": "deeplearning",
   "language": "python",
   "name": "deeplearning"
  },
  "language_info": {
   "codemirror_mode": {
    "name": "ipython",
    "version": 3
   },
   "file_extension": ".py",
   "mimetype": "text/x-python",
   "name": "python",
   "nbconvert_exporter": "python",
   "pygments_lexer": "ipython3",
   "version": "3.8.2"
  }
 },
 "nbformat": 4,
 "nbformat_minor": 4
}
