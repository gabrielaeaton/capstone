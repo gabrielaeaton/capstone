{
 "cells": [
  {
   "cell_type": "markdown",
   "metadata": {},
   "source": [
    "**Gabriela Tanumihardja**</br>\n",
    "**Capstone Project - Part VIIA** </br>\n",
    "**Data prep for BERT Multiclass**"
   ]
  },
  {
   "cell_type": "code",
   "execution_count": 1,
   "metadata": {},
   "outputs": [],
   "source": [
    "import pandas as pd\n",
    "import numpy as np\n",
    "import matplotlib.pyplot as plt\n",
    "import seaborn as sns\n",
    "import re\n",
    "from sklearn.linear_model import LogisticRegression\n",
    "import datetime\n",
    "from sklearn.feature_extraction.text import CountVectorizer\n",
    "%config InlineBackend.figure_format='retina'\n",
    "from sklearn.model_selection import train_test_split\n",
    "from sklearn.feature_extraction.text import CountVectorizer\n",
    "from nltk.corpus import wordnet as wn\n",
    "from nltk.stem.wordnet import WordNetLemmatizer\n",
    "from nltk import word_tokenize, pos_tag\n",
    "from collections import defaultdict\n",
    "from nltk.corpus import stopwords\n",
    "import string\n",
    "from operator import itemgetter\n",
    "from wordcloud import WordCloud\n",
    "\n",
    "%matplotlib inline"
   ]
  },
  {
   "cell_type": "markdown",
   "metadata": {},
   "source": [
    "For convenience, I will perform a data split to use with the BERT model. I will first read in the data"
   ]
  },
  {
   "cell_type": "code",
   "execution_count": 2,
   "metadata": {},
   "outputs": [],
   "source": [
    "# read in data\n",
    "\n",
    "df = pd.read_csv('data/year_sampled.csv', index_col = 0)"
   ]
  },
  {
   "cell_type": "code",
   "execution_count": 3,
   "metadata": {},
   "outputs": [
    {
     "data": {
      "text/html": [
       "<div>\n",
       "<style scoped>\n",
       "    .dataframe tbody tr th:only-of-type {\n",
       "        vertical-align: middle;\n",
       "    }\n",
       "\n",
       "    .dataframe tbody tr th {\n",
       "        vertical-align: top;\n",
       "    }\n",
       "\n",
       "    .dataframe thead th {\n",
       "        text-align: right;\n",
       "    }\n",
       "</style>\n",
       "<table border=\"1\" class=\"dataframe\">\n",
       "  <thead>\n",
       "    <tr style=\"text-align: right;\">\n",
       "      <th></th>\n",
       "      <th>index</th>\n",
       "      <th>title</th>\n",
       "      <th>topic</th>\n",
       "      <th>date_published</th>\n",
       "      <th>source</th>\n",
       "      <th>satire</th>\n",
       "      <th>year</th>\n",
       "    </tr>\n",
       "  </thead>\n",
       "  <tbody>\n",
       "    <tr>\n",
       "      <th>0</th>\n",
       "      <td>10523</td>\n",
       "      <td>Divorced Mom At Point In Life Where She Figure...</td>\n",
       "      <td>local</td>\n",
       "      <td>2020-03-16 15:39:00+00:00</td>\n",
       "      <td>the onion</td>\n",
       "      <td>1</td>\n",
       "      <td>2020</td>\n",
       "    </tr>\n",
       "    <tr>\n",
       "      <th>1</th>\n",
       "      <td>10440</td>\n",
       "      <td>Unclear Why Only One Half Of Couple Wearing Mask</td>\n",
       "      <td>local</td>\n",
       "      <td>2020-05-20 18:42:00+00:00</td>\n",
       "      <td>the onion</td>\n",
       "      <td>1</td>\n",
       "      <td>2020</td>\n",
       "    </tr>\n",
       "    <tr>\n",
       "      <th>2</th>\n",
       "      <td>3675</td>\n",
       "      <td>Jessie Fleming turns pro, signs deal with Che...</td>\n",
       "      <td>sports</td>\n",
       "      <td>2020-07-22 14:25:21.526000+00:00</td>\n",
       "      <td>the globe and mail</td>\n",
       "      <td>0</td>\n",
       "      <td>2020</td>\n",
       "    </tr>\n",
       "    <tr>\n",
       "      <th>3</th>\n",
       "      <td>5440</td>\n",
       "      <td>Full Stream Ahead: Your best action movie bet...</td>\n",
       "      <td>arts</td>\n",
       "      <td>2020-04-30 21:50:59.493000+00:00</td>\n",
       "      <td>the globe and mail</td>\n",
       "      <td>0</td>\n",
       "      <td>2020</td>\n",
       "    </tr>\n",
       "    <tr>\n",
       "      <th>4</th>\n",
       "      <td>533</td>\n",
       "      <td>COVID-19 in Quebec: Province reports 133 new ...</td>\n",
       "      <td>canada</td>\n",
       "      <td>2020-08-06 16:04:46.296000+00:00</td>\n",
       "      <td>the globe and mail</td>\n",
       "      <td>0</td>\n",
       "      <td>2020</td>\n",
       "    </tr>\n",
       "  </tbody>\n",
       "</table>\n",
       "</div>"
      ],
      "text/plain": [
       "   index                                              title   topic  \\\n",
       "0  10523  Divorced Mom At Point In Life Where She Figure...   local   \n",
       "1  10440   Unclear Why Only One Half Of Couple Wearing Mask   local   \n",
       "2   3675   Jessie Fleming turns pro, signs deal with Che...  sports   \n",
       "3   5440   Full Stream Ahead: Your best action movie bet...    arts   \n",
       "4    533   COVID-19 in Quebec: Province reports 133 new ...  canada   \n",
       "\n",
       "                     date_published              source  satire  year  \n",
       "0         2020-03-16 15:39:00+00:00           the onion       1  2020  \n",
       "1         2020-05-20 18:42:00+00:00           the onion       1  2020  \n",
       "2  2020-07-22 14:25:21.526000+00:00  the globe and mail       0  2020  \n",
       "3  2020-04-30 21:50:59.493000+00:00  the globe and mail       0  2020  \n",
       "4  2020-08-06 16:04:46.296000+00:00  the globe and mail       0  2020  "
      ]
     },
     "execution_count": 3,
     "metadata": {},
     "output_type": "execute_result"
    }
   ],
   "source": [
    "# check\n",
    "\n",
    "df.head()"
   ]
  },
  {
   "cell_type": "code",
   "execution_count": 18,
   "metadata": {},
   "outputs": [],
   "source": [
    "# Do train test split\n",
    "\n",
    "from sklearn.model_selection import train_test_split\n",
    "\n",
    "train, test = train_test_split(df, test_size = 0.2, random_state = 99, stratify = df['satire'])"
   ]
  },
  {
   "cell_type": "code",
   "execution_count": 19,
   "metadata": {},
   "outputs": [
    {
     "data": {
      "text/plain": [
       "(27788, 6)"
      ]
     },
     "execution_count": 19,
     "metadata": {},
     "output_type": "execute_result"
    }
   ],
   "source": [
    "# Check\n",
    "\n",
    "train.shape"
   ]
  },
  {
   "cell_type": "code",
   "execution_count": 20,
   "metadata": {},
   "outputs": [
    {
     "data": {
      "text/plain": [
       "(6948, 6)"
      ]
     },
     "execution_count": 20,
     "metadata": {},
     "output_type": "execute_result"
    }
   ],
   "source": [
    "# Check\n",
    "\n",
    "test.shape"
   ]
  },
  {
   "cell_type": "markdown",
   "metadata": {},
   "source": [
    "I will now save the train and test data to make it easy to load."
   ]
  },
  {
   "cell_type": "code",
   "execution_count": 22,
   "metadata": {},
   "outputs": [],
   "source": [
    "# save the csvs\n",
    "\n",
    "train.to_csv('data/BERT_data/train.csv')\n",
    "test.to_csv('data/BERT_data/test.csv')"
   ]
  }
 ],
 "metadata": {
  "kernelspec": {
   "display_name": "deeplearning",
   "language": "python",
   "name": "deeplearning"
  },
  "language_info": {
   "codemirror_mode": {
    "name": "ipython",
    "version": 3
   },
   "file_extension": ".py",
   "mimetype": "text/x-python",
   "name": "python",
   "nbconvert_exporter": "python",
   "pygments_lexer": "ipython3",
   "version": "3.8.2"
  }
 },
 "nbformat": 4,
 "nbformat_minor": 4
}
