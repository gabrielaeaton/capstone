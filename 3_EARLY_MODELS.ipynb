{
 "cells": [
  {
   "cell_type": "markdown",
   "metadata": {},
   "source": [
    "**Gabriela Tanumihardja**</br>\n",
    "**Capstone Project - Part III** </br>\n",
    "**Preliminary Models**"
   ]
  },
  {
   "cell_type": "markdown",
   "metadata": {},
   "source": [
    "## Table of contents\n",
    "1. [Loading data](#load)\n",
    "2. [Data preprocessing](#preprocess)</br>\n",
    "    2.1 [Data split](#split)</br>\n",
    "    2.3 [Bag of words](#bow)</br>\n",
    "3. [Preliminary models](#prelim)</br>\n",
    "    3.1 [Logistic regression](#logit)</br>\n",
    "    3.2 [Dimensional Reduction - PCA](#pca)</br>\n",
    "    3.3 [KNN](#knn)</br>\n",
    "    3.4 [Decision tree](#dt)</br>\n",
    "    3.5 [SVM](#svm)\n",
    "4. [TF-IDF](#tfidf)</br>\n",
    "    4.1 [PCA optimization](#pcaopt)</br>\n",
    "    4.2 [Logistic regression](#logittfidf)</br>\n",
    "    4.3 [KNN](#knntfidf)</br>\n",
    "    4.4 [SVM](#svmtfidf)</br>\n",
    "    4.5 [AdaBoost and random forest](#boost)\n",
    "***"
   ]
  },
  {
   "cell_type": "code",
   "execution_count": 21,
   "metadata": {},
   "outputs": [],
   "source": [
    "import pandas as pd\n",
    "import numpy as np\n",
    "import matplotlib.pyplot as plt\n",
    "import seaborn as sns\n",
    "import re\n",
    "from sklearn.linear_model import LogisticRegression\n",
    "import datetime\n",
    "from sklearn.feature_extraction.text import CountVectorizer\n",
    "%config InlineBackend.figure_format='retina'\n",
    "from sklearn.model_selection import train_test_split\n",
    "from nltk.corpus import wordnet as wn\n",
    "from nltk.stem.wordnet import WordNetLemmatizer\n",
    "from nltk import word_tokenize, pos_tag\n",
    "from collections import defaultdict\n",
    "from nltk.corpus import stopwords\n",
    "import string\n",
    "from operator import itemgetter\n",
    "from wordcloud import WordCloud\n",
    "\n",
    "%matplotlib inline"
   ]
  },
  {
   "cell_type": "markdown",
   "metadata": {},
   "source": [
    "***"
   ]
  },
  {
   "cell_type": "markdown",
   "metadata": {},
   "source": [
    "### Loading data\n",
    "<a id='load'></a>"
   ]
  },
  {
   "cell_type": "markdown",
   "metadata": {},
   "source": [
    "In this notebook, I would like to fit some preliminary models for my data. Models that I am looking to fit are:\n",
    "- Logistic regression\n",
    "- Decision tree\n",
    "- KNN\n",
    "- SVM\n",
    "- Random Forest\n",
    "- AdaBoost?\n",
    "\n",
    "I will begin the exploration by using CountVectorizer but most likely, I will move on to TFIDF as I think it may perform better in my models. I will use the tokenizer I had crafted in the second notebook. At this point in time, I am not planning on doing any optimization. I want to see the baseline performance of each model. I expect I would need to tweak my data after these preliminary fittings. First thing first, loading the data..."
   ]
  },
  {
   "cell_type": "code",
   "execution_count": 4,
   "metadata": {},
   "outputs": [],
   "source": [
    "# Load the clean csv\n",
    "\n",
    "df = pd.read_csv('data/clean_df.csv')"
   ]
  },
  {
   "cell_type": "code",
   "execution_count": 6,
   "metadata": {},
   "outputs": [
    {
     "data": {
      "text/html": [
       "<div>\n",
       "<style scoped>\n",
       "    .dataframe tbody tr th:only-of-type {\n",
       "        vertical-align: middle;\n",
       "    }\n",
       "\n",
       "    .dataframe tbody tr th {\n",
       "        vertical-align: top;\n",
       "    }\n",
       "\n",
       "    .dataframe thead th {\n",
       "        text-align: right;\n",
       "    }\n",
       "</style>\n",
       "<table border=\"1\" class=\"dataframe\">\n",
       "  <thead>\n",
       "    <tr style=\"text-align: right;\">\n",
       "      <th></th>\n",
       "      <th>title</th>\n",
       "      <th>topic</th>\n",
       "      <th>date_published</th>\n",
       "      <th>source</th>\n",
       "      <th>satire</th>\n",
       "    </tr>\n",
       "  </thead>\n",
       "  <tbody>\n",
       "    <tr>\n",
       "      <th>0</th>\n",
       "      <td>Guy who has definitely gotten into a fight at ...</td>\n",
       "      <td>national</td>\n",
       "      <td>2020-08-24T12:20:03-04:00</td>\n",
       "      <td>beaverton</td>\n",
       "      <td>1</td>\n",
       "    </tr>\n",
       "    <tr>\n",
       "      <th>1</th>\n",
       "      <td>Party that wants to manage government can’t ma...</td>\n",
       "      <td>national</td>\n",
       "      <td>2020-08-24T09:49:25-04:00</td>\n",
       "      <td>beaverton</td>\n",
       "      <td>1</td>\n",
       "    </tr>\n",
       "    <tr>\n",
       "      <th>2</th>\n",
       "      <td>Canada searches for new country to compare our...</td>\n",
       "      <td>national</td>\n",
       "      <td>2020-08-21T15:14:56-04:00</td>\n",
       "      <td>beaverton</td>\n",
       "      <td>1</td>\n",
       "    </tr>\n",
       "    <tr>\n",
       "      <th>3</th>\n",
       "      <td>Trudeau hopes giving Parliament five week vaca...</td>\n",
       "      <td>national</td>\n",
       "      <td>2020-08-18T19:08:42-04:00</td>\n",
       "      <td>beaverton</td>\n",
       "      <td>1</td>\n",
       "    </tr>\n",
       "    <tr>\n",
       "      <th>4</th>\n",
       "      <td>Highlights of Andrew Scheer’s tenure as Conser...</td>\n",
       "      <td>national</td>\n",
       "      <td>2020-08-17T11:34:45-04:00</td>\n",
       "      <td>beaverton</td>\n",
       "      <td>1</td>\n",
       "    </tr>\n",
       "  </tbody>\n",
       "</table>\n",
       "</div>"
      ],
      "text/plain": [
       "                                               title     topic  \\\n",
       "0  Guy who has definitely gotten into a fight at ...  national   \n",
       "1  Party that wants to manage government can’t ma...  national   \n",
       "2  Canada searches for new country to compare our...  national   \n",
       "3  Trudeau hopes giving Parliament five week vaca...  national   \n",
       "4  Highlights of Andrew Scheer’s tenure as Conser...  national   \n",
       "\n",
       "              date_published     source  satire  \n",
       "0  2020-08-24T12:20:03-04:00  beaverton       1  \n",
       "1  2020-08-24T09:49:25-04:00  beaverton       1  \n",
       "2  2020-08-21T15:14:56-04:00  beaverton       1  \n",
       "3  2020-08-18T19:08:42-04:00  beaverton       1  \n",
       "4  2020-08-17T11:34:45-04:00  beaverton       1  "
      ]
     },
     "execution_count": 6,
     "metadata": {},
     "output_type": "execute_result"
    }
   ],
   "source": [
    "# Check!\n",
    "\n",
    "df.head()"
   ]
  },
  {
   "cell_type": "markdown",
   "metadata": {},
   "source": [
    "***"
   ]
  },
  {
   "cell_type": "markdown",
   "metadata": {},
   "source": [
    "### Data Preprocessing\n",
    "<a id='preprocess'></a>"
   ]
  },
  {
   "cell_type": "markdown",
   "metadata": {},
   "source": [
    "#### Data split\n",
    "<a id='split'></a>"
   ]
  },
  {
   "cell_type": "markdown",
   "metadata": {},
   "source": [
    "Some preprocessing is needed to be done first. I will separate the data to predictor (title) and target (satire)."
   ]
  },
  {
   "cell_type": "code",
   "execution_count": 7,
   "metadata": {},
   "outputs": [],
   "source": [
    "# Specify X and y\n",
    "\n",
    "X = df['title']\n",
    "y = df['satire']"
   ]
  },
  {
   "cell_type": "code",
   "execution_count": 8,
   "metadata": {},
   "outputs": [
    {
     "data": {
      "text/plain": [
       "0        Guy who has definitely gotten into a fight at ...\n",
       "1        Party that wants to manage government can’t ma...\n",
       "2        Canada searches for new country to compare our...\n",
       "3        Trudeau hopes giving Parliament five week vaca...\n",
       "4        Highlights of Andrew Scheer’s tenure as Conser...\n",
       "                               ...                        \n",
       "46093    Hugh Hefner Comes Out of Retirement, Changes P...\n",
       "46094         Nine Drawn and Quartered at Renaissance Fair\n",
       "46095                               Congress Hires Drummer\n",
       "46096                                          Sonic Booms\n",
       "46097                                  Your Real Horoscope\n",
       "Name: title, Length: 46098, dtype: object"
      ]
     },
     "execution_count": 8,
     "metadata": {},
     "output_type": "execute_result"
    }
   ],
   "source": [
    "# Check!\n",
    "\n",
    "X"
   ]
  },
  {
   "cell_type": "code",
   "execution_count": 9,
   "metadata": {},
   "outputs": [
    {
     "data": {
      "text/plain": [
       "0        1\n",
       "1        1\n",
       "2        1\n",
       "3        1\n",
       "4        1\n",
       "        ..\n",
       "46093    1\n",
       "46094    1\n",
       "46095    1\n",
       "46096    1\n",
       "46097    1\n",
       "Name: satire, Length: 46098, dtype: int64"
      ]
     },
     "execution_count": 9,
     "metadata": {},
     "output_type": "execute_result"
    }
   ],
   "source": [
    "# Check!\n",
    "\n",
    "y"
   ]
  },
  {
   "cell_type": "markdown",
   "metadata": {},
   "source": [
    "I will now perform a train test split on my data. I will first split the data to remainder and test. I will reserve the test set for my final model. From the remainder set, I will split it into a train set and a validation set. I will stratify each split by the satire classes. I have a sizeable data, so I will set aside 10% for each test and validation (10% of remainder set in this case)."
   ]
  },
  {
   "cell_type": "code",
   "execution_count": 11,
   "metadata": {},
   "outputs": [],
   "source": [
    "# Split into remainder and test\n",
    "\n",
    "X_rem, X_test, y_rem, y_test = train_test_split(X, y, test_size = 0.1, random_state = 99, stratify = y)"
   ]
  },
  {
   "cell_type": "code",
   "execution_count": 12,
   "metadata": {},
   "outputs": [],
   "source": [
    "# Split into train and validation\n",
    "\n",
    "X_train, X_val, y_train, y_val = train_test_split(X_rem, y_rem, test_size = 0.1, random_state = 99, stratify = y_rem)"
   ]
  },
  {
   "cell_type": "code",
   "execution_count": 16,
   "metadata": {},
   "outputs": [],
   "source": [
    "# Reset indices for easier handling\n",
    "\n",
    "dfs = [X_rem, X_train, X_val, X_test, y_rem, y_train, y_val, y_test]\n",
    "\n",
    "for df in dfs:\n",
    "    df.reset_index(inplace = True, drop = True)"
   ]
  },
  {
   "cell_type": "code",
   "execution_count": 17,
   "metadata": {},
   "outputs": [
    {
     "data": {
      "text/plain": [
       "(41488,)"
      ]
     },
     "execution_count": 17,
     "metadata": {},
     "output_type": "execute_result"
    }
   ],
   "source": [
    "# Check!\n",
    "\n",
    "X_rem.shape"
   ]
  },
  {
   "cell_type": "code",
   "execution_count": 20,
   "metadata": {},
   "outputs": [
    {
     "data": {
      "text/plain": [
       "(4149,)"
      ]
     },
     "execution_count": 20,
     "metadata": {},
     "output_type": "execute_result"
    }
   ],
   "source": [
    "# Check!\n",
    "\n",
    "X_val.shape"
   ]
  },
  {
   "cell_type": "markdown",
   "metadata": {},
   "source": [
    "***\n",
    "#### Bag of Words\n",
    "<a id='bow'></a>"
   ]
  },
  {
   "cell_type": "markdown",
   "metadata": {},
   "source": [
    "Each set seems to be appropriately sized and they seem to be split correctly. I will now define my tokenizer. I will be using the exact same tokenizer as before."
   ]
  },
  {
   "cell_type": "code",
   "execution_count": 26,
   "metadata": {},
   "outputs": [],
   "source": [
    "# specify stop words\n",
    "\n",
    "ENGLISH_STOP_WORDS = stopwords.words('english')\n",
    "lemmatizer = WordNetLemmatizer()"
   ]
  },
  {
   "cell_type": "code",
   "execution_count": 27,
   "metadata": {},
   "outputs": [],
   "source": [
    "# My-Trusty-Tokenizer\n",
    "\n",
    "def my_tokenizer(sentence):\n",
    "    \n",
    "    # translation of pos_tag label to wordnet's label\n",
    "    t_map = defaultdict(lambda : wn.NOUN)\n",
    "    t_map['J'] = wn.ADJ\n",
    "    t_map['V'] = wn.VERB\n",
    "    t_map['R'] = wn.ADV\n",
    "\n",
    "    for punctuation_mark in string.punctuation:\n",
    "        # Remove punctuation and set to lower case\n",
    "        sentence = sentence.replace(punctuation_mark,'').replace('  ' , ' ').lower()\n",
    "    \n",
    "    # remove any first and last empty spaces\n",
    "    sentence = re.sub('^ ', '', sentence)\n",
    "    sentence = re.sub(' $', '', sentence)\n",
    "        \n",
    "    # split sentence into words\n",
    "    listofwords = sentence.split(' ')\n",
    "    listoflemmas = []\n",
    "    \n",
    "    # get each word's pos_tag\n",
    "    tagged = pos_tag(listofwords)\n",
    "\n",
    "    # Remove stopwords and any tokens that are just empty strings\n",
    "    for word, tag in tagged:\n",
    "        # remove stop words, empty words and more spaces \n",
    "        if (not word in ENGLISH_STOP_WORDS) and (word!='') and (word != ' '):\n",
    "            # Turn words to lemmas - according to their wn labels\n",
    "            lemma = lemmatizer.lemmatize(word, t_map[tag[0]])\n",
    "            listoflemmas.append(lemma)\n",
    "\n",
    "    return listoflemmas"
   ]
  },
  {
   "cell_type": "markdown",
   "metadata": {},
   "source": [
    "I will now transform my data. I will be using count vectorizer for now. I will fit the count vectorizer on the train set and transform both the train set, remainder set, and the validation set. I will be transforming the remainder set to use in cross validation instances. I will use a min_df of 10, taking into account only words that appear at least 10 times in the whole document."
   ]
  },
  {
   "cell_type": "code",
   "execution_count": 28,
   "metadata": {},
   "outputs": [],
   "source": [
    "### TRAINING SET! ###\n",
    "\n",
    "# 1. Instantiate\n",
    "bagofwords = CountVectorizer(min_df = 10, tokenizer = my_tokenizer)\n",
    "\n",
    "# 2. Fit\n",
    "bagofwords.fit(X_train)\n",
    "\n",
    "# 3.1 Transform train set\n",
    "X_train_transformed = bagofwords.transform(X_train)\n",
    "\n",
    "# 3.2 Transform validation set\n",
    "\n",
    "X_val_transformed = bagofwords.transform(X_val)\n",
    "\n",
    "X_rem_transformed = bagofwords.transform(X_rem)"
   ]
  },
  {
   "cell_type": "code",
   "execution_count": 29,
   "metadata": {},
   "outputs": [],
   "source": [
    "# Turn to df\n",
    "\n",
    "X_train_df = pd.DataFrame(X_train_transformed.todense(), columns = bagofwords.get_feature_names())\n",
    "\n",
    "X_val_df = pd.DataFrame(X_val_transformed.todense(), columns = bagofwords.get_feature_names())\n",
    "\n",
    "X_rem_df = pd.DataFrame(X_rem_transformed.todense(), columns = bagofwords.get_feature_names())"
   ]
  },
  {
   "cell_type": "code",
   "execution_count": 30,
   "metadata": {},
   "outputs": [
    {
     "name": "stdout",
     "output_type": "stream",
     "text": [
      "Train shape: (37339, 4196)\n",
      "Remainder shape: (41488, 4196)\n",
      "Val shape: (4149, 4196)\n"
     ]
    }
   ],
   "source": [
    "# Check!\n",
    "\n",
    "print(f'Train shape: {X_train_df.shape}')\n",
    "print(f'Remainder shape: {X_rem_df.shape}')\n",
    "print(f'Val shape: {X_val_df.shape}')"
   ]
  },
  {
   "cell_type": "markdown",
   "metadata": {},
   "source": [
    "Looking good! I will now move on and start fitting models."
   ]
  },
  {
   "cell_type": "markdown",
   "metadata": {},
   "source": [
    "***\n",
    "### Preliminary Models\n",
    "<a id='prelim'></a>\n",
    "#### Logit\n",
    "<a id='logit'></a>"
   ]
  },
  {
   "cell_type": "markdown",
   "metadata": {},
   "source": [
    "I will now start a logistic regression model. This model, while condsiered the simplest, is the most interpretable. I think it is a very good place to start as I could pull out the most predictive words and see whether further data manipulation is needed. (Keeping in mind possible biases from cleaning.) I will be using the default logistic regression for this initial model (lbfgs, C = 1)."
   ]
  },
  {
   "cell_type": "code",
   "execution_count": 31,
   "metadata": {},
   "outputs": [
    {
     "name": "stderr",
     "output_type": "stream",
     "text": [
      "/Users/gabrielatanumihardja/opt/anaconda3/envs/deeplearning/lib/python3.8/site-packages/sklearn/linear_model/_logistic.py:762: ConvergenceWarning: lbfgs failed to converge (status=1):\n",
      "STOP: TOTAL NO. of ITERATIONS REACHED LIMIT.\n",
      "\n",
      "Increase the number of iterations (max_iter) or scale the data as shown in:\n",
      "    https://scikit-learn.org/stable/modules/preprocessing.html\n",
      "Please also refer to the documentation for alternative solver options:\n",
      "    https://scikit-learn.org/stable/modules/linear_model.html#logistic-regression\n",
      "  n_iter_i = _check_optimize_result(\n"
     ]
    },
    {
     "data": {
      "text/plain": [
       "LogisticRegression()"
      ]
     },
     "execution_count": 31,
     "metadata": {},
     "output_type": "execute_result"
    }
   ],
   "source": [
    "from sklearn.linear_model import LogisticRegression\n",
    "\n",
    "# 1 Instantiate\n",
    "\n",
    "logit = LogisticRegression()\n",
    "\n",
    "# 2 Fit\n",
    "\n",
    "logit.fit(X_train_df, y_train)"
   ]
  },
  {
   "cell_type": "code",
   "execution_count": 32,
   "metadata": {},
   "outputs": [
    {
     "name": "stdout",
     "output_type": "stream",
     "text": [
      "Score of training: 0.8800449931706794\n",
      "Score of validation: 0.8339358881658231\n"
     ]
    }
   ],
   "source": [
    "# 3 Score\n",
    "\n",
    "print(f'Score of training: {logit.score(X_train_df, y_train)}')\n",
    "print(f'Score of validation: {logit.score(X_val_df, y_val)}')"
   ]
  },
  {
   "cell_type": "markdown",
   "metadata": {},
   "source": [
    "Wow, that result is very high. I certainly did not expect it, I am rather skeptical to the actual reason for this very high result. Thankfully, with logit, I could pull out the coefs and see what the model is actually predicting. (Thank goodness for regressions 🎉🎉) I will begin the evaluation by making predictions and constructing a confusion matrix."
   ]
  },
  {
   "cell_type": "code",
   "execution_count": 41,
   "metadata": {},
   "outputs": [],
   "source": [
    "# Make predictions for the validation set\n",
    "\n",
    "y_pred = logit.predict(X_val_df)"
   ]
  },
  {
   "cell_type": "code",
   "execution_count": 42,
   "metadata": {},
   "outputs": [
    {
     "data": {
      "image/png": "[encoded data removed]",
      "text/plain": [
       "<Figure size 432x288 with 2 Axes>"
      ]
     },
     "metadata": {
      "image/png": {
       "height": 261,
       "width": 354
      },
      "needs_background": "light"
     },
     "output_type": "display_data"
    }
   ],
   "source": [
    "# Confusion matrix\n",
    "\n",
    "from sklearn.metrics import confusion_matrix\n",
    "from sklearn.metrics import ConfusionMatrixDisplay\n",
    "\n",
    "conf_matrix_train = confusion_matrix(y_val, y_pred, normalize= 'true')\n",
    "\n",
    "ConfusionMatrixDisplay(conf_matrix_train, display_labels = ['Real News', 'Satire']).plot();"
   ]
  },
  {
   "cell_type": "markdown",
   "metadata": {},
   "source": [
    "From the confusion matrix, it seems that this model has pretty equal false positive and false negative. There isn't any glaring red flag from the matrix. Next I will check the classification report to see the model's precision and recall."
   ]
  },
  {
   "cell_type": "code",
   "execution_count": 46,
   "metadata": {},
   "outputs": [
    {
     "name": "stdout",
     "output_type": "stream",
     "text": [
      "              precision    recall  f1-score   support\n",
      "\n",
      "   Real News       0.85      0.81      0.83      2087\n",
      "      Satire       0.82      0.85      0.84      2062\n",
      "\n",
      "    accuracy                           0.83      4149\n",
      "   macro avg       0.83      0.83      0.83      4149\n",
      "weighted avg       0.83      0.83      0.83      4149\n",
      "\n"
     ]
    }
   ],
   "source": [
    "# Print classification report\n",
    "\n",
    "from sklearn.metrics import classification_report\n",
    "\n",
    "print(classification_report(y_val, y_pred, target_names = ['Real News', 'Satire']))"
   ]
  },
  {
   "cell_type": "markdown",
   "metadata": {},
   "source": [
    "From the classification report, both precision and recall are over 80% with this model. Good results overall so far. I will now pull out the most predictive words for each class."
   ]
  },
  {
   "cell_type": "code",
   "execution_count": 47,
   "metadata": {},
   "outputs": [
    {
     "name": "stdout",
     "output_type": "stream",
     "text": [
      "REAL NEWS PREDICTIVE WORDS:\n",
      "covid19       -4.007041\n",
      "pandemic      -3.509372\n",
      "virus         -3.363948\n",
      "coronavirus   -3.236955\n",
      "reopen        -2.901145\n",
      "tiktok        -2.869512\n",
      "biden’s       -2.767487\n",
      "dy            -2.666737\n",
      "beirut        -2.609527\n",
      "netflix’s     -2.596621\n",
      "dtype: float64\n"
     ]
    }
   ],
   "source": [
    "print('REAL NEWS PREDICTIVE WORDS:')\n",
    "print(pd.DataFrame(logit.coef_, columns = X_train_df.columns).sum(axis = 0).sort_values(ascending = True).head(10))"
   ]
  },
  {
   "cell_type": "code",
   "execution_count": 48,
   "metadata": {},
   "outputs": [
    {
     "name": "stdout",
     "output_type": "stream",
     "text": [
      "SATIRES PREDICTIVE WORDS:\n",
      "horoscope    4.839776\n",
      "onion        3.496375\n",
      "bush         3.308721\n",
      "harper       3.212575\n",
      "fuck         3.061016\n",
      "assure       2.900931\n",
      "clinton      2.823829\n",
      "2013         2.684570\n",
      "realize      2.664350\n",
      "area         2.599984\n",
      "dtype: float64\n"
     ]
    }
   ],
   "source": [
    "print('SATIRES PREDICTIVE WORDS:')\n",
    "print(pd.DataFrame(logit.coef_, columns = X_train_df.columns).sum(axis = 0).sort_values(ascending = False).head(10))"
   ]
  },
  {
   "cell_type": "markdown",
   "metadata": {},
   "source": [
    "The words from each class seem to be mostly okay. There are some red-flags in the satire group, however. It seems that, eventhough it only represents 1% of the whole data, horoscope articles became the most predictive factor for satire. I think this needs to be addressed by modifying the data further. The second predictor is 'onion' which is also not ideal. Another word that I would like to modify is 2013. I want my model to be relatively timeless, so the fact that 2013 shows up in the top 10 most predictive words is undesirable. I will also check the year from which all the headlines are from. From here, however, I would like to forge on and continue fitting models on this dataset, to get a feel of the dataset more. But first, I would like to know how many articles actually contain the word 'Onion'?"
   ]
  },
  {
   "cell_type": "code",
   "execution_count": 54,
   "metadata": {},
   "outputs": [
    {
     "name": "stdout",
     "output_type": "stream",
     "text": [
      "150\n"
     ]
    }
   ],
   "source": [
    "# How many Onions?\n",
    "\n",
    "with pd.option_context('display.max_colwidth', None, 'display.max_rows', None):\n",
    "    print(len(X_rem[X_rem.str.contains('Onion')]))"
   ]
  },
  {
   "cell_type": "markdown",
   "metadata": {},
   "source": [
    "There are only 150 articles with the word 'Onion' in it. That is very low, considering we have over 40,000 articles. This solidifies my inkling that I need to remove this word, and I don't think TFIDF would fix this problem."
   ]
  },
  {
   "cell_type": "markdown",
   "metadata": {},
   "source": [
    "***\n",
    "#### PCA\n",
    "<a id='pca'></a>"
   ]
  },
  {
   "cell_type": "code",
   "execution_count": 58,
   "metadata": {},
   "outputs": [
    {
     "data": {
      "text/plain": [
       "(41488, 4196)"
      ]
     },
     "execution_count": 58,
     "metadata": {},
     "output_type": "execute_result"
    }
   ],
   "source": [
    "# How many tokens are there?\n",
    "\n",
    "X_rem_df.shape"
   ]
  },
  {
   "cell_type": "markdown",
   "metadata": {},
   "source": [
    "From here, I would like to fit KNN and SVM. I would like to perform PCA on my variables first, however, as there are more than 4,000 tokens and it would take a long time to train these models. At this point, I will be preserving 80% of the variance in the resulting reduced variables."
   ]
  },
  {
   "cell_type": "code",
   "execution_count": 59,
   "metadata": {},
   "outputs": [],
   "source": [
    "from sklearn.decomposition import PCA\n",
    "\n",
    "\n",
    "# 1. Instantiate\n",
    "# keep 80% of variance\n",
    "pca = PCA(n_components = 0.8)\n",
    "\n",
    "# 2. Fit\n",
    "\n",
    "pca.fit(X_train_df)\n",
    "\n",
    "# 3. Transform\n",
    "\n",
    "X_train_pca = pca.transform(X_train_df)\n",
    "X_val_pca = pca.transform(X_val_df)\n",
    "X_rem_pca = pca.transform(X_rem_df)"
   ]
  },
  {
   "cell_type": "code",
   "execution_count": 62,
   "metadata": {},
   "outputs": [
    {
     "data": {
      "text/plain": [
       "(41488, 1518)"
      ]
     },
     "execution_count": 62,
     "metadata": {},
     "output_type": "execute_result"
    }
   ],
   "source": [
    "# Check!\n",
    "\n",
    "X_rem_pca.shape"
   ]
  },
  {
   "cell_type": "markdown",
   "metadata": {},
   "source": [
    "Great! With PCA, my data now only has 1,518 columns whilst still preserving 80% of the original's variance. This will reduce any noise as well as help us reduce training time."
   ]
  },
  {
   "cell_type": "markdown",
   "metadata": {},
   "source": [
    "***"
   ]
  },
  {
   "cell_type": "markdown",
   "metadata": {},
   "source": [
    "#### KNN\n",
    "<a id='knn'></a>"
   ]
  },
  {
   "cell_type": "markdown",
   "metadata": {},
   "source": [
    "I will now fit a KNN model to my data. I will be using the reduced data, and set a n_jobs = -1. I am expecting the scoring time to be significantly longer than logit. I will keep number of neighbors to be 2 for now. "
   ]
  },
  {
   "cell_type": "code",
   "execution_count": 64,
   "metadata": {},
   "outputs": [
    {
     "data": {
      "text/plain": [
       "KNeighborsClassifier(n_jobs=-1, n_neighbors=2)"
      ]
     },
     "execution_count": 64,
     "metadata": {},
     "output_type": "execute_result"
    }
   ],
   "source": [
    "from sklearn.neighbors import KNeighborsClassifier\n",
    "\n",
    "# 1. Instantiate\n",
    "\n",
    "knn = KNeighborsClassifier(n_neighbors = 2, n_jobs = -1)\n",
    "\n",
    "# 2. Fit\n",
    "\n",
    "knn.fit(X_train_pca, y_train)"
   ]
  },
  {
   "cell_type": "code",
   "execution_count": 65,
   "metadata": {},
   "outputs": [
    {
     "name": "stdout",
     "output_type": "stream",
     "text": [
      "CPU times: user 1h 33min 31s, sys: 8.23 s, total: 1h 33min 39s\n",
      "Wall time: 24min 49s\n"
     ]
    },
    {
     "data": {
      "text/plain": [
       "0.8532633439567209"
      ]
     },
     "execution_count": 65,
     "metadata": {},
     "output_type": "execute_result"
    }
   ],
   "source": [
    "# 3. Score - Train\n",
    "\n",
    "%%time\n",
    "\n",
    "knn.score(X_train_pca, y_train)"
   ]
  },
  {
   "cell_type": "code",
   "execution_count": 66,
   "metadata": {},
   "outputs": [
    {
     "name": "stdout",
     "output_type": "stream",
     "text": [
      "CPU times: user 10min 50s, sys: 940 ms, total: 10min 51s\n",
      "Wall time: 2min 53s\n"
     ]
    },
    {
     "data": {
      "text/plain": [
       "0.6654615570016872"
      ]
     },
     "execution_count": 66,
     "metadata": {},
     "output_type": "execute_result"
    }
   ],
   "source": [
    "# 3. Score - Val\n",
    "\n",
    "%%time\n",
    "\n",
    "knn.score(X_val_pca, y_val)"
   ]
  },
  {
   "cell_type": "markdown",
   "metadata": {},
   "source": [
    "This model is very much overfitted, I will now do a simple search to see if altering the number of neighbors will increase the validation score."
   ]
  },
  {
   "cell_type": "code",
   "execution_count": 67,
   "metadata": {},
   "outputs": [
    {
     "name": "stdout",
     "output_type": "stream",
     "text": [
      "neighbor = 1, score = 0.6789587852494577\n",
      "neighbor = 3, score = 0.6845022897083635\n",
      "neighbor = 5, score = 0.6816100265124126\n",
      "neighbor = 7, score = 0.6842612677753676\n",
      "neighbor = 9, score = 0.6914919257652447\n",
      "neighbor = 11, score = 0.6994456495541094\n",
      "neighbor = 13, score = 0.6994456495541094\n",
      "neighbor = 15, score = 0.7030609785490479\n",
      "neighbor = 17, score = 0.6989636056881177\n",
      "neighbor = 19, score = 0.6982405398891299\n",
      "neighbor = 21, score = 0.6982405398891299\n",
      "neighbor = 23, score = 0.6936611231622077\n",
      "neighbor = 25, score = 0.6939021450952036\n",
      "neighbor = 27, score = 0.6946252108941914\n",
      "neighbor = 29, score = 0.6893227283682816\n",
      "neighbor = 31, score = 0.6888406845022897\n"
     ]
    }
   ],
   "source": [
    "# empty list to store scores\n",
    "knn_scores = []\n",
    "\n",
    "# number of neighbors\n",
    "neighbors = np.arange(1,32, 2)\n",
    "\n",
    "# loop\n",
    "for neighbor in neighbors:\n",
    "    \n",
    "    knn = KNeighborsClassifier(n_neighbors = neighbor, n_jobs = -1)\n",
    "    \n",
    "    knn.fit(X_train_pca, y_train)\n",
    "    \n",
    "    score = knn.score(X_val_pca, y_val)\n",
    "    \n",
    "    knn_scores.append(score)\n",
    "    \n",
    "    print(f'neighbor = {neighbor}, score = {score}')"
   ]
  },
  {
   "cell_type": "code",
   "execution_count": 68,
   "metadata": {},
   "outputs": [
    {
     "data": {
      "image/png": "[encoded data removed]",
      "text/plain": [
       "<Figure size 432x288 with 1 Axes>"
      ]
     },
     "metadata": {
      "image/png": {
       "height": 277,
       "width": 398
      },
      "needs_background": "light"
     },
     "output_type": "display_data"
    }
   ],
   "source": [
    "# Graph the validation scores\n",
    "\n",
    "plt.figure()\n",
    "plt.plot(neighbors, knn_scores, marker = 'x', color = 'rosybrown')\n",
    "sns.despine()\n",
    "plt.xlabel('n_neighbors')\n",
    "plt.ylabel('Validation scores')\n",
    "plt.title('KNN validation scores vs n_neighbors')\n",
    "plt.show()"
   ]
  },
  {
   "cell_type": "markdown",
   "metadata": {},
   "source": [
    "I didn't use cross validation here, it took a very long time to score these KNN models. In this case, the number of neighbors didn't seem to improve the score very much, and the accuracies aren't better than the logistic regression model. Maybe with further optimizations with KNN will improve the score, however I will move on to DTs for now."
   ]
  },
  {
   "cell_type": "markdown",
   "metadata": {},
   "source": [
    "***"
   ]
  },
  {
   "cell_type": "markdown",
   "metadata": {},
   "source": [
    "#### Decision Tree\n",
    "<a id='dt'></a>"
   ]
  },
  {
   "cell_type": "markdown",
   "metadata": {},
   "source": [
    "I will naively fit a DT model without any optimization and let it run until it overfits and have a training accuracy of 1, before start trimming. I will be using the original data for this model to conserve as much interpretability as I could."
   ]
  },
  {
   "cell_type": "code",
   "execution_count": 69,
   "metadata": {},
   "outputs": [
    {
     "data": {
      "text/plain": [
       "DecisionTreeClassifier()"
      ]
     },
     "execution_count": 69,
     "metadata": {},
     "output_type": "execute_result"
    }
   ],
   "source": [
    "# Decision tree\n",
    "\n",
    "from sklearn.tree import DecisionTreeClassifier\n",
    "\n",
    "# 1. Instantiate\n",
    "\n",
    "dt = DecisionTreeClassifier()\n",
    "\n",
    "# 2. Fit\n",
    "\n",
    "dt.fit(X_train_df, y_train)"
   ]
  },
  {
   "cell_type": "code",
   "execution_count": 70,
   "metadata": {},
   "outputs": [
    {
     "name": "stdout",
     "output_type": "stream",
     "text": [
      "Train score = 0.996089879214762\n",
      "Validation score = 0.7481320800192818\n"
     ]
    }
   ],
   "source": [
    "# 3. Score\n",
    "\n",
    "print(f'Train score = {dt.score(X_train_df,y_train)}')\n",
    "\n",
    "print(f'Validation score = {dt.score(X_val_df, y_val)}')"
   ]
  },
  {
   "cell_type": "code",
   "execution_count": 71,
   "metadata": {},
   "outputs": [
    {
     "data": {
      "text/plain": [
       "1983"
      ]
     },
     "execution_count": 71,
     "metadata": {},
     "output_type": "execute_result"
    }
   ],
   "source": [
    "# How many layers?\n",
    "\n",
    "dt.tree_.max_depth"
   ]
  },
  {
   "cell_type": "markdown",
   "metadata": {},
   "source": [
    "This model is very overfitted, as expected. The result from this model is not too bad, a 75%, considering how overfitted the model was. It took a considerable amount of time to train this model, so I am not going to optimize this model. I am interested in fitting a similar model to my model, such as XGBoost and random forest. For now, I will move on to SVM."
   ]
  },
  {
   "cell_type": "markdown",
   "metadata": {},
   "source": [
    "***"
   ]
  },
  {
   "cell_type": "markdown",
   "metadata": {},
   "source": [
    "#### SVM\n",
    "<a id='svm'></a>"
   ]
  },
  {
   "cell_type": "markdown",
   "metadata": {},
   "source": [
    "For SVM models, I will be using the reduced data, once again. From the research that I have done, SVM has been very popular in classifying sentiments with NLP. I will be fitting both an rbf kernel model and linear model."
   ]
  },
  {
   "cell_type": "code",
   "execution_count": 74,
   "metadata": {},
   "outputs": [
    {
     "data": {
      "text/plain": [
       "SVC()"
      ]
     },
     "execution_count": 74,
     "metadata": {},
     "output_type": "execute_result"
    }
   ],
   "source": [
    "# rbf kernel\n",
    "\n",
    "from sklearn.svm import SVC\n",
    "\n",
    "# 1. Instantiate\n",
    "\n",
    "svc = SVC()\n",
    "\n",
    "# 2. Fit\n",
    "\n",
    "svc.fit(X_train_pca, y_train)"
   ]
  },
  {
   "cell_type": "code",
   "execution_count": 75,
   "metadata": {},
   "outputs": [
    {
     "name": "stdout",
     "output_type": "stream",
     "text": [
      "Train score: 0.9220654007873805\n",
      "Validation score: 0.8259821643769583\n"
     ]
    }
   ],
   "source": [
    "# 3. Score\n",
    "\n",
    "print(f'Train score: {svc.score(X_train_pca, y_train)}')\n",
    "print(f'Validation score: {svc.score(X_val_pca, y_val)}')"
   ]
  },
  {
   "cell_type": "code",
   "execution_count": 76,
   "metadata": {},
   "outputs": [
    {
     "name": "stdout",
     "output_type": "stream",
     "text": [
      "Train score: 0.838908379978039\n",
      "Validation score: 0.8124849361291877\n"
     ]
    }
   ],
   "source": [
    "# linear kernel\n",
    "\n",
    "from sklearn.svm import LinearSVC\n",
    "\n",
    "# 1. Instantiate\n",
    "\n",
    "lin_svc = LinearSVC()\n",
    "\n",
    "# 2. Fit\n",
    "\n",
    "lin_svc.fit(X_train_pca, y_train)\n",
    "\n",
    "# 3. Score\n",
    "\n",
    "print(f'Train score: {lin_svc.score(X_train_pca, y_train)}')\n",
    "print(f'Validation score: {lin_svc.score(X_val_pca, y_val)}')"
   ]
  },
  {
   "cell_type": "markdown",
   "metadata": {},
   "source": [
    "The results of the Support Vector Machines are very promising, however it did took a considerable amount of time to score this model. I will not be tuning any hyperparameter for now."
   ]
  },
  {
   "cell_type": "markdown",
   "metadata": {},
   "source": [
    "***"
   ]
  },
  {
   "cell_type": "markdown",
   "metadata": {},
   "source": [
    "#### Trying TF-IDF"
   ]
  },
  {
   "cell_type": "markdown",
   "metadata": {},
   "source": [
    "Let's try TF-IDF to tokenize the data. Because TF-IDF put less weight in words that appear often, maybe this will reduce the effect of 'Onion' and 'horoscope'? I will keep the min_df as 10 and use my trusty tokenizer."
   ]
  },
  {
   "cell_type": "code",
   "execution_count": 69,
   "metadata": {},
   "outputs": [
    {
     "name": "stderr",
     "output_type": "stream",
     "text": [
      "/Users/gabrielatanumihardja/opt/anaconda3/envs/deeplearning/lib/python3.8/site-packages/sklearn/feature_extraction/text.py:484: UserWarning: The parameter 'token_pattern' will not be used since 'tokenizer' is not None'\n",
      "  warnings.warn(\"The parameter 'token_pattern' will not be used\"\n"
     ]
    }
   ],
   "source": [
    "from sklearn.feature_extraction.text import TfidfVectorizer\n",
    "\n",
    "# 1. Instantiate\n",
    "\n",
    "tfidf = TfidfVectorizer(min_df=10, tokenizer=my_tokenizer)\n",
    "\n",
    "# 2. Fit\n",
    "\n",
    "tfidf.fit(X_train)\n",
    "\n",
    "# 3. Transform\n",
    "\n",
    "X_train_tfidf = tfidf.transform(X_train)\n",
    "X_val_tfidf = tfidf.transform(X_val)\n",
    "X_rem_tfidf = tfidf.transform(X_rem)"
   ]
  },
  {
   "cell_type": "code",
   "execution_count": 65,
   "metadata": {},
   "outputs": [
    {
     "data": {
      "text/plain": [
       "(37339, 4196)"
      ]
     },
     "execution_count": 65,
     "metadata": {},
     "output_type": "execute_result"
    }
   ],
   "source": [
    "# Check!\n",
    "\n",
    "X_train_tfidf.shape"
   ]
  },
  {
   "cell_type": "code",
   "execution_count": 70,
   "metadata": {},
   "outputs": [],
   "source": [
    "# Turn to df\n",
    "\n",
    "X_train_tfidf_df = pd.DataFrame(X_train_tfidf.todense(), columns = tfidf.get_feature_names())\n",
    "X_rem_tfidf_df = pd.DataFrame(X_rem_tfidf.todense(), columns = tfidf.get_feature_names())\n",
    "X_val_tfidf_df = pd.DataFrame(X_val_tfidf.todense(), columns = tfidf.get_feature_names())"
   ]
  },
  {
   "cell_type": "code",
   "execution_count": 71,
   "metadata": {},
   "outputs": [
    {
     "data": {
      "text/html": [
       "<div>\n",
       "<style scoped>\n",
       "    .dataframe tbody tr th:only-of-type {\n",
       "        vertical-align: middle;\n",
       "    }\n",
       "\n",
       "    .dataframe tbody tr th {\n",
       "        vertical-align: top;\n",
       "    }\n",
       "\n",
       "    .dataframe thead th {\n",
       "        text-align: right;\n",
       "    }\n",
       "</style>\n",
       "<table border=\"1\" class=\"dataframe\">\n",
       "  <thead>\n",
       "    <tr style=\"text-align: right;\">\n",
       "      <th></th>\n",
       "      <th>1</th>\n",
       "      <th>10</th>\n",
       "      <th>100</th>\n",
       "      <th>1000</th>\n",
       "      <th>10000</th>\n",
       "      <th>100000</th>\n",
       "      <th>10th</th>\n",
       "      <th>11</th>\n",
       "      <th>11th</th>\n",
       "      <th>12</th>\n",
       "      <th>...</th>\n",
       "      <th>‘not</th>\n",
       "      <th>‘star</th>\n",
       "      <th>‘the</th>\n",
       "      <th>‘this</th>\n",
       "      <th>‘we</th>\n",
       "      <th>‘we’re</th>\n",
       "      <th>‘what</th>\n",
       "      <th>‘you</th>\n",
       "      <th>’em</th>\n",
       "      <th>…</th>\n",
       "    </tr>\n",
       "  </thead>\n",
       "  <tbody>\n",
       "    <tr>\n",
       "      <th>5866</th>\n",
       "      <td>0.0</td>\n",
       "      <td>0.0</td>\n",
       "      <td>0.0</td>\n",
       "      <td>0.0</td>\n",
       "      <td>0.0</td>\n",
       "      <td>0.0</td>\n",
       "      <td>0.0</td>\n",
       "      <td>0.0</td>\n",
       "      <td>0.0</td>\n",
       "      <td>0.0</td>\n",
       "      <td>...</td>\n",
       "      <td>0.0</td>\n",
       "      <td>0.0</td>\n",
       "      <td>0.0</td>\n",
       "      <td>0.0</td>\n",
       "      <td>0.0</td>\n",
       "      <td>0.0</td>\n",
       "      <td>0.0</td>\n",
       "      <td>0.0</td>\n",
       "      <td>0.0</td>\n",
       "      <td>0.0</td>\n",
       "    </tr>\n",
       "    <tr>\n",
       "      <th>21369</th>\n",
       "      <td>0.0</td>\n",
       "      <td>0.0</td>\n",
       "      <td>0.0</td>\n",
       "      <td>0.0</td>\n",
       "      <td>0.0</td>\n",
       "      <td>0.0</td>\n",
       "      <td>0.0</td>\n",
       "      <td>0.0</td>\n",
       "      <td>0.0</td>\n",
       "      <td>0.0</td>\n",
       "      <td>...</td>\n",
       "      <td>0.0</td>\n",
       "      <td>0.0</td>\n",
       "      <td>0.0</td>\n",
       "      <td>0.0</td>\n",
       "      <td>0.0</td>\n",
       "      <td>0.0</td>\n",
       "      <td>0.0</td>\n",
       "      <td>0.0</td>\n",
       "      <td>0.0</td>\n",
       "      <td>0.0</td>\n",
       "    </tr>\n",
       "    <tr>\n",
       "      <th>15301</th>\n",
       "      <td>0.0</td>\n",
       "      <td>0.0</td>\n",
       "      <td>0.0</td>\n",
       "      <td>0.0</td>\n",
       "      <td>0.0</td>\n",
       "      <td>0.0</td>\n",
       "      <td>0.0</td>\n",
       "      <td>0.0</td>\n",
       "      <td>0.0</td>\n",
       "      <td>0.0</td>\n",
       "      <td>...</td>\n",
       "      <td>0.0</td>\n",
       "      <td>0.0</td>\n",
       "      <td>0.0</td>\n",
       "      <td>0.0</td>\n",
       "      <td>0.0</td>\n",
       "      <td>0.0</td>\n",
       "      <td>0.0</td>\n",
       "      <td>0.0</td>\n",
       "      <td>0.0</td>\n",
       "      <td>0.0</td>\n",
       "    </tr>\n",
       "    <tr>\n",
       "      <th>24328</th>\n",
       "      <td>0.0</td>\n",
       "      <td>0.0</td>\n",
       "      <td>0.0</td>\n",
       "      <td>0.0</td>\n",
       "      <td>0.0</td>\n",
       "      <td>0.0</td>\n",
       "      <td>0.0</td>\n",
       "      <td>0.0</td>\n",
       "      <td>0.0</td>\n",
       "      <td>0.0</td>\n",
       "      <td>...</td>\n",
       "      <td>0.0</td>\n",
       "      <td>0.0</td>\n",
       "      <td>0.0</td>\n",
       "      <td>0.0</td>\n",
       "      <td>0.0</td>\n",
       "      <td>0.0</td>\n",
       "      <td>0.0</td>\n",
       "      <td>0.0</td>\n",
       "      <td>0.0</td>\n",
       "      <td>0.0</td>\n",
       "    </tr>\n",
       "    <tr>\n",
       "      <th>34023</th>\n",
       "      <td>0.0</td>\n",
       "      <td>0.0</td>\n",
       "      <td>0.0</td>\n",
       "      <td>0.0</td>\n",
       "      <td>0.0</td>\n",
       "      <td>0.0</td>\n",
       "      <td>0.0</td>\n",
       "      <td>0.0</td>\n",
       "      <td>0.0</td>\n",
       "      <td>0.0</td>\n",
       "      <td>...</td>\n",
       "      <td>0.0</td>\n",
       "      <td>0.0</td>\n",
       "      <td>0.0</td>\n",
       "      <td>0.0</td>\n",
       "      <td>0.0</td>\n",
       "      <td>0.0</td>\n",
       "      <td>0.0</td>\n",
       "      <td>0.0</td>\n",
       "      <td>0.0</td>\n",
       "      <td>0.0</td>\n",
       "    </tr>\n",
       "  </tbody>\n",
       "</table>\n",
       "<p>5 rows × 4196 columns</p>\n",
       "</div>"
      ],
      "text/plain": [
       "         1   10  100  1000  10000  100000  10th   11  11th   12  ...  ‘not  \\\n",
       "5866   0.0  0.0  0.0   0.0    0.0     0.0   0.0  0.0   0.0  0.0  ...   0.0   \n",
       "21369  0.0  0.0  0.0   0.0    0.0     0.0   0.0  0.0   0.0  0.0  ...   0.0   \n",
       "15301  0.0  0.0  0.0   0.0    0.0     0.0   0.0  0.0   0.0  0.0  ...   0.0   \n",
       "24328  0.0  0.0  0.0   0.0    0.0     0.0   0.0  0.0   0.0  0.0  ...   0.0   \n",
       "34023  0.0  0.0  0.0   0.0    0.0     0.0   0.0  0.0   0.0  0.0  ...   0.0   \n",
       "\n",
       "       ‘star  ‘the  ‘this  ‘we  ‘we’re  ‘what  ‘you  ’em    …  \n",
       "5866     0.0   0.0    0.0  0.0     0.0    0.0   0.0  0.0  0.0  \n",
       "21369    0.0   0.0    0.0  0.0     0.0    0.0   0.0  0.0  0.0  \n",
       "15301    0.0   0.0    0.0  0.0     0.0    0.0   0.0  0.0  0.0  \n",
       "24328    0.0   0.0    0.0  0.0     0.0    0.0   0.0  0.0  0.0  \n",
       "34023    0.0   0.0    0.0  0.0     0.0    0.0   0.0  0.0  0.0  \n",
       "\n",
       "[5 rows x 4196 columns]"
      ]
     },
     "execution_count": 71,
     "metadata": {},
     "output_type": "execute_result"
    }
   ],
   "source": [
    "# Check!\n",
    "\n",
    "X_train_tfidf_df.sample(5)"
   ]
  },
  {
   "cell_type": "markdown",
   "metadata": {},
   "source": [
    "From here, I will run KNN and SVM again. I will try out AdaBoost and Random Forest instead of the regular decision tree. I also need to apply PCA on my TF-IDF data. First I want to see whether setting the n_components to 80% is fair. I will fit PCA with all the components (4,196) and transform the data. From here I will plot the explained_variance_ratio vs the number of components. On this graph, I am looking for a sharp elbow for which is the number of component I should choose."
   ]
  },
  {
   "cell_type": "markdown",
   "metadata": {},
   "source": [
    "***\n",
    "#### PCA optimization\n",
    "<a id='pcaopt'></a>"
   ]
  },
  {
   "cell_type": "code",
   "execution_count": 82,
   "metadata": {},
   "outputs": [
    {
     "data": {
      "text/plain": [
       "PCA(n_components=4196)"
      ]
     },
     "execution_count": 82,
     "metadata": {},
     "output_type": "execute_result"
    }
   ],
   "source": [
    "# Fit PCA with all components\n",
    "\n",
    "pca0 = PCA(n_components = 4196)\n",
    "pca0.fit(X_train_tfidf_df)"
   ]
  },
  {
   "cell_type": "code",
   "execution_count": 83,
   "metadata": {},
   "outputs": [],
   "source": [
    "# transform data \n",
    "\n",
    "X_train_tf_pca0 = pca0.transform(X_train_tfidf_df)"
   ]
  },
  {
   "cell_type": "code",
   "execution_count": 84,
   "metadata": {},
   "outputs": [
    {
     "name": "stdout",
     "output_type": "stream",
     "text": [
      "[5.77305749e-03 4.07765449e-03 3.81371936e-03 ... 8.98746459e-06\n",
      " 3.13744741e-06 1.13853484e-33]\n"
     ]
    }
   ],
   "source": [
    "# get the explained variance ratios\n",
    "\n",
    "expl_var = pca0.explained_variance_ratio_\n",
    "print(expl_var)"
   ]
  },
  {
   "cell_type": "code",
   "execution_count": 85,
   "metadata": {},
   "outputs": [
    {
     "data": {
      "image/png": "[encoded data removed]",
      "text/plain": [
       "<Figure size 432x288 with 1 Axes>"
      ]
     },
     "metadata": {
      "image/png": {
       "height": 263,
       "width": 398
      },
      "needs_background": "light"
     },
     "output_type": "display_data"
    }
   ],
   "source": [
    "# plot explained variance ratios vs number of components\n",
    "\n",
    "plt.figure()\n",
    "plt.plot(range(1, 4197),expl_var,marker='.')\n",
    "plt.xlabel('Number of PCs')\n",
    "plt.ylabel('Proportion of Variance Explained')\n",
    "plt.xticks(range(1,4197,500))\n",
    "sns.despine()\n",
    "plt.show()"
   ]
  },
  {
   "cell_type": "markdown",
   "metadata": {},
   "source": [
    "There is no sharp elbow on this graph, maybe if I zoom in."
   ]
  },
  {
   "cell_type": "code",
   "execution_count": 86,
   "metadata": {},
   "outputs": [
    {
     "data": {
      "image/png": "[encoded data removed]",
      "text/plain": [
       "<Figure size 432x288 with 1 Axes>"
      ]
     },
     "metadata": {
      "image/png": {
       "height": 263,
       "width": 398
      },
      "needs_background": "light"
     },
     "output_type": "display_data"
    }
   ],
   "source": [
    "# zooming in\n",
    "\n",
    "plt.figure()\n",
    "plt.plot(range(1, 4197),expl_var,marker='.')\n",
    "plt.xlabel('Number of PCs')\n",
    "plt.ylabel('Proportion of Variance Explained')\n",
    "plt.xlim(-5, 41)\n",
    "plt.xticks(range(1,41,5))\n",
    "sns.despine()\n",
    "plt.show()"
   ]
  },
  {
   "cell_type": "markdown",
   "metadata": {},
   "source": [
    "There is still no clear number of components from these explorations, however it seems that the initial drop occurs before 21 components. I will now get the cummulative sum of the explained variance ratios. I am looking at how much variance do these 20 components explain cummulatively?"
   ]
  },
  {
   "cell_type": "code",
   "execution_count": 87,
   "metadata": {},
   "outputs": [
    {
     "name": "stdout",
     "output_type": "stream",
     "text": [
      "[0.00577306 0.00985071 0.01366443 0.01706851 0.02000998 0.02289381\n",
      " 0.02563871 0.02819631 0.0305729  0.03272209 0.0348297  0.03689567\n",
      " 0.03890586 0.04087976 0.04283755 0.04471002 0.04656598 0.04839692\n",
      " 0.05021273 0.05200748]\n"
     ]
    }
   ],
   "source": [
    "expl_var_cumulative = pca0.explained_variance_ratio_.cumsum()\n",
    "print(expl_var_cumulative[0:20])"
   ]
  },
  {
   "cell_type": "markdown",
   "metadata": {},
   "source": [
    "The first 20 components only account for 5% of the variance! There are so many variables and each variable add a tiny bit of variance. From the plot, it can be seemn that the first component only account for 0.6% of variance. I think I will stick to setting n_components to be 0.8. Now I will create a scale and reduce pipeline that will scale and apply PCA to thethe TF-IDF data."
   ]
  },
  {
   "cell_type": "code",
   "execution_count": 77,
   "metadata": {},
   "outputs": [],
   "source": [
    "# Make a scale and reduce pipeline\n",
    "\n",
    "from sklearn.pipeline import make_pipeline\n",
    "from sklearn.preprocessing import StandardScaler\n",
    "\n",
    "scale_pca_pipe = make_pipeline(StandardScaler(), PCA(n_components = 0.8))"
   ]
  },
  {
   "cell_type": "markdown",
   "metadata": {},
   "source": [
    "I will start using a cross validation method and take the average score as the accuracy marker. I will start with a logit."
   ]
  },
  {
   "cell_type": "markdown",
   "metadata": {},
   "source": [
    "***\n",
    "#### TF-IDF logit\n",
    "<a id='logittfidf'></a>"
   ]
  },
  {
   "cell_type": "code",
   "execution_count": 72,
   "metadata": {},
   "outputs": [
    {
     "name": "stdout",
     "output_type": "stream",
     "text": [
      "Average Score:0.8346993702376055\n"
     ]
    }
   ],
   "source": [
    "from sklearn.model_selection import cross_val_score\n",
    "\n",
    "scores_logit = cross_val_score(logit, X_rem_tfidf_df, y_rem, cv = 5)\n",
    "\n",
    "print(f'Average Score:{np.mean(scores_logit)}')"
   ]
  },
  {
   "cell_type": "markdown",
   "metadata": {},
   "source": [
    "There doesn't seem to be much difference in accuracies between count vectorized data and TF-IDF data. I will now move on to KNN and SVC"
   ]
  },
  {
   "cell_type": "markdown",
   "metadata": {},
   "source": [
    "***\n",
    "#### TF-IDF KNN\n",
    "<a id='knntfidf'></a>"
   ]
  },
  {
   "cell_type": "markdown",
   "metadata": {},
   "source": [
    "I will move on to fitting KNN model with TF-IDF processed data. First I will put the data into my scale reduce pipeline."
   ]
  },
  {
   "cell_type": "code",
   "execution_count": 78,
   "metadata": {},
   "outputs": [],
   "source": [
    "# Transform train and validation data (scale and transform)\n",
    "\n",
    "X_train_tfidf_scaled = scale_pca_pipe.fit_transform(X_train_df)\n",
    "\n",
    "X_val_tfidf_scaled = scale_pca_pipe.transform(X_val_df)"
   ]
  },
  {
   "cell_type": "markdown",
   "metadata": {},
   "source": [
    "Now, I will instantiate, fit, and score a KNN model to the scaled TF-IDF data. I will keep the default n_neighbors of 5."
   ]
  },
  {
   "cell_type": "code",
   "execution_count": 80,
   "metadata": {},
   "outputs": [
    {
     "name": "stdout",
     "output_type": "stream",
     "text": [
      "Score of training: 0.8099306355285358\n",
      "Score of validation: 0.6869125090383225\n"
     ]
    }
   ],
   "source": [
    "from sklearn.neighbors import KNeighborsClassifier\n",
    "\n",
    "# Instantiate\n",
    "\n",
    "knn = KNeighborsClassifier(n_jobs = -1)\n",
    "\n",
    "# Fit rbf KNN\n",
    "\n",
    "knn.fit(X_train_tfidf_scaled, y_train)\n",
    "\n",
    "# Score\n",
    "\n",
    "print(f'Score of training: {knn.score(X_train_tfidf_scaled, y_train)}')\n",
    "print(f'Score of validation: {knn.score(X_val_tfidf_scaled, y_val)}')"
   ]
  },
  {
   "cell_type": "markdown",
   "metadata": {},
   "source": [
    "It seems that the scores are very similar between the TF-IDF data and count vectorized data. For n_neighbors of 5, TF-IDF data has a validation score of 0.69 and count vec data has a validation score of 0.68."
   ]
  },
  {
   "cell_type": "markdown",
   "metadata": {},
   "source": [
    "***\n",
    "#### TF-IDF SVM\n",
    "<a id='svmtfidf'></a>"
   ]
  },
  {
   "cell_type": "markdown",
   "metadata": {},
   "source": [
    "Next I will fit SVM models with TF-IDF processed data. After putting the data through my scale and reduce pipeline, I will fit a linear and rbf kernel SVM models."
   ]
  },
  {
   "cell_type": "code",
   "execution_count": 110,
   "metadata": {},
   "outputs": [
    {
     "name": "stderr",
     "output_type": "stream",
     "text": [
      "/Users/gabrielatanumihardja/opt/anaconda3/envs/deeplearning/lib/python3.8/site-packages/sklearn/svm/_base.py:976: ConvergenceWarning: Liblinear failed to converge, increase the number of iterations.\n",
      "  warnings.warn(\"Liblinear failed to converge, increase \"\n"
     ]
    },
    {
     "name": "stdout",
     "output_type": "stream",
     "text": [
      "Score of training: 0.818259728434077\n",
      "Score of validation: 0.7823571945047\n"
     ]
    }
   ],
   "source": [
    "# Fit linear SVM\n",
    "\n",
    "lin_svc.fit(X_train_tfidf_scaled, y_train)\n",
    "\n",
    "# Score\n",
    "\n",
    "print(f'Score of training: {lin_svc.score(X_train_tfidf_scaled, y_train)}')\n",
    "print(f'Score of validation: {lin_svc.score(X_val_tfidf_scaled, y_val)}')"
   ]
  },
  {
   "cell_type": "code",
   "execution_count": 111,
   "metadata": {},
   "outputs": [
    {
     "name": "stdout",
     "output_type": "stream",
     "text": [
      "Score of training: 0.9260290848710464\n",
      "Score of validation: 0.8303205591708845\n"
     ]
    }
   ],
   "source": [
    "# Fit rbf SVM\n",
    "\n",
    "svc.fit(X_train_tfidf_scaled, y_train)\n",
    "\n",
    "# Score\n",
    "\n",
    "print(f'Score of training: {svc.score(X_train_tfidf_scaled, y_train)}')\n",
    "print(f'Score of validation: {svc.score(X_val_tfidf_scaled, y_val)}')"
   ]
  },
  {
   "cell_type": "markdown",
   "metadata": {},
   "source": [
    "The results from TF-IDF data appear to be slightly lower than the count vectorized data. This is expected as it seems that the count vectorized data is biased by the very specific words. At this point, I will fit two final preliminary models, AdaBoost and Random Forest, before tweaking the data."
   ]
  },
  {
   "cell_type": "markdown",
   "metadata": {},
   "source": [
    "***\n",
    "#### AdaBoost and RandomForest\n",
    "<a id='boost'></a>"
   ]
  },
  {
   "cell_type": "markdown",
   "metadata": {},
   "source": [
    "I will be fitting both AdaBoost and RandomForest to both CountVectorized data and TF-IDF data. I expect that Random Forest will be much less overfitted than the decision tree I fitted earlier, as they use many many decision stumps."
   ]
  },
  {
   "cell_type": "code",
   "execution_count": 150,
   "metadata": {},
   "outputs": [
    {
     "name": "stdout",
     "output_type": "stream",
     "text": [
      "Train Set Scores:\n",
      "AdaBoost score: 0.7819438120999491\n",
      "Random Forest score: 0.996089879214762\n",
      "Test Set Scores:\n",
      "AdaBoost score: 0.7736804049168474\n",
      "Random Forest score: 0.7760906242468064\n"
     ]
    }
   ],
   "source": [
    "from sklearn.ensemble import RandomForestClassifier\n",
    "from sklearn.ensemble import AdaBoostClassifier\n",
    "\n",
    "\n",
    "# TF-IDF\n",
    "AB_model = AdaBoostClassifier()\n",
    "RF_model = RandomForestClassifier()\n",
    "\n",
    "AB_model.fit(X_train_tfidf_scaled, y_train)\n",
    "RF_model.fit(X_train_tfidf_scaled, y_train)\n",
    "\n",
    "print(\"Train Set Scores:\")\n",
    "print(f\"AdaBoost score: {AB_model.score(X_train_tfidf_scaled, y_train)}\")\n",
    "print(f\"Random Forest score: {RF_model.score(X_train_tfidf_scaled, y_train)}\")\n",
    "\n",
    "print(\"Test Set Scores:\")\n",
    "print(f\"AdaBoost score: {AB_model.score(X_val_tfidf_scaled, y_val)}\")\n",
    "print(f\"Random Forest score: {RF_model.score(X_val_tfidf_scaled, y_val)}\")"
   ]
  },
  {
   "cell_type": "code",
   "execution_count": 152,
   "metadata": {},
   "outputs": [
    {
     "name": "stdout",
     "output_type": "stream",
     "text": [
      "Train Set Scores:\n",
      "AdaBoost score: 0.7345670746404563\n",
      "Random Forest score: 0.996089879214762\n",
      "Test Set Scores:\n",
      "AdaBoost score: 0.7225837551217161\n",
      "Random Forest score: 0.759701132803085\n"
     ]
    }
   ],
   "source": [
    "# CountVectorizer\n",
    "AB_model = AdaBoostClassifier()\n",
    "RF_model = RandomForestClassifier()\n",
    "\n",
    "AB_model.fit(X_train_pca, y_train)\n",
    "RF_model.fit(X_train_pca, y_train)\n",
    "\n",
    "print(\"Train Set Scores:\")\n",
    "print(f\"AdaBoost score: {AB_model.score(X_train_pca, y_train)}\")\n",
    "print(f\"Random Forest score: {RF_model.score(X_train_pca, y_train)}\")\n",
    "\n",
    "print(\"Test Set Scores:\")\n",
    "print(f\"AdaBoost score: {AB_model.score(X_val_pca, y_val)}\")\n",
    "print(f\"Random Forest score: {RF_model.score(X_val_pca, y_val)}\")"
   ]
  },
  {
   "cell_type": "markdown",
   "metadata": {},
   "source": [
    "The random forest models I just fitted are still quite overfitted, I would need to tweak the number of trees. There doesnt seem to be much difference in validation scores for these scores between the CountVectorized and TF-IDF data. I think this is a good point to stop modelling and finesse the data. I will:\n",
    "- Resample the data - all the published year should be somewhat balance\n",
    "- Replace 'Onion' and numbers on the headlines - numbers should be hashed, and the word 'Onion' could be deleted.\n",
    "\n",
    "**On to pt.4 - Adjust Data**"
   ]
  },
  {
   "cell_type": "code",
   "execution_count": null,
   "metadata": {},
   "outputs": [],
   "source": []
  }
 ],
 "metadata": {
  "kernelspec": {
   "display_name": "deeplearning",
   "language": "python",
   "name": "deeplearning"
  },
  "language_info": {
   "codemirror_mode": {
    "name": "ipython",
    "version": 3
   },
   "file_extension": ".py",
   "mimetype": "text/x-python",
   "name": "python",
   "nbconvert_exporter": "python",
   "pygments_lexer": "ipython3",
   "version": "3.8.2"
  }
 },
 "nbformat": 4,
 "nbformat_minor": 4
}
