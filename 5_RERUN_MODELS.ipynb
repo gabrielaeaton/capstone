{
 "cells": [
  {
   "cell_type": "markdown",
   "metadata": {},
   "source": [
    "**Gabriela Tanumihardja**</br>\n",
    "**Capstone Project - Part V** </br>\n",
    "**Re-running Models**"
   ]
  },
  {
   "cell_type": "markdown",
   "metadata": {},
   "source": [
    "## Table of contents\n",
    "1. [Loading data](#load)</br>\n",
    "2. [Data preprocessing](#preprocess)</br>\n",
    "3. [Models](#models)</br>\n",
    "    3.1 [Logistic regression](#models)</br>\n",
    "    3.2 [Tune C value](#cvals)</br>\n",
    "    3.3 [Logit pickling](#pickle)</br>\n",
    "    3.4 [PCA](#pca)</br>\n",
    "    3.5 [SVM](#svm)</br>\n",
    "    3.6 [Bayes](#bae)</br>\n",
    "    3.7 [XGBoost](#xg)\n",
    "***"
   ]
  },
  {
   "cell_type": "code",
   "execution_count": 1,
   "metadata": {},
   "outputs": [],
   "source": [
    "import pandas as pd\n",
    "import numpy as np\n",
    "import matplotlib.pyplot as plt\n",
    "import seaborn as sns\n",
    "import re\n",
    "from sklearn.linear_model import LogisticRegression\n",
    "import datetime\n",
    "from sklearn.feature_extraction.text import CountVectorizer\n",
    "%config InlineBackend.figure_format='retina'\n",
    "from sklearn.model_selection import train_test_split\n",
    "import datetime as dt\n",
    "import string\n",
    "%matplotlib inline"
   ]
  },
  {
   "cell_type": "markdown",
   "metadata": {},
   "source": [
    "***"
   ]
  },
  {
   "cell_type": "markdown",
   "metadata": {},
   "source": [
    "### Loading the data\n",
    "<a id='load'></a>"
   ]
  },
  {
   "cell_type": "markdown",
   "metadata": {},
   "source": [
    "With the new dataset, I will refit the early models that I have previously fitted. First I will read in the sampled data, and split the data into X and y."
   ]
  },
  {
   "cell_type": "code",
   "execution_count": 13,
   "metadata": {},
   "outputs": [],
   "source": [
    "# Read in dataset\n",
    "\n",
    "df = pd.read_csv('data/year_sampled.csv')"
   ]
  },
  {
   "cell_type": "code",
   "execution_count": 14,
   "metadata": {},
   "outputs": [],
   "source": [
    "# Assign X and y\n",
    "\n",
    "X = df['title']\n",
    "y = df['satire']"
   ]
  },
  {
   "cell_type": "code",
   "execution_count": 15,
   "metadata": {},
   "outputs": [
    {
     "data": {
      "text/plain": [
       "0    Divorced Mom At Point In Life Where She Figure...\n",
       "1     Unclear Why Only One Half Of Couple Wearing Mask\n",
       "2     Jessie Fleming turns pro, signs deal with Che...\n",
       "3     Full Stream Ahead: Your best action movie bet...\n",
       "4     COVID-19 in Quebec: Province reports 133 new ...\n",
       "Name: title, dtype: object"
      ]
     },
     "execution_count": 15,
     "metadata": {},
     "output_type": "execute_result"
    }
   ],
   "source": [
    "# Check!\n",
    "\n",
    "X.head()"
   ]
  },
  {
   "cell_type": "code",
   "execution_count": 17,
   "metadata": {},
   "outputs": [
    {
     "data": {
      "text/plain": [
       "0    1\n",
       "1    1\n",
       "2    0\n",
       "3    0\n",
       "4    0\n",
       "Name: satire, dtype: int64"
      ]
     },
     "execution_count": 17,
     "metadata": {},
     "output_type": "execute_result"
    }
   ],
   "source": [
    "# Check!\n",
    "\n",
    "y.head()"
   ]
  },
  {
   "cell_type": "markdown",
   "metadata": {},
   "source": [
    "I will perform a train test split on this new dataset in the same way I did previously, to remainder, validation, and test. I will stratify the split by the classes."
   ]
  },
  {
   "cell_type": "code",
   "execution_count": 18,
   "metadata": {},
   "outputs": [],
   "source": [
    "# Split dataset into remainder and test set\n",
    "\n",
    "X_rem, X_test, y_rem, y_test = train_test_split(X, y, test_size = 0.1, random_state = 99, stratify = y)"
   ]
  },
  {
   "cell_type": "markdown",
   "metadata": {},
   "source": [
    "Set aside test set for the very end!"
   ]
  },
  {
   "cell_type": "code",
   "execution_count": 19,
   "metadata": {},
   "outputs": [],
   "source": [
    "# Split remainder into train and validation set\n",
    "\n",
    "X_train, X_val, y_train, y_val = train_test_split(X_rem, y_rem, test_size = 0.1, random_state = 99, stratify = y_rem)"
   ]
  },
  {
   "cell_type": "code",
   "execution_count": 20,
   "metadata": {},
   "outputs": [],
   "source": [
    "# Reset indices for all sets\n",
    "\n",
    "dfs = [X_rem, X_train, X_val, X_test, y_rem, y_train, y_val, y_test]\n",
    "\n",
    "for df in dfs:\n",
    "    df.reset_index(inplace = True, drop = True)"
   ]
  },
  {
   "cell_type": "code",
   "execution_count": 21,
   "metadata": {},
   "outputs": [
    {
     "data": {
      "text/plain": [
       "(31262,)"
      ]
     },
     "execution_count": 21,
     "metadata": {},
     "output_type": "execute_result"
    }
   ],
   "source": [
    "# Check\n",
    "\n",
    "X_rem.shape"
   ]
  },
  {
   "cell_type": "code",
   "execution_count": 22,
   "metadata": {},
   "outputs": [
    {
     "data": {
      "text/plain": [
       "(3474,)"
      ]
     },
     "execution_count": 22,
     "metadata": {},
     "output_type": "execute_result"
    }
   ],
   "source": [
    "# Check check!\n",
    "\n",
    "X_test.shape"
   ]
  },
  {
   "cell_type": "code",
   "execution_count": 23,
   "metadata": {},
   "outputs": [
    {
     "data": {
      "text/plain": [
       "0    B.C. Premier to province: ‘Some of my best fri...\n",
       "1    John Kerry Costs U.S. Defense Industry $400 Bi...\n",
       "2                             Nina Esaki, Sander Rabin\n",
       "3          Russians’ Opinions of Moscow’s Former Mayor\n",
       "4                 Bouncing and Bopping to Clubby Beats\n",
       "5                        Apartment Building Super Swap\n",
       "6    How To Stay Politically Active After The Election\n",
       "7    Area Woman Quietly Satisfied To Have Concrete ...\n",
       "8                              Closeting the Arguments\n",
       "9    Lazy Poor Person Has Never Earned Passive Inco...\n",
       "Name: title, dtype: object"
      ]
     },
     "execution_count": 23,
     "metadata": {},
     "output_type": "execute_result"
    }
   ],
   "source": [
    "# Checkity check check!\n",
    "\n",
    "X_rem.head(10)"
   ]
  },
  {
   "cell_type": "markdown",
   "metadata": {},
   "source": [
    "***"
   ]
  },
  {
   "cell_type": "markdown",
   "metadata": {},
   "source": [
    "### Preprocessing\n",
    "<a id='preprocess'></a>"
   ]
  },
  {
   "cell_type": "markdown",
   "metadata": {},
   "source": [
    "Great! All's looking good. I will now move on to preprocess my data. I will be using TF-IDF to fit the models because I think it would be good to take into consideration the frequency of the words."
   ]
  },
  {
   "cell_type": "code",
   "execution_count": 24,
   "metadata": {},
   "outputs": [],
   "source": [
    "from nltk.corpus import wordnet as wn\n",
    "from nltk.stem.wordnet import WordNetLemmatizer\n",
    "from nltk import word_tokenize, pos_tag\n",
    "from collections import defaultdict\n",
    "lemmatizer = WordNetLemmatizer()\n",
    "from nltk.corpus import stopwords \n",
    "ENGLISH_STOP_WORDS = stopwords.words('english')"
   ]
  },
  {
   "cell_type": "code",
   "execution_count": 26,
   "metadata": {},
   "outputs": [],
   "source": [
    "# Good 'Ol Tokenizer\n",
    "\n",
    "def my_tokenizer(sentence):\n",
    "    \n",
    "    t_map = defaultdict(lambda : wn.NOUN)\n",
    "    t_map['J'] = wn.ADJ\n",
    "    t_map['V'] = wn.VERB\n",
    "    t_map['R'] = wn.ADV\n",
    "\n",
    "    for punctuation_mark in string.punctuation:\n",
    "        # Remove punctuation and set to lower case\n",
    "        sentence = sentence.lower().replace(punctuation_mark,'').replace('  ' , ' ').replace('onion', '').replace('horoscope', '')\n",
    "    \n",
    "    sentence = re.sub('^ ', '', sentence)\n",
    "    sentence = re.sub('[0-9]{5,}', '#####', sentence)\n",
    "    sentence = re.sub('[0-9]{4}', '####', sentence)\n",
    "    sentence = re.sub('[0-9]{3}', '###', sentence)\n",
    "    sentence = re.sub('[0-9]{2}', '##', sentence)\n",
    "    sentence = re.sub(' $', '', sentence)\n",
    "    \n",
    "    # split sentence into words\n",
    "    listofwords = sentence.split(' ')\n",
    "    listoflemmas = []\n",
    "    \n",
    "    tagged = pos_tag(listofwords)\n",
    "\n",
    "    # Remove stopwords and any tokens that are just empty strings\n",
    "    for word, tag in tagged:\n",
    "        if (not word in ENGLISH_STOP_WORDS) and (word!='') and (word != ' '):\n",
    "            # Turn words to lemmas\n",
    "            lemma = lemmatizer.lemmatize(word, t_map[tag[0]])\n",
    "            listoflemmas.append(lemma)\n",
    "\n",
    "    return listoflemmas"
   ]
  },
  {
   "cell_type": "markdown",
   "metadata": {},
   "source": [
    "I will now tranform my data through the TF-IDF vectorizer. I will keep the min_df setting at 10 words, and of course use my good ol' tokenizer."
   ]
  },
  {
   "cell_type": "code",
   "execution_count": 27,
   "metadata": {},
   "outputs": [
    {
     "name": "stderr",
     "output_type": "stream",
     "text": [
      "/Users/gabrielatanumihardja/opt/anaconda3/lib/python3.7/site-packages/sklearn/feature_extraction/text.py:507: UserWarning: The parameter 'token_pattern' will not be used since 'tokenizer' is not None'\n",
      "  warnings.warn(\"The parameter 'token_pattern' will not be used\"\n"
     ]
    }
   ],
   "source": [
    "from sklearn.feature_extraction.text import TfidfVectorizer\n",
    "\n",
    "# 1. Instantiate\n",
    "\n",
    "tfidf = TfidfVectorizer(min_df=10, tokenizer=my_tokenizer)\n",
    "\n",
    "# 2. Fit\n",
    "\n",
    "tfidf.fit(X_train)\n",
    "\n",
    "# 3. Transform\n",
    "\n",
    "X_train_tfidf = tfidf.transform(X_train)\n",
    "X_val_tfidf = tfidf.transform(X_val)\n",
    "X_rem_tfidf = tfidf.transform(X_rem)\n",
    "X_test_tfidf = tfidf.transform(X_test)"
   ]
  },
  {
   "cell_type": "code",
   "execution_count": 29,
   "metadata": {},
   "outputs": [],
   "source": [
    "# Make dataframes\n",
    "\n",
    "X_train_tfidf = pd.DataFrame(X_train_tfidf.todense(), columns = tfidf.get_feature_names())\n",
    "\n",
    "X_rem_tfidf = pd.DataFrame(X_rem_tfidf.todense(), columns = tfidf.get_feature_names())\n",
    "\n",
    "X_val_tfidf = pd.DataFrame(X_val_tfidf.todense(), columns = tfidf.get_feature_names())\n",
    "\n",
    "X_test_tfidf = pd.DataFrame(X_test_tfidf.todense(), columns = tfidf.get_feature_names())"
   ]
  },
  {
   "cell_type": "code",
   "execution_count": 30,
   "metadata": {},
   "outputs": [
    {
     "data": {
      "text/html": [
       "<div>\n",
       "<style scoped>\n",
       "    .dataframe tbody tr th:only-of-type {\n",
       "        vertical-align: middle;\n",
       "    }\n",
       "\n",
       "    .dataframe tbody tr th {\n",
       "        vertical-align: top;\n",
       "    }\n",
       "\n",
       "    .dataframe thead th {\n",
       "        text-align: right;\n",
       "    }\n",
       "</style>\n",
       "<table border=\"1\" class=\"dataframe\">\n",
       "  <thead>\n",
       "    <tr style=\"text-align: right;\">\n",
       "      <th></th>\n",
       "      <th>##</th>\n",
       "      <th>###</th>\n",
       "      <th>####</th>\n",
       "      <th>#####</th>\n",
       "      <th>####s</th>\n",
       "      <th>###million</th>\n",
       "      <th>###th</th>\n",
       "      <th>##ers</th>\n",
       "      <th>##million</th>\n",
       "      <th>##minute</th>\n",
       "      <th>...</th>\n",
       "      <th>‘no</th>\n",
       "      <th>‘star</th>\n",
       "      <th>‘the</th>\n",
       "      <th>‘this</th>\n",
       "      <th>‘we</th>\n",
       "      <th>‘you</th>\n",
       "      <th>’##</th>\n",
       "      <th>’em</th>\n",
       "      <th>’s</th>\n",
       "      <th>…</th>\n",
       "    </tr>\n",
       "  </thead>\n",
       "  <tbody>\n",
       "    <tr>\n",
       "      <th>0</th>\n",
       "      <td>0.0</td>\n",
       "      <td>0.000000</td>\n",
       "      <td>0.0</td>\n",
       "      <td>0.0</td>\n",
       "      <td>0.0</td>\n",
       "      <td>0.0</td>\n",
       "      <td>0.0</td>\n",
       "      <td>0.0</td>\n",
       "      <td>0.0</td>\n",
       "      <td>0.0</td>\n",
       "      <td>...</td>\n",
       "      <td>0.0</td>\n",
       "      <td>0.0</td>\n",
       "      <td>0.0</td>\n",
       "      <td>0.0</td>\n",
       "      <td>0.0</td>\n",
       "      <td>0.0</td>\n",
       "      <td>0.0</td>\n",
       "      <td>0.0</td>\n",
       "      <td>0.0</td>\n",
       "      <td>0.0</td>\n",
       "    </tr>\n",
       "    <tr>\n",
       "      <th>1</th>\n",
       "      <td>0.0</td>\n",
       "      <td>0.277369</td>\n",
       "      <td>0.0</td>\n",
       "      <td>0.0</td>\n",
       "      <td>0.0</td>\n",
       "      <td>0.0</td>\n",
       "      <td>0.0</td>\n",
       "      <td>0.0</td>\n",
       "      <td>0.0</td>\n",
       "      <td>0.0</td>\n",
       "      <td>...</td>\n",
       "      <td>0.0</td>\n",
       "      <td>0.0</td>\n",
       "      <td>0.0</td>\n",
       "      <td>0.0</td>\n",
       "      <td>0.0</td>\n",
       "      <td>0.0</td>\n",
       "      <td>0.0</td>\n",
       "      <td>0.0</td>\n",
       "      <td>0.0</td>\n",
       "      <td>0.0</td>\n",
       "    </tr>\n",
       "    <tr>\n",
       "      <th>2</th>\n",
       "      <td>0.0</td>\n",
       "      <td>0.000000</td>\n",
       "      <td>0.0</td>\n",
       "      <td>0.0</td>\n",
       "      <td>0.0</td>\n",
       "      <td>0.0</td>\n",
       "      <td>0.0</td>\n",
       "      <td>0.0</td>\n",
       "      <td>0.0</td>\n",
       "      <td>0.0</td>\n",
       "      <td>...</td>\n",
       "      <td>0.0</td>\n",
       "      <td>0.0</td>\n",
       "      <td>0.0</td>\n",
       "      <td>0.0</td>\n",
       "      <td>0.0</td>\n",
       "      <td>0.0</td>\n",
       "      <td>0.0</td>\n",
       "      <td>0.0</td>\n",
       "      <td>0.0</td>\n",
       "      <td>0.0</td>\n",
       "    </tr>\n",
       "    <tr>\n",
       "      <th>3</th>\n",
       "      <td>0.0</td>\n",
       "      <td>0.000000</td>\n",
       "      <td>0.0</td>\n",
       "      <td>0.0</td>\n",
       "      <td>0.0</td>\n",
       "      <td>0.0</td>\n",
       "      <td>0.0</td>\n",
       "      <td>0.0</td>\n",
       "      <td>0.0</td>\n",
       "      <td>0.0</td>\n",
       "      <td>...</td>\n",
       "      <td>0.0</td>\n",
       "      <td>0.0</td>\n",
       "      <td>0.0</td>\n",
       "      <td>0.0</td>\n",
       "      <td>0.0</td>\n",
       "      <td>0.0</td>\n",
       "      <td>0.0</td>\n",
       "      <td>0.0</td>\n",
       "      <td>0.0</td>\n",
       "      <td>0.0</td>\n",
       "    </tr>\n",
       "    <tr>\n",
       "      <th>4</th>\n",
       "      <td>0.0</td>\n",
       "      <td>0.000000</td>\n",
       "      <td>0.0</td>\n",
       "      <td>0.0</td>\n",
       "      <td>0.0</td>\n",
       "      <td>0.0</td>\n",
       "      <td>0.0</td>\n",
       "      <td>0.0</td>\n",
       "      <td>0.0</td>\n",
       "      <td>0.0</td>\n",
       "      <td>...</td>\n",
       "      <td>0.0</td>\n",
       "      <td>0.0</td>\n",
       "      <td>0.0</td>\n",
       "      <td>0.0</td>\n",
       "      <td>0.0</td>\n",
       "      <td>0.0</td>\n",
       "      <td>0.0</td>\n",
       "      <td>0.0</td>\n",
       "      <td>0.0</td>\n",
       "      <td>0.0</td>\n",
       "    </tr>\n",
       "  </tbody>\n",
       "</table>\n",
       "<p>5 rows × 3304 columns</p>\n",
       "</div>"
      ],
      "text/plain": [
       "    ##       ###  ####  #####  ####s  ###million  ###th  ##ers  ##million  \\\n",
       "0  0.0  0.000000   0.0    0.0    0.0         0.0    0.0    0.0        0.0   \n",
       "1  0.0  0.277369   0.0    0.0    0.0         0.0    0.0    0.0        0.0   \n",
       "2  0.0  0.000000   0.0    0.0    0.0         0.0    0.0    0.0        0.0   \n",
       "3  0.0  0.000000   0.0    0.0    0.0         0.0    0.0    0.0        0.0   \n",
       "4  0.0  0.000000   0.0    0.0    0.0         0.0    0.0    0.0        0.0   \n",
       "\n",
       "   ##minute  ...  ‘no  ‘star  ‘the  ‘this  ‘we  ‘you  ’##  ’em   ’s    …  \n",
       "0       0.0  ...  0.0    0.0   0.0    0.0  0.0   0.0  0.0  0.0  0.0  0.0  \n",
       "1       0.0  ...  0.0    0.0   0.0    0.0  0.0   0.0  0.0  0.0  0.0  0.0  \n",
       "2       0.0  ...  0.0    0.0   0.0    0.0  0.0   0.0  0.0  0.0  0.0  0.0  \n",
       "3       0.0  ...  0.0    0.0   0.0    0.0  0.0   0.0  0.0  0.0  0.0  0.0  \n",
       "4       0.0  ...  0.0    0.0   0.0    0.0  0.0   0.0  0.0  0.0  0.0  0.0  \n",
       "\n",
       "[5 rows x 3304 columns]"
      ]
     },
     "execution_count": 30,
     "metadata": {},
     "output_type": "execute_result"
    }
   ],
   "source": [
    "X_rem_tfidf.head()"
   ]
  },
  {
   "cell_type": "markdown",
   "metadata": {},
   "source": [
    "***"
   ]
  },
  {
   "cell_type": "markdown",
   "metadata": {},
   "source": [
    "### Modelling\n",
    "<a id='models'></a>\n",
    "\n",
    "#### Logistic Regression\n",
    "\n",
    "I will start fitting the model with the default parameters. "
   ]
  },
  {
   "cell_type": "code",
   "execution_count": 32,
   "metadata": {},
   "outputs": [
    {
     "data": {
      "text/plain": [
       "LogisticRegression(C=1.0, class_weight=None, dual=False, fit_intercept=True,\n",
       "                   intercept_scaling=1, l1_ratio=None, max_iter=100,\n",
       "                   multi_class='auto', n_jobs=None, penalty='l2',\n",
       "                   random_state=None, solver='lbfgs', tol=0.0001, verbose=0,\n",
       "                   warm_start=False)"
      ]
     },
     "execution_count": 32,
     "metadata": {},
     "output_type": "execute_result"
    }
   ],
   "source": [
    "from sklearn.linear_model import LogisticRegression\n",
    "\n",
    "# 1 Instantiate\n",
    "\n",
    "logit_tfidf = LogisticRegression()\n",
    "\n",
    "# 2 Fit\n",
    "\n",
    "logit_tfidf.fit(X_train_tfidf, y_train)"
   ]
  },
  {
   "cell_type": "code",
   "execution_count": 33,
   "metadata": {},
   "outputs": [
    {
     "name": "stdout",
     "output_type": "stream",
     "text": [
      "Score of training: 0.8255909010129732\n",
      "Score of validation: 0.7812599936040934\n"
     ]
    }
   ],
   "source": [
    "# 3 Score\n",
    "\n",
    "print(f'Score of training: {logit_tfidf.score(X_train_tfidf, y_train)}')\n",
    "print(f'Score of validation: {logit_tfidf.score(X_val_tfidf, y_val)}')"
   ]
  },
  {
   "cell_type": "markdown",
   "metadata": {},
   "source": [
    "The validation score from this initial model is lower than the original logit, however not significantly (83% vs 78%). The model doesn't seem to be overfitted, however. I feel good about this model so far. To evaluate model further, I would create a confusion matrix and I will also pull out the most predictive words for each class."
   ]
  },
  {
   "cell_type": "code",
   "execution_count": 34,
   "metadata": {},
   "outputs": [],
   "source": [
    "# Predict the class variables for the validation set\n",
    "\n",
    "y_pred_tfidf = logit_tfidf.predict(X_val_tfidf)"
   ]
  },
  {
   "cell_type": "code",
   "execution_count": 35,
   "metadata": {},
   "outputs": [
    {
     "data": {
      "image/png": "[encoded data removed]",
      "text/plain": [
       "<Figure size 432x288 with 2 Axes>"
      ]
     },
     "metadata": {
      "image/png": {
       "height": 261,
       "width": 355
      },
      "needs_background": "light"
     },
     "output_type": "display_data"
    }
   ],
   "source": [
    "# Confusion matrix\n",
    "\n",
    "from sklearn.metrics import confusion_matrix\n",
    "from sklearn.metrics import ConfusionMatrixDisplay\n",
    "\n",
    "conf_matrix_train = confusion_matrix(y_val, y_pred_tfidf, normalize= 'true')\n",
    "\n",
    "ConfusionMatrixDisplay(conf_matrix_train, display_labels = ['Real News', 'Satire']).plot();"
   ]
  },
  {
   "cell_type": "markdown",
   "metadata": {},
   "source": [
    "This model has a higher rate of false positive compared to the old model (28% to 19%). The false negative result is consistent compared to the old model. Now I am going to pull out the most predictive words for each class."
   ]
  },
  {
   "cell_type": "code",
   "execution_count": 36,
   "metadata": {},
   "outputs": [
    {
     "name": "stdout",
     "output_type": "stream",
     "text": [
      "REAL NEWS PREDICTIVE WORDS:\n",
      "covid##       -5.333483\n",
      "coronavirus   -4.094651\n",
      "correction    -3.573890\n",
      "dy            -3.428946\n",
      "china         -2.825715\n",
      "york          -2.807957\n",
      "pandemic      -2.675641\n",
      "lottery       -2.665577\n",
      "ottawa        -2.660490\n",
      "say           -2.659556\n",
      "fashion       -2.568080\n",
      "paris         -2.547663\n",
      "art           -2.454712\n",
      "brief         -2.376103\n",
      "it’s          -2.365481\n",
      "police        -2.285379\n",
      "two           -2.251233\n",
      "briefing      -2.208741\n",
      "chief         -2.182903\n",
      "china’s       -2.177635\n",
      "dtype: float64\n"
     ]
    }
   ],
   "source": [
    "# Pull out the most predictive words in legitimate articles\n",
    "\n",
    "print('REAL NEWS PREDICTIVE WORDS:')\n",
    "print(pd.DataFrame(logit_tfidf.coef_, columns = X_train_tfidf.columns).sum(axis = 0).sort_values(ascending = True).head(20))"
   ]
  },
  {
   "cell_type": "code",
   "execution_count": 37,
   "metadata": {},
   "outputs": [
    {
     "name": "stdout",
     "output_type": "stream",
     "text": [
      "SATIRES PREDICTIVE WORDS:\n",
      "man          5.812832\n",
      "area         4.715363\n",
      "local        4.329888\n",
      "fuck         4.110298\n",
      "nation       3.953800\n",
      "tim          3.902718\n",
      "harper       3.668033\n",
      "nfl          3.535185\n",
      "guy          3.446153\n",
      "week         3.348476\n",
      "nation’s     3.322657\n",
      "friend       3.227626\n",
      "realize      3.147230\n",
      "shit         3.104137\n",
      "clearly      3.097676\n",
      "fan          3.091043\n",
      "entire       3.072917\n",
      "##yearold    2.980856\n",
      "single       2.953348\n",
      "reveals      2.793767\n",
      "dtype: float64\n"
     ]
    }
   ],
   "source": [
    "# Pull out the most predictive words in satires articles\n",
    "\n",
    "print('SATIRES PREDICTIVE WORDS:')\n",
    "print(pd.DataFrame(logit_tfidf.coef_, columns = X_train_tfidf.columns).sum(axis = 0).sort_values(ascending = False).head(20))"
   ]
  },
  {
   "cell_type": "markdown",
   "metadata": {},
   "source": [
    "The predictive words from each classes are quite similar to the earlier model's predictive words, sans the biased 'Onion' and 'horoscope' words. The predictive words in satire class is somewhat expected. A lot of satirical articles begin with 'Local Man' or 'Area Man', whereas these terminologies are rarely used by legitimate articles. Words relating to the pandemic appear to be predictive to the legitimate  articles. It is very interesting to see that satirical articles do not report on the pandemic (or at least in a significantly smaller amount). I guess it does make sense, as satires tend to 'get' at specific societal flaws, especially if it's related to politics or policies. It would be very interesting to pickle the best iteration of this model and use it to show the most predictive words in a custom sentence. Now I would like to know if I could tune the C value for this model to obtain a better model."
   ]
  },
  {
   "cell_type": "markdown",
   "metadata": {},
   "source": [
    "***"
   ]
  },
  {
   "cell_type": "markdown",
   "metadata": {},
   "source": [
    "#### Tuning C values - Logit\n",
    "<a id='cvals'></a>"
   ]
  },
  {
   "cell_type": "markdown",
   "metadata": {},
   "source": [
    "I will re-run this model and try out a few different c-values to see if we could come up with a better model. I will be doing cross validation with this model and see which c value will give us the highest mean score. I will also create a plot to see any trend. I will change max_iter from 100 to 500 to allow for convergence."
   ]
  },
  {
   "cell_type": "code",
   "execution_count": 39,
   "metadata": {},
   "outputs": [],
   "source": [
    "# Loop and try out c-values\n",
    "\n",
    "from sklearn.model_selection import cross_val_score\n",
    "\n",
    "# Empty list for cross val scores\n",
    "\n",
    "cvs = []\n",
    "\n",
    "# Range of c values\n",
    "\n",
    "C_range = np.array([.0000001,.000001,.00001,.0001,.001,.1,\\\n",
    "                1,10,100,1000,10000,100000,1000000,10000000])\n",
    "\n",
    "# Do some cross validation\n",
    "for c in C_range:\n",
    "    LR_model = LogisticRegression(C=c, random_state=99, max_iter = 500)\n",
    "    # Take the mean\n",
    "    cv_score = np.mean(cross_val_score(LR_model, X_rem_tfidf, y_rem, cv = 6))\n",
    "    cvs.append(cv_score)"
   ]
  },
  {
   "cell_type": "code",
   "execution_count": 41,
   "metadata": {},
   "outputs": [
    {
     "data": {
      "image/png": "[encoded data removed]",
      "text/plain": [
       "<Figure size 432x288 with 1 Axes>"
      ]
     },
     "metadata": {
      "image/png": {
       "height": 263,
       "width": 392
      },
      "needs_background": "light"
     },
     "output_type": "display_data"
    }
   ],
   "source": [
    "# Plot the CV scores\n",
    "\n",
    "plt.figure()\n",
    "plt.plot(C_range, cvs,label=\"Cross Validation Score\",marker='x')\n",
    "plt.legend()\n",
    "plt.xscale(\"log\")\n",
    "plt.xlabel('Regularization Parameter: C')\n",
    "plt.ylabel('Cross Validation Score')\n",
    "plt.grid()\n",
    "plt.show();"
   ]
  },
  {
   "cell_type": "code",
   "execution_count": 107,
   "metadata": {},
   "outputs": [
    {
     "name": "stdout",
     "output_type": "stream",
     "text": [
      "The best model has C = 1.0\n"
     ]
    }
   ],
   "source": [
    "# Find the highest CV score\n",
    "\n",
    "print(f'The best model has C = {C_range[np.array(cvs).argmax()]}')"
   ]
  },
  {
   "cell_type": "markdown",
   "metadata": {},
   "source": [
    "Alas, after all fitting, the best number for c is the number we begun with. I think I will go ahead and pickle this model now, and since logit is one of the best models to pin point how predictions are made (especially in NLP), I would like to see if I could get the predictive power of each word in a sentence. Since I will not be modifying this model further, I will perform apply the test set on this model."
   ]
  },
  {
   "cell_type": "code",
   "execution_count": 38,
   "metadata": {},
   "outputs": [
    {
     "name": "stdout",
     "output_type": "stream",
     "text": [
      "Score of test: 0.7708693149107657\n"
     ]
    }
   ],
   "source": [
    "# Apply to test set\n",
    "\n",
    "print(f'Score of test: {logit_tfidf.score(X_test_tfidf, y_test)}')"
   ]
  },
  {
   "cell_type": "markdown",
   "metadata": {},
   "source": [
    "The score for the test set is very similar to the validation set (78.1% vs 77%). "
   ]
  },
  {
   "cell_type": "markdown",
   "metadata": {},
   "source": [
    "***\n",
    "#### Logistic pickling\n",
    "<a id='pickle'></a>"
   ]
  },
  {
   "cell_type": "markdown",
   "metadata": {},
   "source": [
    "Because I intend to pickle this model, I will create a pipeline that would vectorize a sentence and put the tokens into the trained logit. I will fit this pipeline to the remainder set of my data. As the vectorizer I chose to use TF-IDF with, again, my trusty tokenizer."
   ]
  },
  {
   "cell_type": "code",
   "execution_count": 40,
   "metadata": {},
   "outputs": [],
   "source": [
    "from sklearn.pipeline import make_pipeline\n",
    "\n",
    "# Logistic pipeline:\n",
    "\n",
    "logit_pipe = make_pipeline(tfidf, logit_tfidf)"
   ]
  },
  {
   "cell_type": "code",
   "execution_count": 41,
   "metadata": {},
   "outputs": [
    {
     "data": {
      "text/plain": [
       "Pipeline(memory=None,\n",
       "         steps=[('tfidfvectorizer',\n",
       "                 TfidfVectorizer(analyzer='word', binary=False,\n",
       "                                 decode_error='strict',\n",
       "                                 dtype=<class 'numpy.float64'>,\n",
       "                                 encoding='utf-8', input='content',\n",
       "                                 lowercase=True, max_df=1.0, max_features=None,\n",
       "                                 min_df=10, ngram_range=(1, 1), norm='l2',\n",
       "                                 preprocessor=None, smooth_idf=True,\n",
       "                                 stop_words=None, strip_accents=None,\n",
       "                                 sublinear_tf=False,\n",
       "                                 toke...\n",
       "                                 tokenizer=<function my_tokenizer at 0x7f867c868d40>,\n",
       "                                 use_idf=True, vocabulary=None)),\n",
       "                ('logisticregression',\n",
       "                 LogisticRegression(C=1.0, class_weight=None, dual=False,\n",
       "                                    fit_intercept=True, intercept_scaling=1,\n",
       "                                    l1_ratio=None, max_iter=100,\n",
       "                                    multi_class='auto', n_jobs=None,\n",
       "                                    penalty='l2', random_state=None,\n",
       "                                    solver='lbfgs', tol=0.0001, verbose=0,\n",
       "                                    warm_start=False))],\n",
       "         verbose=False)"
      ]
     },
     "execution_count": 41,
     "metadata": {},
     "output_type": "execute_result"
    }
   ],
   "source": [
    "# Fit pipe to remainder set\n",
    "\n",
    "logit_pipe.fit(X_rem, y_rem)"
   ]
  },
  {
   "cell_type": "markdown",
   "metadata": {},
   "source": [
    "I will now put the test set into the pipe and see how it performs!"
   ]
  },
  {
   "cell_type": "code",
   "execution_count": 42,
   "metadata": {},
   "outputs": [
    {
     "data": {
      "text/plain": [
       "0.7731721358664364"
      ]
     },
     "execution_count": 42,
     "metadata": {},
     "output_type": "execute_result"
    }
   ],
   "source": [
    "logit_pipe.score(X_test, y_test)"
   ]
  },
  {
   "cell_type": "markdown",
   "metadata": {},
   "source": [
    "Great! The result is ever so slightly better than before, I think this is because there is a larger train set for the model (using remainder as opposed to using the train set). I will now pickle the model. 🥒🥒"
   ]
  },
  {
   "cell_type": "code",
   "execution_count": 43,
   "metadata": {},
   "outputs": [],
   "source": [
    "# pickle\n",
    "\n",
    "import pickle\n",
    "\n",
    "filename = 'logit.pkl'\n",
    "pickle.dump(logit_pipe, open(filename, 'wb'))"
   ]
  },
  {
   "cell_type": "code",
   "execution_count": 44,
   "metadata": {},
   "outputs": [],
   "source": [
    "# Load the pickle to test!\n",
    "\n",
    "logit_load = pickle.load(open('logit.pkl', 'rb'))"
   ]
  },
  {
   "cell_type": "markdown",
   "metadata": {},
   "source": [
    "Looking good! Now I will attempt to pass in a custom sentence and see if I could extract its probability for each class with predict_proba method."
   ]
  },
  {
   "cell_type": "code",
   "execution_count": 48,
   "metadata": {},
   "outputs": [
    {
     "data": {
      "text/plain": [
       "array([[0.42340365, 0.57659635]])"
      ]
     },
     "execution_count": 48,
     "metadata": {},
     "output_type": "execute_result"
    }
   ],
   "source": [
    "# Try predict proba from the pickled file\n",
    "\n",
    "logit_load.predict_proba(['Family outraged by Crown’s decision to downgrade charges in death of Anishinaabe woman in Thunder Bay'])"
   ]
  },
  {
   "cell_type": "code",
   "execution_count": 50,
   "metadata": {},
   "outputs": [
    {
     "data": {
      "text/plain": [
       "array([[0.42340365, 0.57659635]])"
      ]
     },
     "execution_count": 50,
     "metadata": {},
     "output_type": "execute_result"
    }
   ],
   "source": [
    "# Parse in the same sentence to the original pipe\n",
    "\n",
    "logit_pipe.predict_proba(['Family outraged by Crown’s decision to downgrade charges in death of Anishinaabe woman in Thunder Bay'])"
   ]
  },
  {
   "cell_type": "markdown",
   "metadata": {},
   "source": [
    "Both methods give the exact same results, indicating that the pickling works! I will now find a way to extract the most predictive words out of the sentence. From some online research, I found a code written by **Benjamin Bengfort** on github that I could modify to suit this problem.\n",
    "\n",
    "Original code could be found at: https://gist.github.com/bbengfort/044682e76def583a12e6c09209c664a1"
   ]
  },
  {
   "cell_type": "code",
   "execution_count": 114,
   "metadata": {},
   "outputs": [
    {
     "data": {
      "text/plain": [
       "{'tfidfvectorizer': TfidfVectorizer(analyzer='word', binary=False, decode_error='strict',\n",
       "                 dtype=<class 'numpy.float64'>, encoding='utf-8',\n",
       "                 input='content', lowercase=True, max_df=1.0, max_features=None,\n",
       "                 min_df=10, ngram_range=(1, 1), norm='l2', preprocessor=None,\n",
       "                 smooth_idf=True, stop_words=None, strip_accents=None,\n",
       "                 sublinear_tf=False, token_pattern='(?u)\\\\b\\\\w\\\\w+\\\\b',\n",
       "                 tokenizer=<function my_tokenizer at 0x7fe436886170>,\n",
       "                 use_idf=True, vocabulary=None),\n",
       " 'logisticregression': LogisticRegression(C=1.0, class_weight=None, dual=False, fit_intercept=True,\n",
       "                    intercept_scaling=1, l1_ratio=None, max_iter=100,\n",
       "                    multi_class='auto', n_jobs=None, penalty='l2',\n",
       "                    random_state=None, solver='lbfgs', tol=0.0001, verbose=0,\n",
       "                    warm_start=False)}"
      ]
     },
     "execution_count": 114,
     "metadata": {},
     "output_type": "execute_result"
    }
   ],
   "source": [
    "logit_pipe.named_steps"
   ]
  },
  {
   "cell_type": "code",
   "execution_count": 63,
   "metadata": {},
   "outputs": [],
   "source": [
    "from operator import itemgetter\n",
    "\n",
    "def informative_features(model, text=None, n=20):\n",
    "\n",
    "    # Extract the vectorizer and the classifier from the pipeline\n",
    "    vectorizer = logit_pipe.named_steps['tfidfvectorizer']\n",
    "    classifier = model.named_steps['logisticregression']\n",
    "\n",
    "\n",
    "    if text is not None:\n",
    "        # Compute the coefficients for the text\n",
    "        tvec = vectorizer.transform([text]).toarray()\n",
    "    else:\n",
    "        # Otherwise simply use the coefficients\n",
    "        tvec = classifier.coef_\n",
    "\n",
    "    # Zip the feature names with the coefs and sort\n",
    "    coefs = sorted(\n",
    "        zip(tvec[0], vectorizer.get_feature_names()),\n",
    "        key=itemgetter(0), reverse=False)\n",
    "\n",
    "    # Fold the results in half - top predictors are zipped together\n",
    "    \n",
    "    topn  = zip(coefs[:n], coefs[:-(n+1):-1])\n",
    "\n",
    "    # Create the output string to return\n",
    "    output = []\n",
    "\n",
    "    # If text, add the predicted value to the output.\n",
    "    if text is not None:\n",
    "        output.append(\"\\\"{}\\\"\".format(text))\n",
    "        output.append(\"Classified as: {}\".format(model.predict_proba([text])))\n",
    "        output.append(\"\")\n",
    "\n",
    "    # Create two columns with most negative and most positive features.\n",
    "    for (cp, fnp), (cn, fnn) in topn:\n",
    "        output.append(\n",
    "            \"{:0.4f}{: >15}    {:0.4f}{: >15}\".format(cp, fnp, cn, fnn))\n",
    "\n",
    "    return \"\\n\".join(output)"
   ]
  },
  {
   "cell_type": "code",
   "execution_count": 64,
   "metadata": {},
   "outputs": [
    {
     "name": "stdout",
     "output_type": "stream",
     "text": [
      "\"CDC Coronavirus Testing Guidance Was Posted Against Scientists Objections\"\n",
      "Classified as: [[0.94216038 0.05783962]]\n",
      "\n",
      "0.0000             ##    0.5621      scientist\n",
      "0.0000            ###    0.5088           post\n",
      "0.0000           ####    0.4681           test\n",
      "0.0000          #####    0.4539    coronavirus\n",
      "0.0000          ####s    0.0000              …\n",
      "0.0000     ###million    0.0000             ’s\n",
      "0.0000          ###th    0.0000            ’em\n",
      "0.0000          ##ers    0.0000            ’##\n",
      "0.0000      ##million    0.0000           ‘you\n",
      "0.0000       ##minute    0.0000            ‘we\n",
      "0.0000           ##th    0.0000          ‘this\n",
      "0.0000         ##year    0.0000           ‘the\n",
      "0.0000      ##yearold    0.0000          ‘star\n",
      "0.0000              1    0.0000            ‘no\n",
      "0.0000              2    0.0000           ‘new\n",
      "0.0000             2’    0.0000          ‘just\n",
      "0.0000              3    0.0000           ‘i’m\n",
      "0.0000            3rd    0.0000          ‘it’s\n",
      "0.0000              4    0.0000             ‘i\n",
      "0.0000       4yearold    0.0000          ‘game\n"
     ]
    }
   ],
   "source": [
    "print(informative_features(logit_pipe, 'CDC Coronavirus Testing Guidance Was Posted Against Scientists Objections'))"
   ]
  },
  {
   "cell_type": "markdown",
   "metadata": {},
   "source": [
    "It's a great function, returning the predictive powers of each word. I would like to incorporate this into my API so the most important words would be highlighted. For now, I will move on to fit the SVC, Bayes, and the super-powered XGBoost."
   ]
  },
  {
   "cell_type": "markdown",
   "metadata": {},
   "source": [
    "***"
   ]
  },
  {
   "cell_type": "markdown",
   "metadata": {},
   "source": [
    "#### PCA\n",
    "<a id='pca'></a>\n",
    "\n",
    "I will now create a scale and reduce pipeline as before. "
   ]
  },
  {
   "cell_type": "code",
   "execution_count": 65,
   "metadata": {},
   "outputs": [],
   "source": [
    "# Create pipeline\n",
    "\n",
    "from sklearn.pipeline import make_pipeline\n",
    "from sklearn.preprocessing import StandardScaler\n",
    "from sklearn.decomposition import PCA\n",
    "\n",
    "scale_pca_pipe = make_pipeline(StandardScaler(), PCA(n_components = 0.8))"
   ]
  },
  {
   "cell_type": "code",
   "execution_count": 66,
   "metadata": {},
   "outputs": [],
   "source": [
    "# Fit the tfidf data to the pipeline\n",
    "\n",
    "X_train_tfidf_scaled = scale_pca_pipe.fit_transform(X_train_tfidf)\n",
    "X_val_tfidf_scaled = scale_pca_pipe.transform(X_val_tfidf)\n",
    "X_rem_tfidf_scaled = scale_pca_pipe.transform(X_rem_tfidf)"
   ]
  },
  {
   "cell_type": "markdown",
   "metadata": {},
   "source": [
    "***\n",
    "#### SVM\n",
    "<a id='svm'></a>\n",
    "\n",
    "I will now fit a linear and rbf kernel SVM to the scaled and reduced data. I will use the default value."
   ]
  },
  {
   "cell_type": "code",
   "execution_count": 34,
   "metadata": {},
   "outputs": [
    {
     "data": {
      "text/plain": [
       "SVC(C=1.0, break_ties=False, cache_size=200, class_weight=None, coef0=0.0,\n",
       "    decision_function_shape='ovr', degree=3, gamma='scale', kernel='rbf',\n",
       "    max_iter=-1, probability=False, random_state=None, shrinking=True,\n",
       "    tol=0.001, verbose=False)"
      ]
     },
     "execution_count": 34,
     "metadata": {},
     "output_type": "execute_result"
    }
   ],
   "source": [
    "# rbf kernel \n",
    "\n",
    "from sklearn.svm import SVC\n",
    "\n",
    "# 1. Instantiate\n",
    "\n",
    "svc = SVC()\n",
    "\n",
    "# 2. Fit\n",
    "\n",
    "svc.fit(X_train_tfidf_scaled, y_train)"
   ]
  },
  {
   "cell_type": "code",
   "execution_count": 35,
   "metadata": {},
   "outputs": [
    {
     "name": "stdout",
     "output_type": "stream",
     "text": [
      "Train score: 0.9028256619868491\n"
     ]
    }
   ],
   "source": [
    "# Score train set\n",
    "\n",
    "print(f'Train score: {svc.score(X_train_tfidf_scaled, y_train)}')"
   ]
  },
  {
   "cell_type": "code",
   "execution_count": 36,
   "metadata": {},
   "outputs": [
    {
     "name": "stdout",
     "output_type": "stream",
     "text": [
      "Validation score: 0.776782858970259\n"
     ]
    }
   ],
   "source": [
    "# Score val set\n",
    "\n",
    "print(f'Validation score: {svc.score(X_val_tfidf_scaled, y_val)}')"
   ]
  },
  {
   "cell_type": "markdown",
   "metadata": {},
   "source": [
    "The result for the rbf model is lower compared to the earlier rbf SVM model (78% vs 83%). Again, this is expected as we have removed the most predictive features. This model also appear to be slightly overfitted, with 90% training accuracy. I will now fit the linear SVM. Again, I will be using the default values."
   ]
  },
  {
   "cell_type": "code",
   "execution_count": 37,
   "metadata": {},
   "outputs": [
    {
     "name": "stderr",
     "output_type": "stream",
     "text": [
      "/Users/gabrielatanumihardja/opt/anaconda3/lib/python3.7/site-packages/sklearn/svm/_base.py:947: ConvergenceWarning: Liblinear failed to converge, increase the number of iterations.\n",
      "  \"the number of iterations.\", ConvergenceWarning)\n"
     ]
    },
    {
     "data": {
      "text/plain": [
       "LinearSVC(C=1.0, class_weight=None, dual=True, fit_intercept=True,\n",
       "          intercept_scaling=1, loss='squared_hinge', max_iter=1000,\n",
       "          multi_class='ovr', penalty='l2', random_state=None, tol=0.0001,\n",
       "          verbose=0)"
      ]
     },
     "execution_count": 37,
     "metadata": {},
     "output_type": "execute_result"
    }
   ],
   "source": [
    "from sklearn.svm import LinearSVC\n",
    "\n",
    "# Instantiate\n",
    "\n",
    "lin_svc = LinearSVC()\n",
    "\n",
    "# Fit\n",
    "\n",
    "lin_svc.fit(X_train_tfidf_scaled, y_train)"
   ]
  },
  {
   "cell_type": "code",
   "execution_count": 38,
   "metadata": {},
   "outputs": [
    {
     "name": "stdout",
     "output_type": "stream",
     "text": [
      "Train score: 0.7465789941354185\n"
     ]
    }
   ],
   "source": [
    "# Score\n",
    "\n",
    "print(f'Train score: {lin_svc.score(X_train_tfidf_scaled, y_train)}')"
   ]
  },
  {
   "cell_type": "code",
   "execution_count": 39,
   "metadata": {},
   "outputs": [
    {
     "name": "stdout",
     "output_type": "stream",
     "text": [
      "Validation score: 0.7204988807163415\n"
     ]
    }
   ],
   "source": [
    "# Score\n",
    "\n",
    "print(f'Validation score: {lin_svc.score(X_val_tfidf_scaled, y_val)}')"
   ]
  },
  {
   "cell_type": "markdown",
   "metadata": {},
   "source": [
    "The result for the linear SVM with the new dataset is also lower compared to the earlier linear SVM model (72% vs 78%). I expect that this decrease is due to the same reason that the rbf SVM's accuracy decreased. Next up, Bayes."
   ]
  },
  {
   "cell_type": "markdown",
   "metadata": {},
   "source": [
    "***"
   ]
  },
  {
   "cell_type": "markdown",
   "metadata": {},
   "source": [
    "#### Multinomial Bayes\n",
    "<a id='bae'></a>\n",
    "\n",
    "I will now fit the new data to multinomial Bayes model. This model has been very popular with SPAM detection and other NLP classification models. Bayes models are very easy to understand and very transparent in the ways it classifies."
   ]
  },
  {
   "cell_type": "code",
   "execution_count": 40,
   "metadata": {},
   "outputs": [],
   "source": [
    "from sklearn.naive_bayes import MultinomialNB"
   ]
  },
  {
   "cell_type": "code",
   "execution_count": 41,
   "metadata": {},
   "outputs": [
    {
     "name": "stdout",
     "output_type": "stream",
     "text": [
      "training score: 0.7969077661275991\n",
      "val score: 0.767188999040614\n"
     ]
    }
   ],
   "source": [
    "# Instantiate\n",
    "\n",
    "bayes = MultinomialNB()\n",
    "\n",
    "# Fit\n",
    "\n",
    "bayes.fit(X_train_tfidf, y_train)\n",
    "\n",
    "# Score\n",
    "\n",
    "print(f'training score: {bayes.score(X_train_tfidf, y_train)}')\n",
    "print(f'val score: {bayes.score(X_val_tfidf, y_val)}')"
   ]
  },
  {
   "cell_type": "markdown",
   "metadata": {},
   "source": [
    "The results for this model is very good, at 77%, comparable to the logit model we have created."
   ]
  },
  {
   "cell_type": "markdown",
   "metadata": {},
   "source": [
    "***"
   ]
  },
  {
   "cell_type": "markdown",
   "metadata": {},
   "source": [
    "#### XGBoost\n",
    "<a id='xg'></a>\n",
    "Next up, I will fit my dataset to the XGBoost model. It is a super-powered version of the a gradient boosting method. I will fit and score the new dataset on this model"
   ]
  },
  {
   "cell_type": "code",
   "execution_count": 70,
   "metadata": {},
   "outputs": [],
   "source": [
    "import xgboost as xgb\n",
    "from sklearn.model_selection import cross_val_score"
   ]
  },
  {
   "cell_type": "code",
   "execution_count": 74,
   "metadata": {},
   "outputs": [
    {
     "name": "stdout",
     "output_type": "stream",
     "text": [
      "[17:58:57] INFO: src/tree/updater_prune.cc:74: tree pruning end, 1 roots, 12 extra nodes, 0 pruned nodes, max_depth=3\n",
      "[17:59:01] INFO: src/tree/updater_prune.cc:74: tree pruning end, 1 roots, 12 extra nodes, 0 pruned nodes, max_depth=3\n",
      "[17:59:06] INFO: src/tree/updater_prune.cc:74: tree pruning end, 1 roots, 12 extra nodes, 0 pruned nodes, max_depth=3\n",
      "[17:59:10] INFO: src/tree/updater_prune.cc:74: tree pruning end, 1 roots, 12 extra nodes, 0 pruned nodes, max_depth=3\n",
      "[17:59:14] INFO: src/tree/updater_prune.cc:74: tree pruning end, 1 roots, 12 extra nodes, 0 pruned nodes, max_depth=3\n",
      "[17:59:19] INFO: src/tree/updater_prune.cc:74: tree pruning end, 1 roots, 12 extra nodes, 0 pruned nodes, max_depth=3\n",
      "[17:59:23] INFO: src/tree/updater_prune.cc:74: tree pruning end, 1 roots, 12 extra nodes, 0 pruned nodes, max_depth=3\n",
      "[17:59:27] INFO: src/tree/updater_prune.cc:74: tree pruning end, 1 roots, 12 extra nodes, 0 pruned nodes, max_depth=3\n",
      "[17:59:32] INFO: src/tree/updater_prune.cc:74: tree pruning end, 1 roots, 12 extra nodes, 0 pruned nodes, max_depth=3\n",
      "[17:59:36] INFO: src/tree/updater_prune.cc:74: tree pruning end, 1 roots, 14 extra nodes, 0 pruned nodes, max_depth=3\n",
      "[17:59:40] INFO: src/tree/updater_prune.cc:74: tree pruning end, 1 roots, 12 extra nodes, 0 pruned nodes, max_depth=3\n",
      "[17:59:45] INFO: src/tree/updater_prune.cc:74: tree pruning end, 1 roots, 12 extra nodes, 0 pruned nodes, max_depth=3\n",
      "[17:59:50] INFO: src/tree/updater_prune.cc:74: tree pruning end, 1 roots, 12 extra nodes, 0 pruned nodes, max_depth=3\n",
      "[17:59:54] INFO: src/tree/updater_prune.cc:74: tree pruning end, 1 roots, 12 extra nodes, 0 pruned nodes, max_depth=3\n",
      "[17:59:58] INFO: src/tree/updater_prune.cc:74: tree pruning end, 1 roots, 8 extra nodes, 0 pruned nodes, max_depth=3\n",
      "[18:00:03] INFO: src/tree/updater_prune.cc:74: tree pruning end, 1 roots, 12 extra nodes, 0 pruned nodes, max_depth=3\n",
      "[18:00:08] INFO: src/tree/updater_prune.cc:74: tree pruning end, 1 roots, 8 extra nodes, 0 pruned nodes, max_depth=3\n",
      "[18:00:12] INFO: src/tree/updater_prune.cc:74: tree pruning end, 1 roots, 10 extra nodes, 0 pruned nodes, max_depth=3\n",
      "[18:00:17] INFO: src/tree/updater_prune.cc:74: tree pruning end, 1 roots, 14 extra nodes, 0 pruned nodes, max_depth=3\n",
      "[18:00:22] INFO: src/tree/updater_prune.cc:74: tree pruning end, 1 roots, 14 extra nodes, 0 pruned nodes, max_depth=3\n",
      "[18:00:26] INFO: src/tree/updater_prune.cc:74: tree pruning end, 1 roots, 10 extra nodes, 0 pruned nodes, max_depth=3\n",
      "[18:00:31] INFO: src/tree/updater_prune.cc:74: tree pruning end, 1 roots, 12 extra nodes, 0 pruned nodes, max_depth=3\n",
      "[18:00:36] INFO: src/tree/updater_prune.cc:74: tree pruning end, 1 roots, 10 extra nodes, 0 pruned nodes, max_depth=3\n",
      "[18:00:41] INFO: src/tree/updater_prune.cc:74: tree pruning end, 1 roots, 8 extra nodes, 0 pruned nodes, max_depth=3\n",
      "[18:00:45] INFO: src/tree/updater_prune.cc:74: tree pruning end, 1 roots, 14 extra nodes, 0 pruned nodes, max_depth=3\n",
      "[18:00:50] INFO: src/tree/updater_prune.cc:74: tree pruning end, 1 roots, 14 extra nodes, 0 pruned nodes, max_depth=3\n",
      "[18:00:54] INFO: src/tree/updater_prune.cc:74: tree pruning end, 1 roots, 12 extra nodes, 0 pruned nodes, max_depth=3\n",
      "[18:00:59] INFO: src/tree/updater_prune.cc:74: tree pruning end, 1 roots, 8 extra nodes, 0 pruned nodes, max_depth=3\n",
      "[18:01:03] INFO: src/tree/updater_prune.cc:74: tree pruning end, 1 roots, 10 extra nodes, 0 pruned nodes, max_depth=3\n",
      "[18:01:08] INFO: src/tree/updater_prune.cc:74: tree pruning end, 1 roots, 14 extra nodes, 0 pruned nodes, max_depth=3\n",
      "[18:01:12] INFO: src/tree/updater_prune.cc:74: tree pruning end, 1 roots, 10 extra nodes, 0 pruned nodes, max_depth=3\n",
      "[18:01:17] INFO: src/tree/updater_prune.cc:74: tree pruning end, 1 roots, 12 extra nodes, 0 pruned nodes, max_depth=3\n",
      "[18:01:21] INFO: src/tree/updater_prune.cc:74: tree pruning end, 1 roots, 8 extra nodes, 0 pruned nodes, max_depth=3\n",
      "[18:01:26] INFO: src/tree/updater_prune.cc:74: tree pruning end, 1 roots, 12 extra nodes, 0 pruned nodes, max_depth=3\n",
      "[18:01:30] INFO: src/tree/updater_prune.cc:74: tree pruning end, 1 roots, 12 extra nodes, 0 pruned nodes, max_depth=3\n",
      "[18:01:34] INFO: src/tree/updater_prune.cc:74: tree pruning end, 1 roots, 12 extra nodes, 0 pruned nodes, max_depth=3\n",
      "[18:01:39] INFO: src/tree/updater_prune.cc:74: tree pruning end, 1 roots, 8 extra nodes, 0 pruned nodes, max_depth=3\n",
      "[18:01:43] INFO: src/tree/updater_prune.cc:74: tree pruning end, 1 roots, 12 extra nodes, 0 pruned nodes, max_depth=3\n",
      "[18:01:48] INFO: src/tree/updater_prune.cc:74: tree pruning end, 1 roots, 14 extra nodes, 0 pruned nodes, max_depth=3\n",
      "[18:01:52] INFO: src/tree/updater_prune.cc:74: tree pruning end, 1 roots, 12 extra nodes, 0 pruned nodes, max_depth=3\n",
      "[18:01:56] INFO: src/tree/updater_prune.cc:74: tree pruning end, 1 roots, 12 extra nodes, 0 pruned nodes, max_depth=3\n",
      "[18:02:01] INFO: src/tree/updater_prune.cc:74: tree pruning end, 1 roots, 14 extra nodes, 0 pruned nodes, max_depth=3\n",
      "[18:02:05] INFO: src/tree/updater_prune.cc:74: tree pruning end, 1 roots, 12 extra nodes, 0 pruned nodes, max_depth=3\n",
      "[18:02:10] INFO: src/tree/updater_prune.cc:74: tree pruning end, 1 roots, 8 extra nodes, 0 pruned nodes, max_depth=3\n",
      "[18:02:15] INFO: src/tree/updater_prune.cc:74: tree pruning end, 1 roots, 8 extra nodes, 0 pruned nodes, max_depth=3\n",
      "[18:02:20] INFO: src/tree/updater_prune.cc:74: tree pruning end, 1 roots, 12 extra nodes, 0 pruned nodes, max_depth=3\n",
      "[18:02:24] INFO: src/tree/updater_prune.cc:74: tree pruning end, 1 roots, 12 extra nodes, 0 pruned nodes, max_depth=3\n",
      "[18:02:29] INFO: src/tree/updater_prune.cc:74: tree pruning end, 1 roots, 8 extra nodes, 0 pruned nodes, max_depth=3\n",
      "[18:02:33] INFO: src/tree/updater_prune.cc:74: tree pruning end, 1 roots, 12 extra nodes, 0 pruned nodes, max_depth=3\n",
      "[18:02:37] INFO: src/tree/updater_prune.cc:74: tree pruning end, 1 roots, 12 extra nodes, 0 pruned nodes, max_depth=3\n",
      "[18:02:42] INFO: src/tree/updater_prune.cc:74: tree pruning end, 1 roots, 12 extra nodes, 0 pruned nodes, max_depth=3\n",
      "[18:02:46] INFO: src/tree/updater_prune.cc:74: tree pruning end, 1 roots, 12 extra nodes, 0 pruned nodes, max_depth=3\n",
      "[18:02:51] INFO: src/tree/updater_prune.cc:74: tree pruning end, 1 roots, 12 extra nodes, 0 pruned nodes, max_depth=3\n",
      "[18:02:55] INFO: src/tree/updater_prune.cc:74: tree pruning end, 1 roots, 10 extra nodes, 0 pruned nodes, max_depth=3\n",
      "[18:03:00] INFO: src/tree/updater_prune.cc:74: tree pruning end, 1 roots, 14 extra nodes, 0 pruned nodes, max_depth=3\n",
      "[18:03:04] INFO: src/tree/updater_prune.cc:74: tree pruning end, 1 roots, 14 extra nodes, 0 pruned nodes, max_depth=3\n",
      "[18:03:09] INFO: src/tree/updater_prune.cc:74: tree pruning end, 1 roots, 8 extra nodes, 0 pruned nodes, max_depth=3\n",
      "[18:03:13] INFO: src/tree/updater_prune.cc:74: tree pruning end, 1 roots, 8 extra nodes, 0 pruned nodes, max_depth=3\n",
      "[18:03:17] INFO: src/tree/updater_prune.cc:74: tree pruning end, 1 roots, 12 extra nodes, 0 pruned nodes, max_depth=3\n",
      "[18:03:22] INFO: src/tree/updater_prune.cc:74: tree pruning end, 1 roots, 12 extra nodes, 0 pruned nodes, max_depth=3\n",
      "[18:03:26] INFO: src/tree/updater_prune.cc:74: tree pruning end, 1 roots, 8 extra nodes, 0 pruned nodes, max_depth=3\n",
      "[18:03:31] INFO: src/tree/updater_prune.cc:74: tree pruning end, 1 roots, 8 extra nodes, 0 pruned nodes, max_depth=3\n",
      "[18:03:35] INFO: src/tree/updater_prune.cc:74: tree pruning end, 1 roots, 8 extra nodes, 0 pruned nodes, max_depth=3\n",
      "[18:03:39] INFO: src/tree/updater_prune.cc:74: tree pruning end, 1 roots, 10 extra nodes, 0 pruned nodes, max_depth=3\n",
      "[18:03:44] INFO: src/tree/updater_prune.cc:74: tree pruning end, 1 roots, 6 extra nodes, 0 pruned nodes, max_depth=3\n",
      "[18:03:48] INFO: src/tree/updater_prune.cc:74: tree pruning end, 1 roots, 8 extra nodes, 0 pruned nodes, max_depth=3\n",
      "[18:03:53] INFO: src/tree/updater_prune.cc:74: tree pruning end, 1 roots, 14 extra nodes, 0 pruned nodes, max_depth=3\n",
      "[18:03:57] INFO: src/tree/updater_prune.cc:74: tree pruning end, 1 roots, 12 extra nodes, 0 pruned nodes, max_depth=3\n",
      "[18:04:02] INFO: src/tree/updater_prune.cc:74: tree pruning end, 1 roots, 8 extra nodes, 0 pruned nodes, max_depth=3\n",
      "[18:04:06] INFO: src/tree/updater_prune.cc:74: tree pruning end, 1 roots, 8 extra nodes, 0 pruned nodes, max_depth=3\n",
      "[18:04:10] INFO: src/tree/updater_prune.cc:74: tree pruning end, 1 roots, 10 extra nodes, 0 pruned nodes, max_depth=3\n",
      "[18:04:15] INFO: src/tree/updater_prune.cc:74: tree pruning end, 1 roots, 12 extra nodes, 0 pruned nodes, max_depth=3\n",
      "[18:04:19] INFO: src/tree/updater_prune.cc:74: tree pruning end, 1 roots, 12 extra nodes, 0 pruned nodes, max_depth=3\n",
      "[18:04:23] INFO: src/tree/updater_prune.cc:74: tree pruning end, 1 roots, 12 extra nodes, 0 pruned nodes, max_depth=3\n",
      "[18:04:28] INFO: src/tree/updater_prune.cc:74: tree pruning end, 1 roots, 8 extra nodes, 0 pruned nodes, max_depth=3\n",
      "[18:04:32] INFO: src/tree/updater_prune.cc:74: tree pruning end, 1 roots, 10 extra nodes, 0 pruned nodes, max_depth=3\n",
      "[18:04:36] INFO: src/tree/updater_prune.cc:74: tree pruning end, 1 roots, 14 extra nodes, 0 pruned nodes, max_depth=3\n",
      "[18:04:41] INFO: src/tree/updater_prune.cc:74: tree pruning end, 1 roots, 14 extra nodes, 0 pruned nodes, max_depth=3\n",
      "[18:04:45] INFO: src/tree/updater_prune.cc:74: tree pruning end, 1 roots, 12 extra nodes, 0 pruned nodes, max_depth=3\n",
      "[18:04:49] INFO: src/tree/updater_prune.cc:74: tree pruning end, 1 roots, 8 extra nodes, 0 pruned nodes, max_depth=3\n",
      "[18:04:54] INFO: src/tree/updater_prune.cc:74: tree pruning end, 1 roots, 8 extra nodes, 0 pruned nodes, max_depth=3\n",
      "[18:04:58] INFO: src/tree/updater_prune.cc:74: tree pruning end, 1 roots, 12 extra nodes, 0 pruned nodes, max_depth=3\n",
      "[18:05:03] INFO: src/tree/updater_prune.cc:74: tree pruning end, 1 roots, 12 extra nodes, 0 pruned nodes, max_depth=3\n",
      "[18:05:07] INFO: src/tree/updater_prune.cc:74: tree pruning end, 1 roots, 10 extra nodes, 0 pruned nodes, max_depth=3\n",
      "[18:05:12] INFO: src/tree/updater_prune.cc:74: tree pruning end, 1 roots, 8 extra nodes, 0 pruned nodes, max_depth=3\n",
      "[18:05:16] INFO: src/tree/updater_prune.cc:74: tree pruning end, 1 roots, 12 extra nodes, 0 pruned nodes, max_depth=3\n",
      "[18:05:20] INFO: src/tree/updater_prune.cc:74: tree pruning end, 1 roots, 8 extra nodes, 0 pruned nodes, max_depth=3\n",
      "[18:05:25] INFO: src/tree/updater_prune.cc:74: tree pruning end, 1 roots, 14 extra nodes, 0 pruned nodes, max_depth=3\n",
      "[18:05:29] INFO: src/tree/updater_prune.cc:74: tree pruning end, 1 roots, 10 extra nodes, 0 pruned nodes, max_depth=3\n",
      "[18:05:33] INFO: src/tree/updater_prune.cc:74: tree pruning end, 1 roots, 10 extra nodes, 0 pruned nodes, max_depth=3\n",
      "[18:05:37] INFO: src/tree/updater_prune.cc:74: tree pruning end, 1 roots, 8 extra nodes, 0 pruned nodes, max_depth=3\n",
      "[18:05:42] INFO: src/tree/updater_prune.cc:74: tree pruning end, 1 roots, 8 extra nodes, 0 pruned nodes, max_depth=3\n",
      "[18:05:46] INFO: src/tree/updater_prune.cc:74: tree pruning end, 1 roots, 12 extra nodes, 0 pruned nodes, max_depth=3\n",
      "[18:05:51] INFO: src/tree/updater_prune.cc:74: tree pruning end, 1 roots, 8 extra nodes, 0 pruned nodes, max_depth=3\n",
      "[18:05:55] INFO: src/tree/updater_prune.cc:74: tree pruning end, 1 roots, 12 extra nodes, 0 pruned nodes, max_depth=3\n",
      "[18:05:59] INFO: src/tree/updater_prune.cc:74: tree pruning end, 1 roots, 6 extra nodes, 0 pruned nodes, max_depth=3\n",
      "[18:06:04] INFO: src/tree/updater_prune.cc:74: tree pruning end, 1 roots, 12 extra nodes, 0 pruned nodes, max_depth=3\n",
      "[18:06:08] INFO: src/tree/updater_prune.cc:74: tree pruning end, 1 roots, 8 extra nodes, 0 pruned nodes, max_depth=3\n",
      "[18:06:12] INFO: src/tree/updater_prune.cc:74: tree pruning end, 1 roots, 14 extra nodes, 0 pruned nodes, max_depth=3\n",
      "[18:06:17] INFO: src/tree/updater_prune.cc:74: tree pruning end, 1 roots, 12 extra nodes, 0 pruned nodes, max_depth=3\n",
      "training score: 0.6430069308690244\n",
      "val score: 0.6341541413495363\n"
     ]
    }
   ],
   "source": [
    "# Instantiate\n",
    "\n",
    "XGB_model = XGBClassifier(n_jobs = -1, verbosity= 2)\n",
    "\n",
    "# Fit\n",
    "\n",
    "XGB_model.fit(X_train_tfidf, y_train)\n",
    "\n",
    "# Score\n",
    "\n",
    "print(f'training score: {XGB_model.score(X_train_tfidf, y_train)}')\n",
    "print(f'val score: {XGB_model.score(X_val_tfidf, y_val)}')"
   ]
  },
  {
   "cell_type": "markdown",
   "metadata": {},
   "source": [
    "The results I'm getting with XGBoost is not very good. I believe hyperparameter tuning could help improve the scores, however I would like to try my hands on a deep learning model. I will abandon this model for now.\n",
    "\n",
    "**Move on to notebook pt 6! Deep learning**"
   ]
  },
  {
   "cell_type": "code",
   "execution_count": null,
   "metadata": {},
   "outputs": [],
   "source": []
  }
 ],
 "metadata": {
  "kernelspec": {
   "display_name": "boosting",
   "language": "python",
   "name": "boosting"
  },
  "language_info": {
   "codemirror_mode": {
    "name": "ipython",
    "version": 3
   },
   "file_extension": ".py",
   "mimetype": "text/x-python",
   "name": "python",
   "nbconvert_exporter": "python",
   "pygments_lexer": "ipython3",
   "version": "3.7.6"
  }
 },
 "nbformat": 4,
 "nbformat_minor": 4
}
