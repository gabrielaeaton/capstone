{
 "cells": [
  {
   "cell_type": "markdown",
   "metadata": {},
   "source": [
    "**Gabriela Tanumihardja**</br>\n",
    "**Capstone Project - Part VII** </br>\n",
    "**Deep Learning - BERT multilabel**"
   ]
  },
  {
   "cell_type": "markdown",
   "metadata": {},
   "source": [
    "I will now adapt the previous model to fit a multilabel problem. I will attempt to predict the source of the headlines. As stated previously, this code is adapted from Google's sample code under Apache License v2.0.\n",
    "\n",
    "https://colab.research.google.com/github/bentoml/gallery/blob/master/tensorflow/bert/bert_movie_reviews.ipynb#scrollTo=dCpvgG0vwXAZ</br>\n",
    "http://www.apache.org/licenses/LICENSE-2.0"
   ]
  },
  {
   "cell_type": "code",
   "execution_count": 15,
   "metadata": {
    "colab": {},
    "colab_type": "code",
    "executionInfo": {
     "elapsed": 2278,
     "status": "ok",
     "timestamp": 1599929589160,
     "user": {
      "displayName": "gabriela Tan",
      "photoUrl": "",
      "userId": "15881845284207793470"
     },
     "user_tz": 240
    },
    "id": "zOnui75PShW0"
   },
   "outputs": [],
   "source": [
    "!pip install -q tqdm bert-for-tf2"
   ]
  },
  {
   "cell_type": "code",
   "execution_count": 16,
   "metadata": {
    "colab": {},
    "colab_type": "code",
    "executionInfo": {
     "elapsed": 2268,
     "status": "ok",
     "timestamp": 1599929589162,
     "user": {
      "displayName": "gabriela Tan",
      "photoUrl": "",
      "userId": "15881845284207793470"
     },
     "user_tz": 240
    },
    "id": "8Rfu9yQ2SknR"
   },
   "outputs": [],
   "source": [
    "import os\n",
    "import sys\n",
    "import math\n",
    "import datetime\n",
    "from tqdm import tqdm\n",
    "import pandas as pd\n",
    "import numpy as np\n",
    "import tensorflow as tf\n",
    "import bert\n",
    "from bert import BertModelLayer\n",
    "from bert.loader import StockBertConfig, map_stock_config_to_params, load_stock_weights\n",
    "from bert.tokenization.bert_tokenization import FullTokenizer\n",
    "from tensorflow import keras\n",
    "import re"
   ]
  },
  {
   "cell_type": "code",
   "execution_count": 17,
   "metadata": {
    "colab": {
     "base_uri": "https://localhost:8080/",
     "height": 85
    },
    "colab_type": "code",
    "executionInfo": {
     "elapsed": 2259,
     "status": "ok",
     "timestamp": 1599929589163,
     "user": {
      "displayName": "gabriela Tan",
      "photoUrl": "",
      "userId": "15881845284207793470"
     },
     "user_tz": 240
    },
    "id": "_veCNI20Sm3u",
    "outputId": "68209d2a-1325-445c-8c46-1c0b5b1b4926"
   },
   "outputs": [
    {
     "name": "stdout",
     "output_type": "stream",
     "text": [
      "Tensorflow:  2.3.0\n",
      "Python:  3.6.9 (default, Jul 17 2020, 12:50:27) \n",
      "[GCC 8.4.0]\n",
      "GPU:  True\n"
     ]
    }
   ],
   "source": [
    "# check versions\n",
    "\n",
    "print(\"Tensorflow: \", tf.__version__)\n",
    "print(\"Python: \", sys.version)\n",
    "print(\"GPU: \", tf.test.is_gpu_available())\n",
    "assert sys.version_info.major == 3 and sys.version_info.minor == 6  # required by clipper benchmark"
   ]
  },
  {
   "cell_type": "code",
   "execution_count": 19,
   "metadata": {
    "colab": {
     "base_uri": "https://localhost:8080/",
     "height": 54
    },
    "colab_type": "code",
    "executionInfo": {
     "elapsed": 2244,
     "status": "ok",
     "timestamp": 1599929589165,
     "user": {
      "displayName": "gabriela Tan",
      "photoUrl": "",
      "userId": "15881845284207793470"
     },
     "user_tz": 240
    },
    "id": "jePDau2zON1b",
    "outputId": "a4e35f94-2fd6-4e5f-c5d3-6ab62c82aa2e"
   },
   "outputs": [
    {
     "name": "stdout",
     "output_type": "stream",
     "text": [
      "Drive already mounted at /content/drive; to attempt to forcibly remount, call drive.mount(\"/content/drive\", force_remount=True).\n"
     ]
    }
   ],
   "source": [
    "# mount google drive\n",
    "\n",
    "from google.colab import drive\n",
    "drive.mount('/content/drive')"
   ]
  },
  {
   "cell_type": "code",
   "execution_count": 20,
   "metadata": {
    "colab": {},
    "colab_type": "code",
    "executionInfo": {
     "elapsed": 2335,
     "status": "ok",
     "timestamp": 1599929589265,
     "user": {
      "displayName": "gabriela Tan",
      "photoUrl": "",
      "userId": "15881845284207793470"
     },
     "user_tz": 240
    },
    "id": "zgdT7nXyoKZo"
   },
   "outputs": [],
   "source": [
    "# load in data\n",
    "\n",
    "train_df = pd.read_csv('/content/drive/My Drive/CAPSTONE/BERT/multi/train_multi.csv')\n",
    "test_df = pd.read_csv('/content/drive/My Drive/CAPSTONE/BERT/multi/test_multi.csv')"
   ]
  },
  {
   "cell_type": "markdown",
   "metadata": {},
   "source": [
    "I will follow the exact same method as previous BERT model fine tuning... I will use the label column as source_code instead."
   ]
  },
  {
   "cell_type": "code",
   "execution_count": 21,
   "metadata": {
    "colab": {},
    "colab_type": "code",
    "executionInfo": {
     "elapsed": 2331,
     "status": "ok",
     "timestamp": 1599929589267,
     "user": {
      "displayName": "gabriela Tan",
      "photoUrl": "",
      "userId": "15881845284207793470"
     },
     "user_tz": 240
    },
    "id": "_PAqfQCwTLYr"
   },
   "outputs": [],
   "source": [
    "class NewsData:\n",
    "    DATA_COLUMN = \"title\"\n",
    "    LABEL_COLUMN = \"source_code\"\n",
    "    \n",
    "    def __init__(self, tokenizer: FullTokenizer, sample_size=None, max_seq_len=1024):\n",
    "        self.tokenizer = tokenizer\n",
    "        self.sample_size = sample_size\n",
    "        self.max_seq_len = 0\n",
    "\n",
    "        train, test = train_df, test_df\n",
    "        \n",
    "        train, test = map(lambda df: df.reindex(df[NewsData.DATA_COLUMN].str.len().sort_values().index), \n",
    "                          [train, test])\n",
    "                \n",
    "        if sample_size is not None:\n",
    "            train, test = train.head(sample_size), test.head(sample_size)\n",
    "            # train, test = map(lambda df: df.sample(sample_size), [train, test])\n",
    "        \n",
    "        ((self.train_x, self.train_y),\n",
    "         (self.test_x, self.test_y)) = map(self._prepare, [train, test])\n",
    "\n",
    "        print(\"max seq_len\", self.max_seq_len)\n",
    "        self.max_seq_len = min(self.max_seq_len, max_seq_len)\n",
    "        ((self.train_x, self.train_x_token_types),\n",
    "         (self.test_x, self.test_x_token_types)) = map(self._pad, \n",
    "                                                       [self.train_x, self.test_x])\n",
    "\n",
    "    def _prepare(self, df):\n",
    "        x, y = [], []\n",
    "        with tqdm(total=df.shape[0], unit_scale=True) as pbar:\n",
    "            for ndx, row in df.iterrows():\n",
    "                text, label = row[NewsData.DATA_COLUMN], row[NewsData.LABEL_COLUMN]\n",
    "                tokens = self.tokenizer.tokenize(text)\n",
    "                tokens = [\"[CLS]\"] + tokens + [\"[SEP]\"]\n",
    "                token_ids = self.tokenizer.convert_tokens_to_ids(tokens)\n",
    "                self.max_seq_len = max(self.max_seq_len, len(token_ids))\n",
    "                x.append(token_ids)\n",
    "                y.append(int(label))\n",
    "                pbar.update()\n",
    "        return np.array(x), np.array(y)\n",
    "\n",
    "    def _pad(self, ids):\n",
    "        x, t = [], []\n",
    "        token_type_ids = [0] * self.max_seq_len\n",
    "        for input_ids in ids:\n",
    "            input_ids = input_ids[:min(len(input_ids), self.max_seq_len - 2)]\n",
    "            input_ids = input_ids + [0] * (self.max_seq_len - len(input_ids))\n",
    "            x.append(np.array(input_ids))\n",
    "            t.append(token_type_ids)\n",
    "        return np.array(x), np.array(t)\n"
   ]
  },
  {
   "cell_type": "markdown",
   "metadata": {},
   "source": [
    "I have downloaded base BERT model onto my Google drive. It was downloaded from:\n",
    "https://storage.googleapis.com/bert_models/2018_10_18/uncased_L-12_H-768_A-12.zip </br>\n",
    "I will now load in the pre-trained model."
   ]
  },
  {
   "cell_type": "code",
   "execution_count": 22,
   "metadata": {
    "colab": {},
    "colab_type": "code",
    "executionInfo": {
     "elapsed": 2326,
     "status": "ok",
     "timestamp": 1599929589268,
     "user": {
      "displayName": "gabriela Tan",
      "photoUrl": "",
      "userId": "15881845284207793470"
     },
     "user_tz": 240
    },
    "id": "ObQ1D-O5TS7h"
   },
   "outputs": [],
   "source": [
    "bert_model_name=\"uncased_L-12_H-768_A-12\"\n",
    "\n",
    "bert_ckpt_dir = os.path.join(\"/content/drive/My Drive/CAPSTONE/BERT/model\", bert_model_name)\n",
    "bert_ckpt_file = os.path.join(bert_ckpt_dir, \"bert_model.ckpt\")\n",
    "bert_config_file = os.path.join(bert_ckpt_dir, \"bert_config.json\")"
   ]
  },
  {
   "cell_type": "markdown",
   "metadata": {},
   "source": [
    "#### Data Preprocessing\n",
    "\n",
    "I will now put through all my data through the tokenizer. I will use a maximum of 128 tokens, or lower if my data's actual max sequence is lower than 128. I will also use all of my training data."
   ]
  },
  {
   "cell_type": "code",
   "execution_count": 23,
   "metadata": {
    "colab": {
     "base_uri": "https://localhost:8080/",
     "height": 102
    },
    "colab_type": "code",
    "executionInfo": {
     "elapsed": 6473,
     "status": "ok",
     "timestamp": 1599929593423,
     "user": {
      "displayName": "gabriela Tan",
      "photoUrl": "",
      "userId": "15881845284207793470"
     },
     "user_tz": 240
    },
    "id": "Eu2uwFG_TflT",
    "outputId": "2d0d34f3-39be-4f04-e587-12542030e3a6"
   },
   "outputs": [
    {
     "name": "stderr",
     "output_type": "stream",
     "text": [
      "100%|██████████| 9.57k/9.57k [00:03<00:00, 3.13kit/s]\n",
      "100%|██████████| 2.39k/2.39k [00:00<00:00, 3.16kit/s]\n"
     ]
    },
    {
     "name": "stdout",
     "output_type": "stream",
     "text": [
      "max seq_len 66\n",
      "CPU times: user 4.04 s, sys: 40.7 ms, total: 4.08 s\n",
      "Wall time: 4.09 s\n"
     ]
    }
   ],
   "source": [
    "%%time\n",
    "\n",
    "tokenizer = FullTokenizer(vocab_file=os.path.join(bert_ckpt_dir, \"vocab.txt\"))\n",
    "data = NewsData(tokenizer,\n",
    "                       max_seq_len=128)"
   ]
  },
  {
   "cell_type": "code",
   "execution_count": 24,
   "metadata": {
    "colab": {
     "base_uri": "https://localhost:8080/",
     "height": 102
    },
    "colab_type": "code",
    "executionInfo": {
     "elapsed": 6465,
     "status": "ok",
     "timestamp": 1599929593424,
     "user": {
      "displayName": "gabriela Tan",
      "photoUrl": "",
      "userId": "15881845284207793470"
     },
     "user_tz": 240
    },
    "id": "mhzvJUnpTpMO",
    "outputId": "bbdac672-e3c5-4fa1-9353-7adcf7e03aea"
   },
   "outputs": [
    {
     "name": "stdout",
     "output_type": "stream",
     "text": [
      "            train_x (9568, 66)\n",
      "train_x_token_types (9568, 66)\n",
      "            train_y (9568,)\n",
      "             test_x (2392, 66)\n",
      "        max_seq_len 66\n"
     ]
    }
   ],
   "source": [
    "print(\"            train_x\", data.train_x.shape)\n",
    "print(\"train_x_token_types\", data.train_x_token_types.shape)\n",
    "print(\"            train_y\", data.train_y.shape)\n",
    "\n",
    "print(\"             test_x\", data.test_x.shape)\n",
    "\n",
    "print(\"        max_seq_len\", data.max_seq_len)"
   ]
  },
  {
   "cell_type": "markdown",
   "metadata": {},
   "source": [
    "The data's max_seq_len is 66 words, so that's what will be used in the model training. I will be training the entire BERT layers with my data, so the I will not be using the freeze_bert_layer function. For training, a learning rate scheduler will also be instantiated. A warm up phase will also be instantiated. Initally the training rate will be higher, making larger changes, and reduce per epoch, making finer adjustments."
   ]
  },
  {
   "cell_type": "code",
   "execution_count": 25,
   "metadata": {
    "colab": {},
    "colab_type": "code",
    "executionInfo": {
     "elapsed": 6458,
     "status": "ok",
     "timestamp": 1599929593428,
     "user": {
      "displayName": "gabriela Tan",
      "photoUrl": "",
      "userId": "15881845284207793470"
     },
     "user_tz": 240
    },
    "id": "hMMd_QqcVPsn"
   },
   "outputs": [],
   "source": [
    "def flatten_layers(root_layer):\n",
    "    if isinstance(root_layer, keras.layers.Layer):\n",
    "        yield root_layer\n",
    "    for layer in root_layer._layers:\n",
    "        for sub_layer in flatten_layers(layer):\n",
    "            yield sub_layer\n",
    "\n",
    "\n",
    "def freeze_bert_layers(l_bert):\n",
    "    \"\"\"\n",
    "    Freezes all but LayerNorm and adapter layers - see arXiv:1902.00751.\n",
    "    \"\"\"\n",
    "    for layer in flatten_layers(l_bert):\n",
    "        if layer.name in [\"LayerNorm\", \"adapter-down\", \"adapter-up\"]:\n",
    "            layer.trainable = True\n",
    "        elif len(layer._layers) == 0:\n",
    "            layer.trainable = False\n",
    "        l_bert.embeddings_layer.trainable = False\n",
    "\n",
    "\n",
    "def create_learning_rate_scheduler(max_learn_rate=5e-5,\n",
    "                                   end_learn_rate=1e-7,\n",
    "                                   warmup_epoch_count=10,\n",
    "                                   total_epoch_count=90):\n",
    "\n",
    "    def lr_scheduler(epoch):\n",
    "        if epoch < warmup_epoch_count:\n",
    "            res = (max_learn_rate/warmup_epoch_count) * (epoch + 1)\n",
    "        else:\n",
    "            res = max_learn_rate*math.exp(\n",
    "                math.log(end_learn_rate/max_learn_rate)*(epoch-warmup_epoch_count+1)/(total_epoch_count-warmup_epoch_count+1))\n",
    "        return float(res)\n",
    "    learning_rate_scheduler = tf.keras.callbacks.LearningRateScheduler(lr_scheduler, verbose=1)\n",
    "\n",
    "    return learning_rate_scheduler\n"
   ]
  },
  {
   "cell_type": "markdown",
   "metadata": {},
   "source": [
    "From here I will assemble my model, and add a layer of softmax to give the final classification probability. This function will also load the the pre-trained BERT model. Finally the function will return the compiled model."
   ]
  },
  {
   "cell_type": "code",
   "execution_count": 26,
   "metadata": {
    "colab": {},
    "colab_type": "code",
    "executionInfo": {
     "elapsed": 6443,
     "status": "ok",
     "timestamp": 1599929593430,
     "user": {
      "displayName": "gabriela Tan",
      "photoUrl": "",
      "userId": "15881845284207793470"
     },
     "user_tz": 240
    },
    "id": "yhrdBOLKVWSy"
   },
   "outputs": [],
   "source": [
    "def create_model(max_seq_len, adapter_size=64):\n",
    "    \"\"\"Creates a classification model.\"\"\"\n",
    "\n",
    "    # create the bert layer\n",
    "    with tf.io.gfile.GFile(bert_config_file, \"r\") as reader:\n",
    "        bc = StockBertConfig.from_json_string(reader.read())\n",
    "        bert_params = map_stock_config_to_params(bc)\n",
    "        bert_params.adapter_size = adapter_size\n",
    "        bert = BertModelLayer.from_params(bert_params, name=\"bert\")\n",
    "\n",
    "    input_ids      = keras.layers.Input(shape=(max_seq_len,), dtype='int32', name=\"input_ids\")\n",
    "    output         = bert(input_ids)\n",
    "\n",
    "    print(\"bert shape\", output.shape)\n",
    "    cls_out = keras.layers.Lambda(lambda seq: seq[:, 0, :])(output)\n",
    "    cls_out = keras.layers.Dropout(0.5)(cls_out)\n",
    "    logits = keras.layers.Dense(units=768, activation=\"tanh\")(cls_out)\n",
    "    logits = keras.layers.Dropout(0.5)(logits)\n",
    "    logits = keras.layers.Dense(units=4, activation=\"softmax\")(logits)\n",
    "\n",
    "    model = keras.Model(inputs=input_ids, outputs=logits)\n",
    "    model.build(input_shape=(None, max_seq_len))\n",
    "\n",
    "    # load the pre-trained model weights\n",
    "    load_stock_weights(bert, bert_ckpt_file)\n",
    "\n",
    "    # freeze weights if adapter-BERT is used\n",
    "    if adapter_size is not None:\n",
    "        freeze_bert_layers(bert)\n",
    "\n",
    "    model.compile(optimizer=keras.optimizers.Adam(),\n",
    "                loss=keras.losses.SparseCategoricalCrossentropy(from_logits=True),\n",
    "                metrics=[keras.metrics.SparseCategoricalAccuracy(name=\"acc\")])\n",
    "\n",
    "    model.summary()\n",
    "\n",
    "    return model"
   ]
  },
  {
   "cell_type": "markdown",
   "metadata": {},
   "source": [
    "Compiling model"
   ]
  },
  {
   "cell_type": "code",
   "execution_count": 27,
   "metadata": {
    "colab": {
     "base_uri": "https://localhost:8080/",
     "height": 632
    },
    "colab_type": "code",
    "executionInfo": {
     "elapsed": 10306,
     "status": "ok",
     "timestamp": 1599929597320,
     "user": {
      "displayName": "gabriela Tan",
      "photoUrl": "",
      "userId": "15881845284207793470"
     },
     "user_tz": 240
    },
    "id": "Jk0PcI7vVYX9",
    "outputId": "7a2fc6ef-eb6a-49ad-91ca-227b0828d3b9"
   },
   "outputs": [
    {
     "name": "stdout",
     "output_type": "stream",
     "text": [
      "bert shape (None, 66, 768)\n",
      "Done loading 196 BERT weights from: /content/drive/My Drive/CAPSTONE/BERT/model/uncased_L-12_H-768_A-12/bert_model.ckpt into <bert.model.BertModelLayer object at 0x7fba3a293f28> (prefix:bert). Count of weights not found in the checkpoint was: [0]. Count of weights with mismatched shape: [0]\n",
      "Unused weights from checkpoint: \n",
      "\tbert/embeddings/token_type_embeddings\n",
      "\tbert/pooler/dense/bias\n",
      "\tbert/pooler/dense/kernel\n",
      "\tcls/predictions/output_bias\n",
      "\tcls/predictions/transform/LayerNorm/beta\n",
      "\tcls/predictions/transform/LayerNorm/gamma\n",
      "\tcls/predictions/transform/dense/bias\n",
      "\tcls/predictions/transform/dense/kernel\n",
      "\tcls/seq_relationship/output_bias\n",
      "\tcls/seq_relationship/output_weights\n",
      "Model: \"functional_3\"\n",
      "_________________________________________________________________\n",
      "Layer (type)                 Output Shape              Param #   \n",
      "=================================================================\n",
      "input_ids (InputLayer)       [(None, 66)]              0         \n",
      "_________________________________________________________________\n",
      "bert (BertModelLayer)        (None, 66, 768)           108890112 \n",
      "_________________________________________________________________\n",
      "lambda_1 (Lambda)            (None, 768)               0         \n",
      "_________________________________________________________________\n",
      "dropout_2 (Dropout)          (None, 768)               0         \n",
      "_________________________________________________________________\n",
      "dense_2 (Dense)              (None, 768)               590592    \n",
      "_________________________________________________________________\n",
      "dropout_3 (Dropout)          (None, 768)               0         \n",
      "_________________________________________________________________\n",
      "dense_3 (Dense)              (None, 4)                 3076      \n",
      "=================================================================\n",
      "Total params: 109,483,780\n",
      "Trainable params: 109,483,780\n",
      "Non-trainable params: 0\n",
      "_________________________________________________________________\n"
     ]
    }
   ],
   "source": [
    "adapter_size = None \n",
    "model = create_model(data.max_seq_len, adapter_size=adapter_size)"
   ]
  },
  {
   "cell_type": "code",
   "execution_count": 28,
   "metadata": {
    "colab": {
     "base_uri": "https://localhost:8080/",
     "height": 1924
    },
    "colab_type": "code",
    "executionInfo": {
     "elapsed": 7806215,
     "status": "ok",
     "timestamp": 1599937393250,
     "user": {
      "displayName": "gabriela Tan",
      "photoUrl": "",
      "userId": "15881845284207793470"
     },
     "user_tz": 240
    },
    "id": "NFXlqRKFVakr",
    "outputId": "dee03a1c-b2cc-488b-a0f8-f1e32a381b15"
   },
   "outputs": [
    {
     "name": "stdout",
     "output_type": "stream",
     "text": [
      "\n",
      "Epoch 00001: LearningRateScheduler reducing learning rate to 5.000000000000001e-07.\n",
      "Epoch 1/30\n",
      "  2/718 [..............................] - ETA: 9:05 - loss: 1.3748 - acc: 0.4167WARNING:tensorflow:Callbacks method `on_train_batch_end` is slow compared to the batch time (batch time: 0.4289s vs `on_train_batch_end` time: 1.0957s). Check your callbacks.\n",
      "718/718 [==============================] - 296s 413ms/step - loss: 1.3904 - acc: 0.2763 - val_loss: 1.3548 - val_acc: 0.3511\n",
      "\n",
      "Epoch 00002: LearningRateScheduler reducing learning rate to 1.0000000000000002e-06.\n",
      "Epoch 2/30\n",
      "718/718 [==============================] - 292s 406ms/step - loss: 1.3279 - acc: 0.3793 - val_loss: 1.1921 - val_acc: 0.5298\n",
      "\n",
      "Epoch 00003: LearningRateScheduler reducing learning rate to 1.5000000000000002e-06.\n",
      "Epoch 3/30\n",
      "718/718 [==============================] - 289s 402ms/step - loss: 1.2468 - acc: 0.4821 - val_loss: 1.0883 - val_acc: 0.6583\n",
      "\n",
      "Epoch 00004: LearningRateScheduler reducing learning rate to 2.0000000000000003e-06.\n",
      "Epoch 4/30\n",
      "718/718 [==============================] - 291s 405ms/step - loss: 1.1833 - acc: 0.5492 - val_loss: 1.0589 - val_acc: 0.6928\n",
      "\n",
      "Epoch 00005: LearningRateScheduler reducing learning rate to 2.5000000000000006e-06.\n",
      "Epoch 5/30\n",
      "718/718 [==============================] - 289s 402ms/step - loss: 1.1215 - acc: 0.6143 - val_loss: 0.9999 - val_acc: 0.7398\n",
      "\n",
      "Epoch 00006: LearningRateScheduler reducing learning rate to 3.0000000000000005e-06.\n",
      "Epoch 6/30\n",
      "718/718 [==============================] - 287s 400ms/step - loss: 1.0561 - acc: 0.6876 - val_loss: 0.9707 - val_acc: 0.7774\n",
      "\n",
      "Epoch 00007: LearningRateScheduler reducing learning rate to 3.5000000000000004e-06.\n",
      "Epoch 7/30\n",
      "718/718 [==============================] - 289s 403ms/step - loss: 1.0024 - acc: 0.7406 - val_loss: 0.9444 - val_acc: 0.7941\n",
      "\n",
      "Epoch 00008: LearningRateScheduler reducing learning rate to 4.000000000000001e-06.\n",
      "Epoch 8/30\n",
      "718/718 [==============================] - 288s 401ms/step - loss: 0.9634 - acc: 0.7802 - val_loss: 0.9402 - val_acc: 0.7983\n",
      "\n",
      "Epoch 00009: LearningRateScheduler reducing learning rate to 4.500000000000001e-06.\n",
      "Epoch 9/30\n",
      "718/718 [==============================] - 292s 406ms/step - loss: 0.9415 - acc: 0.8015 - val_loss: 0.9395 - val_acc: 0.7983\n",
      "\n",
      "Epoch 00010: LearningRateScheduler reducing learning rate to 5.000000000000001e-06.\n",
      "Epoch 10/30\n",
      "718/718 [==============================] - 287s 400ms/step - loss: 0.9171 - acc: 0.8253 - val_loss: 0.9359 - val_acc: 0.8036\n",
      "\n",
      "Epoch 00011: LearningRateScheduler reducing learning rate to 5.500000000000001e-06.\n",
      "Epoch 11/30\n",
      "718/718 [==============================] - 289s 403ms/step - loss: 0.8955 - acc: 0.8472 - val_loss: 0.9580 - val_acc: 0.7847\n",
      "\n",
      "Epoch 00012: LearningRateScheduler reducing learning rate to 6.000000000000001e-06.\n",
      "Epoch 12/30\n",
      "718/718 [==============================] - 290s 404ms/step - loss: 0.8849 - acc: 0.8590 - val_loss: 0.9248 - val_acc: 0.8150\n",
      "\n",
      "Epoch 00013: LearningRateScheduler reducing learning rate to 6.500000000000001e-06.\n",
      "Epoch 13/30\n",
      "718/718 [==============================] - 289s 402ms/step - loss: 0.8695 - acc: 0.8721 - val_loss: 0.9356 - val_acc: 0.8067\n",
      "\n",
      "Epoch 00014: LearningRateScheduler reducing learning rate to 7.000000000000001e-06.\n",
      "Epoch 14/30\n",
      "718/718 [==============================] - 287s 400ms/step - loss: 0.8587 - acc: 0.8845 - val_loss: 0.9259 - val_acc: 0.8171\n",
      "\n",
      "Epoch 00015: LearningRateScheduler reducing learning rate to 7.500000000000001e-06.\n",
      "Epoch 15/30\n",
      "718/718 [==============================] - 288s 401ms/step - loss: 0.8561 - acc: 0.8872 - val_loss: 0.9017 - val_acc: 0.8401\n",
      "\n",
      "Epoch 00016: LearningRateScheduler reducing learning rate to 8.000000000000001e-06.\n",
      "Epoch 16/30\n",
      "718/718 [==============================] - 285s 398ms/step - loss: 0.8402 - acc: 0.9027 - val_loss: 0.9402 - val_acc: 0.7994\n",
      "\n",
      "Epoch 00017: LearningRateScheduler reducing learning rate to 8.500000000000002e-06.\n",
      "Epoch 17/30\n",
      "718/718 [==============================] - 287s 400ms/step - loss: 0.8360 - acc: 0.9071 - val_loss: 0.8905 - val_acc: 0.8516\n",
      "\n",
      "Epoch 00018: LearningRateScheduler reducing learning rate to 9.000000000000002e-06.\n",
      "Epoch 18/30\n",
      "718/718 [==============================] - 286s 398ms/step - loss: 0.8289 - acc: 0.9148 - val_loss: 0.9096 - val_acc: 0.8339\n",
      "\n",
      "Epoch 00019: LearningRateScheduler reducing learning rate to 9.500000000000002e-06.\n",
      "Epoch 19/30\n",
      "718/718 [==============================] - 285s 397ms/step - loss: 0.8222 - acc: 0.9205 - val_loss: 0.9524 - val_acc: 0.7879\n",
      "\n",
      "Epoch 00020: LearningRateScheduler reducing learning rate to 1.0000000000000003e-05.\n",
      "Epoch 20/30\n",
      "718/718 [==============================] - 287s 400ms/step - loss: 0.8242 - acc: 0.9192 - val_loss: 0.9508 - val_acc: 0.7910\n",
      "\n",
      "Epoch 00021: LearningRateScheduler reducing learning rate to 6.57933224657568e-06.\n",
      "Epoch 21/30\n",
      "718/718 [==============================] - 286s 398ms/step - loss: 0.8092 - acc: 0.9343 - val_loss: 0.9624 - val_acc: 0.7795\n",
      "\n",
      "Epoch 00022: LearningRateScheduler reducing learning rate to 4.328761281083059e-06.\n",
      "Epoch 22/30\n",
      "718/718 [==============================] - 284s 395ms/step - loss: 0.7993 - acc: 0.9436 - val_loss: 0.9307 - val_acc: 0.8109\n",
      "\n",
      "Epoch 00023: LearningRateScheduler reducing learning rate to 2.8480358684358016e-06.\n",
      "Epoch 23/30\n",
      "718/718 [==============================] - 287s 399ms/step - loss: 0.7922 - acc: 0.9512 - val_loss: 0.9153 - val_acc: 0.8286\n",
      "\n",
      "Epoch 00024: LearningRateScheduler reducing learning rate to 1.873817422860384e-06.\n",
      "Epoch 24/30\n",
      "718/718 [==============================] - 286s 398ms/step - loss: 0.7870 - acc: 0.9567 - val_loss: 0.9196 - val_acc: 0.8203\n",
      "\n",
      "Epoch 00025: LearningRateScheduler reducing learning rate to 1.2328467394420658e-06.\n",
      "Epoch 25/30\n",
      "718/718 [==============================] - 285s 397ms/step - loss: 0.7842 - acc: 0.9587 - val_loss: 0.9124 - val_acc: 0.8307\n",
      "\n",
      "Epoch 00026: LearningRateScheduler reducing learning rate to 8.11130830789687e-07.\n",
      "Epoch 26/30\n",
      "718/718 [==============================] - 285s 397ms/step - loss: 0.7828 - acc: 0.9606 - val_loss: 0.9078 - val_acc: 0.8339\n",
      "\n",
      "Epoch 00027: LearningRateScheduler reducing learning rate to 5.336699231206311e-07.\n",
      "Epoch 27/30\n",
      "718/718 [==============================] - 287s 399ms/step - loss: 0.7826 - acc: 0.9611 - val_loss: 0.9094 - val_acc: 0.8339\n",
      "CPU times: user 2h 33min 48s, sys: 7min 22s, total: 2h 41min 10s\n",
      "Wall time: 2h 9min 55s\n"
     ]
    }
   ],
   "source": [
    "%%time\n",
    "\n",
    "log_dir = \".log/satire_pred/\" + datetime.datetime.now().strftime(\"%Y%m%d-%H%M%s\")\n",
    "tensorboard_callback = keras.callbacks.TensorBoard(log_dir=log_dir)\n",
    "\n",
    "total_epoch_count = 20\n",
    "history = model.fit(x=data.train_x, y=data.train_y,\n",
    "          validation_split=0.1,\n",
    "          batch_size=12,\n",
    "          shuffle=True,\n",
    "          epochs=total_epoch_count,\n",
    "          callbacks=[create_learning_rate_scheduler(max_learn_rate=1e-5,\n",
    "                                                    end_learn_rate=1e-7,\n",
    "                                                    warmup_epoch_count=20,\n",
    "                                                    total_epoch_count=total_epoch_count),\n",
    "                     keras.callbacks.EarlyStopping(patience=10, restore_best_weights=True),\n",
    "                     tensorboard_callback])"
   ]
  },
  {
   "cell_type": "markdown",
   "metadata": {},
   "source": [
    "The result of the training is quite good at 83% validation accuracy. I will now plot the loss vs epoch and accuracy vs epoch to evaluate the training process."
   ]
  },
  {
   "cell_type": "code",
   "execution_count": 70,
   "metadata": {
    "colab": {
     "base_uri": "https://localhost:8080/",
     "height": 294
    },
    "colab_type": "code",
    "executionInfo": {
     "elapsed": 482,
     "status": "ok",
     "timestamp": 1599939167598,
     "user": {
      "displayName": "gabriela Tan",
      "photoUrl": "",
      "userId": "15881845284207793470"
     },
     "user_tz": 240
    },
    "id": "LR02Vw6PO59c",
    "outputId": "51d012a8-1bff-443c-e892-6b3f034c3d47"
   },
   "outputs": [
    {
     "data": {
      "image/png": "[encoded data removed]",
      "text/plain": [
       "<Figure size 432x288 with 1 Axes>"
      ]
     },
     "metadata": {
      "image/png": {
       "height": 277,
       "width": 388
      },
      "needs_background": "light",
      "tags": []
     },
     "output_type": "display_data"
    }
   ],
   "source": [
    "import matplotlib.pyplot as plt\n",
    "from matplotlib.ticker import MaxNLocator\n",
    "from matplotlib import rc\n",
    "\n",
    "ax = plt.figure().gca()\n",
    "ax.xaxis.set_major_locator(MaxNLocator(integer=True))\n",
    "\n",
    "ax.plot(history.history['loss'])\n",
    "ax.plot(history.history['val_loss'])\n",
    "plt.ylabel('Loss')\n",
    "plt.xlabel('Epoch')\n",
    "plt.legend(['train', 'val'])\n",
    "plt.title('Loss over training epochs - multiclass')\n",
    "plt.show();"
   ]
  },
  {
   "cell_type": "markdown",
   "metadata": {},
   "source": [
    "The train loss decrease dramatically during the first few epochs, however levels at around epoch 12, however the validation loss stabilizes at around epoch 6."
   ]
  },
  {
   "cell_type": "code",
   "execution_count": 69,
   "metadata": {
    "colab": {
     "base_uri": "https://localhost:8080/",
     "height": 294
    },
    "colab_type": "code",
    "executionInfo": {
     "elapsed": 441,
     "status": "ok",
     "timestamp": 1599939160184,
     "user": {
      "displayName": "gabriela Tan",
      "photoUrl": "",
      "userId": "15881845284207793470"
     },
     "user_tz": 240
    },
    "id": "nFSlfn96O9av",
    "outputId": "82866f95-1196-469a-bca8-13c550cb38e7"
   },
   "outputs": [
    {
     "data": {
      "image/png": "[encoded data removed]",
      "text/plain": [
       "<Figure size 432x288 with 1 Axes>"
      ]
     },
     "metadata": {
      "image/png": {
       "height": 277,
       "width": 388
      },
      "needs_background": "light",
      "tags": []
     },
     "output_type": "display_data"
    }
   ],
   "source": [
    "ax = plt.figure().gca()\n",
    "ax.xaxis.set_major_locator(MaxNLocator(integer=True))\n",
    "\n",
    "ax.plot(history.history['acc'])\n",
    "ax.plot(history.history['val_acc'])\n",
    "plt.ylabel('Accuracy')\n",
    "plt.xlabel('Epoch')\n",
    "plt.legend(['train', 'val'])\n",
    "plt.title('Accuracy over training epochs - multiclass')\n",
    "plt.show();"
   ]
  },
  {
   "cell_type": "markdown",
   "metadata": {},
   "source": [
    "Training accuracy increased and started leveling off at around epoch 12, however validation accuracy plateaus around epoch 7. I will now evaluate the test accuracy."
   ]
  },
  {
   "cell_type": "code",
   "execution_count": 32,
   "metadata": {
    "colab": {
     "base_uri": "https://localhost:8080/",
     "height": 156
    },
    "colab_type": "code",
    "executionInfo": {
     "elapsed": 63622,
     "status": "ok",
     "timestamp": 1599937503636,
     "user": {
      "displayName": "gabriela Tan",
      "photoUrl": "",
      "userId": "15881845284207793470"
     },
     "user_tz": 240
    },
    "id": "3OQSHtqIVeve",
    "outputId": "050fa054-9539-4aad-d7c1-227778226a07"
   },
   "outputs": [
    {
     "name": "stdout",
     "output_type": "stream",
     "text": [
      "  2/299 [..............................] - ETA: 49s - loss: 0.8723 - acc: 0.8750WARNING:tensorflow:Callbacks method `on_test_batch_end` is slow compared to the batch time (batch time: 0.0143s vs `on_test_batch_end` time: 0.1385s). Check your callbacks.\n",
      "299/299 [==============================] - 49s 163ms/step - loss: 0.8157 - acc: 0.9275\n",
      "75/75 [==============================] - 13s 168ms/step - loss: 0.9451 - acc: 0.7968\n",
      "train acc 0.9274665713310242\n",
      " test acc 0.796822726726532\n",
      "CPU times: user 36.2 s, sys: 19.4 s, total: 55.7 s\n",
      "Wall time: 1min 3s\n"
     ]
    }
   ],
   "source": [
    "%%time\n",
    "\n",
    "_, train_acc = model.evaluate(data.train_x, data.train_y)\n",
    "_, test_acc = model.evaluate(data.test_x, data.test_y)\n",
    "\n",
    "print(\"train acc\", train_acc)\n",
    "print(\" test acc\", test_acc)"
   ]
  },
  {
   "cell_type": "markdown",
   "metadata": {},
   "source": [
    "The test accuracy stands at 80%, which is lower than the train accuracy of 93%. There is a possibility that this model may have been overfitted slightly, however it's not too much overfitted. I will now save the trained weights for use later."
   ]
  },
  {
   "cell_type": "code",
   "execution_count": 33,
   "metadata": {
    "colab": {},
    "colab_type": "code",
    "executionInfo": {
     "elapsed": 1606,
     "status": "ok",
     "timestamp": 1599937511667,
     "user": {
      "displayName": "gabriela Tan",
      "photoUrl": "",
      "userId": "15881845284207793470"
     },
     "user_tz": 240
    },
    "id": "0prllAxQuH96"
   },
   "outputs": [],
   "source": [
    "# save weights\n",
    "\n",
    "model.save_weights('/bert_multi.h5', overwrite=True)"
   ]
  },
  {
   "cell_type": "code",
   "execution_count": 34,
   "metadata": {
    "colab": {
     "base_uri": "https://localhost:8080/",
     "height": 632
    },
    "colab_type": "code",
    "executionInfo": {
     "elapsed": 4232,
     "status": "ok",
     "timestamp": 1599937518064,
     "user": {
      "displayName": "gabriela Tan",
      "photoUrl": "",
      "userId": "15881845284207793470"
     },
     "user_tz": 240
    },
    "id": "gilfmq5Xu2jS",
    "outputId": "ae566ca7-de18-4f5a-db08-1b6f15a5bd46"
   },
   "outputs": [
    {
     "name": "stdout",
     "output_type": "stream",
     "text": [
      "bert shape (None, 66, 768)\n",
      "Done loading 196 BERT weights from: /content/drive/My Drive/CAPSTONE/BERT/model/uncased_L-12_H-768_A-12/bert_model.ckpt into <bert.model.BertModelLayer object at 0x7fb92460eb70> (prefix:bert). Count of weights not found in the checkpoint was: [0]. Count of weights with mismatched shape: [0]\n",
      "Unused weights from checkpoint: \n",
      "\tbert/embeddings/token_type_embeddings\n",
      "\tbert/pooler/dense/bias\n",
      "\tbert/pooler/dense/kernel\n",
      "\tcls/predictions/output_bias\n",
      "\tcls/predictions/transform/LayerNorm/beta\n",
      "\tcls/predictions/transform/LayerNorm/gamma\n",
      "\tcls/predictions/transform/dense/bias\n",
      "\tcls/predictions/transform/dense/kernel\n",
      "\tcls/seq_relationship/output_bias\n",
      "\tcls/seq_relationship/output_weights\n",
      "Model: \"functional_5\"\n",
      "_________________________________________________________________\n",
      "Layer (type)                 Output Shape              Param #   \n",
      "=================================================================\n",
      "input_ids (InputLayer)       [(None, 66)]              0         \n",
      "_________________________________________________________________\n",
      "bert (BertModelLayer)        (None, 66, 768)           108890112 \n",
      "_________________________________________________________________\n",
      "lambda_2 (Lambda)            (None, 768)               0         \n",
      "_________________________________________________________________\n",
      "dropout_4 (Dropout)          (None, 768)               0         \n",
      "_________________________________________________________________\n",
      "dense_4 (Dense)              (None, 768)               590592    \n",
      "_________________________________________________________________\n",
      "dropout_5 (Dropout)          (None, 768)               0         \n",
      "_________________________________________________________________\n",
      "dense_5 (Dense)              (None, 4)                 3076      \n",
      "=================================================================\n",
      "Total params: 109,483,780\n",
      "Trainable params: 109,483,780\n",
      "Non-trainable params: 0\n",
      "_________________________________________________________________\n"
     ]
    }
   ],
   "source": [
    "# load model\n",
    "\n",
    "loaded_model = create_model(data.max_seq_len, adapter_size=None)\n",
    "loaded_model.load_weights(\"/bert_multi.h5\")"
   ]
  },
  {
   "cell_type": "code",
   "execution_count": 35,
   "metadata": {
    "colab": {
     "base_uri": "https://localhost:8080/",
     "height": 85
    },
    "colab_type": "code",
    "executionInfo": {
     "elapsed": 31446,
     "status": "ok",
     "timestamp": 1599937551043,
     "user": {
      "displayName": "gabriela Tan",
      "photoUrl": "",
      "userId": "15881845284207793470"
     },
     "user_tz": 240
    },
    "id": "azQ48OlAkxH9",
    "outputId": "b3ed15ff-72aa-415c-c2b1-98eaa1c56708"
   },
   "outputs": [
    {
     "name": "stdout",
     "output_type": "stream",
     "text": [
      "75/75 [==============================] - 12s 166ms/step - loss: 0.9451 - acc: 0.7968\n",
      " test acc 0.796822726726532\n",
      "CPU times: user 14.5 s, sys: 1.65 s, total: 16.2 s\n",
      "Wall time: 31.2 s\n"
     ]
    }
   ],
   "source": [
    "# I will run the test set with the loaded model\n",
    "\n",
    "%%time \n",
    "\n",
    "_, test_acc = loaded_model.evaluate(data.test_x, data.test_y)\n",
    "\n",
    "print(\" test acc\", test_acc)"
   ]
  },
  {
   "cell_type": "markdown",
   "metadata": {},
   "source": [
    "We have the exact same results from the loaded model as the original model. I will now evaluate the model by creating a classification report and confusion matrix. I will use the test set to create these evaluations."
   ]
  },
  {
   "cell_type": "code",
   "execution_count": 59,
   "metadata": {
    "colab": {},
    "colab_type": "code",
    "executionInfo": {
     "elapsed": 13166,
     "status": "ok",
     "timestamp": 1599938247671,
     "user": {
      "displayName": "gabriela Tan",
      "photoUrl": "",
      "userId": "15881845284207793470"
     },
     "user_tz": 240
    },
    "id": "v_yvHt5ntfAM"
   },
   "outputs": [],
   "source": [
    "# make prediction on test set\n",
    "\n",
    "y_pred = loaded_model.predict(data.test_x).argmax(axis=-1)"
   ]
  },
  {
   "cell_type": "code",
   "execution_count": 60,
   "metadata": {
    "colab": {
     "base_uri": "https://localhost:8080/",
     "height": 204
    },
    "colab_type": "code",
    "executionInfo": {
     "elapsed": 10725,
     "status": "ok",
     "timestamp": 1599938247672,
     "user": {
      "displayName": "gabriela Tan",
      "photoUrl": "",
      "userId": "15881845284207793470"
     },
     "user_tz": 240
    },
    "id": "dgDZBpDAkfba",
    "outputId": "13c378bf-17d0-40f2-cdc9-d47d0ea88ace"
   },
   "outputs": [
    {
     "name": "stdout",
     "output_type": "stream",
     "text": [
      "              precision    recall  f1-score   support\n",
      "\n",
      "           0       0.81      0.65      0.72       519\n",
      "           1       0.86      0.84      0.85       673\n",
      "           2       0.74      0.81      0.77       600\n",
      "           3       0.78      0.86      0.82       600\n",
      "\n",
      "    accuracy                           0.80      2392\n",
      "   macro avg       0.80      0.79      0.79      2392\n",
      "weighted avg       0.80      0.80      0.80      2392\n",
      "\n"
     ]
    }
   ],
   "source": [
    "from sklearn.metrics import confusion_matrix, classification_report\n",
    "\n",
    "print(classification_report(data.test_y, y_pred))"
   ]
  },
  {
   "cell_type": "code",
   "execution_count": 61,
   "metadata": {
    "colab": {},
    "colab_type": "code",
    "executionInfo": {
     "elapsed": 276,
     "status": "ok",
     "timestamp": 1599938267575,
     "user": {
      "displayName": "gabriela Tan",
      "photoUrl": "",
      "userId": "15881845284207793470"
     },
     "user_tz": 240
    },
    "id": "_VTgPTsrkpwH"
   },
   "outputs": [],
   "source": [
    "group = train_df.source.unique().tolist()\n",
    "\n",
    "cm = confusion_matrix(data.test_y, y_pred)\n",
    "df_cm = pd.DataFrame(cm, index=group, columns=group)"
   ]
  },
  {
   "cell_type": "code",
   "execution_count": 67,
   "metadata": {
    "colab": {},
    "colab_type": "code",
    "executionInfo": {
     "elapsed": 318,
     "status": "ok",
     "timestamp": 1599939106539,
     "user": {
      "displayName": "gabriela Tan",
      "photoUrl": "",
      "userId": "15881845284207793470"
     },
     "user_tz": 240
    },
    "id": "1zRuON_kzU9S"
   },
   "outputs": [],
   "source": [
    "%config InlineBackend.figure_format='retina'"
   ]
  },
  {
   "cell_type": "code",
   "execution_count": 68,
   "metadata": {
    "colab": {
     "base_uri": "https://localhost:8080/",
     "height": 324
    },
    "colab_type": "code",
    "executionInfo": {
     "elapsed": 666,
     "status": "ok",
     "timestamp": 1599939108244,
     "user": {
      "displayName": "gabriela Tan",
      "photoUrl": "",
      "userId": "15881845284207793470"
     },
     "user_tz": 240
    },
    "id": "Dqs9CWcCkqkO",
    "outputId": "0be9b546-c72d-4fa0-cb84-b28b4ca6c260"
   },
   "outputs": [
    {
     "data": {
      "image/png": "[encoded data removed]",
      "text/plain": [
       "<Figure size 432x288 with 2 Axes>"
      ]
     },
     "metadata": {
      "image/png": {
       "height": 307,
       "width": 450
      },
      "needs_background": "light",
      "tags": []
     },
     "output_type": "display_data"
    }
   ],
   "source": [
    "import seaborn as sns\n",
    "\n",
    "hmap = sns.heatmap(df_cm, annot=True, fmt=\"d\")\n",
    "hmap.yaxis.set_ticklabels([\"beaverton\",\"the globe and mail\", 'the onion', 'nyt'], rotation=0, ha='right')\n",
    "hmap.xaxis.set_ticklabels([\"beaverton\",\"the globe and mail\", 'the onion', 'nyt'], rotation=30, ha='right')\n",
    "plt.ylabel('True label')\n",
    "plt.xlabel('Predicted label');"
   ]
  },
  {
   "cell_type": "markdown",
   "metadata": {},
   "source": [
    "From the confusion matrix above, it can be seen that, while the model is very good at identifying legitimate headlines, it has a problem identifying beaverton articles frm the oinion, specifically it keeps mistaking beaverton articles as onion's. It is somewhat expected as they are both North American's largest satirical news source and often share similar headlines.</br>\n",
    "From here, I would like to be able to insert custom sentences into our model. The following code will tokenize, make a [CLS] [SEP] sandwhich, convert tokens to IDs, and feed these tokens into the loaded model. "
   ]
  },
  {
   "cell_type": "code",
   "execution_count": 64,
   "metadata": {
    "colab": {
     "base_uri": "https://localhost:8080/",
     "height": 68
    },
    "colab_type": "code",
    "executionInfo": {
     "elapsed": 453,
     "status": "ok",
     "timestamp": 1599938283852,
     "user": {
      "displayName": "gabriela Tan",
      "photoUrl": "",
      "userId": "15881845284207793470"
     },
     "user_tz": 240
    },
    "id": "6ekuswUSvGkZ",
    "outputId": "3fd674b3-6c0a-4de0-9557-fa0a0151af14"
   },
   "outputs": [
    {
     "name": "stdout",
     "output_type": "stream",
     "text": [
      "['beaverton', 'beaverton', 'the globe and mail', 'nyt']\n",
      "CPU times: user 126 ms, sys: 4.03 ms, total: 130 ms\n",
      "Wall time: 133 ms\n"
     ]
    }
   ],
   "source": [
    "%%time\n",
    "CLASSES = [\"beaverton\",\"the globe and mail\", 'the onion', 'nyt']\n",
    "max_seq_len = 128\n",
    "pred_sentences = [\n",
    "  \"premier ford outraged federal government not doing his job\",\n",
    "  \"vancouver experiencing severe mothman infestation\",\n",
    "  \"most of B.C. now warned of smoky skies and lower air quality from U.S. wildfires\",\n",
    "  \"17 dead and dozens missing as western wildfires rage\",\n",
    "]\n",
    "\n",
    "inputs = pd.DataFrame(pred_sentences)\n",
    "\n",
    "pred_tokens    = map(tokenizer.tokenize, inputs.to_numpy()[:, 0].tolist())\n",
    "pred_tokens    = map(lambda tok: [\"[CLS]\"] + tok + [\"[SEP]\"], pred_tokens)\n",
    "pred_token_ids = list(map(tokenizer.convert_tokens_to_ids, pred_tokens))\n",
    "pred_token_ids = map(lambda tids: tids + [0] * (max_seq_len-len(tids)), pred_token_ids)\n",
    "pred_token_ids = np.array(list(pred_token_ids))\n",
    "\n",
    "res = loaded_model(pred_token_ids).numpy().argmax(axis=-1)\n",
    "print([CLASSES[i] for i in res])"
   ]
  },
  {
   "cell_type": "markdown",
   "metadata": {},
   "source": [
    "Good prediction! I will now save this model for easy loading."
   ]
  },
  {
   "cell_type": "code",
   "execution_count": 81,
   "metadata": {
    "colab": {
     "base_uri": "https://localhost:8080/",
     "height": 71
    },
    "colab_type": "code",
    "executionInfo": {
     "elapsed": 72588,
     "status": "ok",
     "timestamp": 1599941897966,
     "user": {
      "displayName": "gabriela Tan",
      "photoUrl": "",
      "userId": "15881845284207793470"
     },
     "user_tz": 240
    },
    "id": "RkhfiSjQ6R6U",
    "outputId": "c310be7a-d7cc-4c0b-a75f-8662861f1cbd"
   },
   "outputs": [
    {
     "name": "stdout",
     "output_type": "stream",
     "text": [
      "WARNING:tensorflow:Skipping full serialization of Keras layer <tensorflow.python.keras.layers.embeddings.Embedding object at 0x7fba55094f28>, because it is not built.\n",
      "INFO:tensorflow:Assets written to: /content/drive/My Drive/CAPSTONE/final_multi_model/assets\n"
     ]
    }
   ],
   "source": [
    "model.save('/content/drive/My Drive/CAPSTONE/final_multi_model')"
   ]
  }
 ],
 "metadata": {
  "accelerator": "GPU",
  "colab": {
   "collapsed_sections": [],
   "name": "BERT_FINAL_MULTI.ipynb",
   "provenance": [
    {
     "file_id": "1vpWYdEmgIax8dV5388u3HT_1rWALsdve",
     "timestamp": 1599880258425
    }
   ]
  },
  "kernelspec": {
   "display_name": "Python 3",
   "language": "python",
   "name": "python3"
  },
  "language_info": {
   "codemirror_mode": {
    "name": "ipython",
    "version": 3
   },
   "file_extension": ".py",
   "mimetype": "text/x-python",
   "name": "python",
   "nbconvert_exporter": "python",
   "pygments_lexer": "ipython3",
   "version": "3.7.6"
  }
 },
 "nbformat": 4,
 "nbformat_minor": 4
}
