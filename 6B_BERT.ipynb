{
 "cells": [
  {
   "cell_type": "markdown",
   "metadata": {},
   "source": [
    "**Gabriela Tanumihardja**</br>\n",
    "**Capstone Project - Part VI** </br>\n",
    "**Deep Learning - BERT**"
   ]
  },
  {
   "cell_type": "markdown",
   "metadata": {},
   "source": [
    "In this section I would like to begin my exploration into deep learning. I will use transfer learning using the Google's pretrained BERT model. I attempted to train this model on my personal laptop, however it was taking quite a while. Because of this, I will be training my model using Google Colab. The code from this notebook is adapted from Google's tutorial on using BentoML and BERT for tf2. The tutorial is licensed under the Apache License v.2.\n",
    "https://colab.research.google.com/github/bentoml/gallery/blob/master/tensorflow/bert/bert_movie_reviews.ipynb#scrollTo=dCpvgG0vwXAZ</br>\n",
    "http://www.apache.org/licenses/LICENSE-2.0"
   ]
  },
  {
   "cell_type": "code",
   "execution_count": 18,
   "metadata": {
    "colab": {},
    "colab_type": "code",
    "executionInfo": {
     "elapsed": 2481,
     "status": "ok",
     "timestamp": 1599929641075,
     "user": {
      "displayName": "Josie Eaton",
      "photoUrl": "",
      "userId": "09517213720414736042"
     },
     "user_tz": 240
    },
    "id": "zOnui75PShW0"
   },
   "outputs": [],
   "source": [
    "# Install tqdm, BERT for tensorflow2\n",
    "\n",
    "!pip install -q tqdm bert-for-tf2"
   ]
  },
  {
   "cell_type": "code",
   "execution_count": 19,
   "metadata": {
    "colab": {
     "base_uri": "https://localhost:8080/",
     "height": 34
    },
    "colab_type": "code",
    "executionInfo": {
     "elapsed": 2468,
     "status": "ok",
     "timestamp": 1599929641076,
     "user": {
      "displayName": "Josie Eaton",
      "photoUrl": "",
      "userId": "09517213720414736042"
     },
     "user_tz": 240
    },
    "id": "jePDau2zON1b",
    "outputId": "af346df6-25a0-42a6-b9e9-30ee4e84b81d"
   },
   "outputs": [
    {
     "name": "stdout",
     "output_type": "stream",
     "text": [
      "Drive already mounted at /content/drive; to attempt to forcibly remount, call drive.mount(\"/content/drive\", force_remount=True).\n"
     ]
    }
   ],
   "source": [
    "# Mount google drive\n",
    "\n",
    "from google.colab import drive\n",
    "drive.mount('/content/drive')"
   ]
  },
  {
   "cell_type": "code",
   "execution_count": 20,
   "metadata": {
    "colab": {},
    "colab_type": "code",
    "executionInfo": {
     "elapsed": 2455,
     "status": "ok",
     "timestamp": 1599929641079,
     "user": {
      "displayName": "Josie Eaton",
      "photoUrl": "",
      "userId": "09517213720414736042"
     },
     "user_tz": 240
    },
    "id": "8Rfu9yQ2SknR"
   },
   "outputs": [],
   "source": [
    "import os\n",
    "import re\n",
    "import sys\n",
    "import math\n",
    "import datetime\n",
    "from tqdm import tqdm\n",
    "import pandas as pd\n",
    "import numpy as np\n",
    "import tensorflow as tf\n",
    "from tensorflow import keras\n",
    "import bert\n",
    "from bert import BertModelLayer\n",
    "from bert.loader import StockBertConfig, map_stock_config_to_params, load_stock_weights\n",
    "from bert.tokenization.bert_tokenization import FullTokenizer"
   ]
  },
  {
   "cell_type": "code",
   "execution_count": 21,
   "metadata": {
    "colab": {
     "base_uri": "https://localhost:8080/",
     "height": 85
    },
    "colab_type": "code",
    "executionInfo": {
     "elapsed": 2352,
     "status": "ok",
     "timestamp": 1599929641080,
     "user": {
      "displayName": "Josie Eaton",
      "photoUrl": "",
      "userId": "09517213720414736042"
     },
     "user_tz": 240
    },
    "id": "_veCNI20Sm3u",
    "outputId": "83094558-3ab4-427c-d21b-ae971fa3f7b6"
   },
   "outputs": [
    {
     "name": "stdout",
     "output_type": "stream",
     "text": [
      "Tensorflow:  2.3.0\n",
      "Python:  3.6.9 (default, Jul 17 2020, 12:50:27) \n",
      "[GCC 8.4.0]\n",
      "GPU:  True\n"
     ]
    }
   ],
   "source": [
    "# Check versions\n",
    "\n",
    "print(\"Tensorflow: \", tf.__version__)\n",
    "print(\"Python: \", sys.version)\n",
    "print(\"GPU: \", tf.test.is_gpu_available())\n",
    "assert sys.version_info.major == 3 and sys.version_info.minor == 6  # required by clipper benchmark"
   ]
  },
  {
   "cell_type": "markdown",
   "metadata": {},
   "source": [
    "I will first load in the data"
   ]
  },
  {
   "cell_type": "code",
   "execution_count": 24,
   "metadata": {
    "colab": {},
    "colab_type": "code",
    "executionInfo": {
     "elapsed": 2260,
     "status": "ok",
     "timestamp": 1599929641083,
     "user": {
      "displayName": "Josie Eaton",
      "photoUrl": "",
      "userId": "09517213720414736042"
     },
     "user_tz": 240
    },
    "id": "zgdT7nXyoKZo"
   },
   "outputs": [],
   "source": [
    "# Load data from Google drive\n",
    "\n",
    "train_df = pd.read_csv('/content/drive/My Drive/CAPSTONE/BERT/data/train.csv')\n",
    "test_df = pd.read_csv('/content/drive/My Drive/CAPSTONE/BERT/data/test.csv')"
   ]
  },
  {
   "cell_type": "markdown",
   "metadata": {},
   "source": [
    "From this point, I will be using BERT's tokenizer, padding/trim the length of each headline to max_seq_length, I will also append BERT' special [CLS] and [SEP] token at the start and at the end of each entry. These tokens also need to be converted to numerical IDs using BERT's vocab.txt file."
   ]
  },
  {
   "cell_type": "code",
   "execution_count": 25,
   "metadata": {
    "colab": {},
    "colab_type": "code",
    "executionInfo": {
     "elapsed": 2461,
     "status": "ok",
     "timestamp": 1599929641295,
     "user": {
      "displayName": "Josie Eaton",
      "photoUrl": "",
      "userId": "09517213720414736042"
     },
     "user_tz": 240
    },
    "id": "_PAqfQCwTLYr"
   },
   "outputs": [],
   "source": [
    "import bert\n",
    "from bert import BertModelLayer\n",
    "from bert.loader import StockBertConfig, map_stock_config_to_params, load_stock_weights\n",
    "\n",
    "# Create a class for data preprocessing\n",
    "\n",
    "class SatireData:\n",
    "    # Name of column for the X\n",
    "    DATA_COLUMN = \"title\"\n",
    "    \n",
    "    # Name of column for the y\n",
    "    LABEL_COLUMN = \"satire\"\n",
    "    \n",
    "    def __init__(self, tokenizer: FullTokenizer, sample_size=None, max_seq_len=1024):\n",
    "        self.tokenizer = tokenizer\n",
    "        self.sample_size = sample_size\n",
    "        self.max_seq_len = 0\n",
    "\n",
    "        train, test = train_df, test_df\n",
    "        \n",
    "        train, test = map(lambda df: df.reindex(df[SatireData.DATA_COLUMN].str.len().sort_values().index), \n",
    "                          [train, test])\n",
    "                \n",
    "        if sample_size is not None:\n",
    "            train, test = train.head(sample_size), test.head(sample_size)\n",
    "            \n",
    "        ((self.train_x, self.train_y),\n",
    "         (self.test_x, self.test_y)) = map(self._prepare, [train, test])\n",
    "\n",
    "        # If the data's max seq_len is less than 1024, use that number instead\n",
    "        print(\"max seq_len\", self.max_seq_len)\n",
    "        self.max_seq_len = min(self.max_seq_len, max_seq_len)\n",
    "        ((self.train_x, self.train_x_token_types),\n",
    "         (self.test_x, self.test_x_token_types)) = map(self._pad, \n",
    "                                                       [self.train_x, self.test_x])\n",
    "\n",
    "    def _prepare(self, df):\n",
    "        x, y = [], []\n",
    "        with tqdm(total=df.shape[0], unit_scale=True) as pbar:\n",
    "            for ndx, row in df.iterrows():\n",
    "                text, label = row[SatireData.DATA_COLUMN], row[SatireData.LABEL_COLUMN]\n",
    "                tokens = self.tokenizer.tokenize(text)\n",
    "                # [CLS] [SEP] sandwhich\n",
    "                tokens = [\"[CLS]\"] + tokens + [\"[SEP]\"]\n",
    "                token_ids = self.tokenizer.convert_tokens_to_ids(tokens)\n",
    "                self.max_seq_len = max(self.max_seq_len, len(token_ids))\n",
    "                x.append(token_ids)\n",
    "                y.append(int(label))\n",
    "                pbar.update()\n",
    "        return np.array(x), np.array(y)\n",
    "\n",
    "    def _pad(self, ids):\n",
    "        # pad any entries less than max seq_len to max seq_len\n",
    "        x, t = [], []\n",
    "        token_type_ids = [0] * self.max_seq_len\n",
    "        for input_ids in ids:\n",
    "            input_ids = input_ids[:min(len(input_ids), self.max_seq_len - 2)]\n",
    "            input_ids = input_ids + [0] * (self.max_seq_len - len(input_ids))\n",
    "            x.append(np.array(input_ids))\n",
    "            t.append(token_type_ids)\n",
    "        return np.array(x), np.array(t)\n"
   ]
  },
  {
   "cell_type": "markdown",
   "metadata": {},
   "source": [
    "I have downloaded base BERT model onto my Google drive. It was downloaded from:\n",
    "https://storage.googleapis.com/bert_models/2018_10_18/uncased_L-12_H-768_A-12.zip </br>\n",
    "I will now load in the pre-trained model."
   ]
  },
  {
   "cell_type": "code",
   "execution_count": 26,
   "metadata": {
    "colab": {},
    "colab_type": "code",
    "executionInfo": {
     "elapsed": 2456,
     "status": "ok",
     "timestamp": 1599929641297,
     "user": {
      "displayName": "Josie Eaton",
      "photoUrl": "",
      "userId": "09517213720414736042"
     },
     "user_tz": 240
    },
    "id": "ObQ1D-O5TS7h"
   },
   "outputs": [],
   "source": [
    "bert_model_name=\"uncased_L-12_H-768_A-12\"\n",
    "\n",
    "bert_ckpt_dir = os.path.join(\"/content/drive/My Drive/CAPSTONE/BERT/model\", bert_model_name)\n",
    "bert_ckpt_file = os.path.join(bert_ckpt_dir, \"bert_model.ckpt\")\n",
    "bert_config_file = os.path.join(bert_ckpt_dir, \"bert_config.json\")"
   ]
  },
  {
   "cell_type": "markdown",
   "metadata": {},
   "source": [
    "#### Data Preprocessing\n",
    "\n",
    "I will now put through all my data through the tokenizer. I will use a maximum of 128 tokens, or lower if my data's actual max sequence is lower than 128. I will also use all of my training data."
   ]
  },
  {
   "cell_type": "code",
   "execution_count": 27,
   "metadata": {
    "colab": {
     "base_uri": "https://localhost:8080/",
     "height": 102
    },
    "colab_type": "code",
    "executionInfo": {
     "elapsed": 12974,
     "status": "ok",
     "timestamp": 1599929651823,
     "user": {
      "displayName": "Josie Eaton",
      "photoUrl": "",
      "userId": "09517213720414736042"
     },
     "user_tz": 240
    },
    "id": "Eu2uwFG_TflT",
    "outputId": "d461ea31-c95c-4662-94ae-91bd23e75bda"
   },
   "outputs": [
    {
     "name": "stderr",
     "output_type": "stream",
     "text": [
      "100%|██████████| 27.8k/27.8k [00:08<00:00, 3.44kit/s]\n",
      "100%|██████████| 6.95k/6.95k [00:01<00:00, 3.49kit/s]\n"
     ]
    },
    {
     "name": "stdout",
     "output_type": "stream",
     "text": [
      "max seq_len 66\n",
      "CPU times: user 10.5 s, sys: 88.1 ms, total: 10.6 s\n",
      "Wall time: 10.6 s\n"
     ]
    }
   ],
   "source": [
    "%%time\n",
    "\n",
    "tokenizer = FullTokenizer(vocab_file=os.path.join(bert_ckpt_dir, \"vocab.txt\"))\n",
    "data = SatireData(tokenizer,\n",
    "                       max_seq_len=128)"
   ]
  },
  {
   "cell_type": "code",
   "execution_count": 28,
   "metadata": {
    "colab": {
     "base_uri": "https://localhost:8080/",
     "height": 102
    },
    "colab_type": "code",
    "executionInfo": {
     "elapsed": 12880,
     "status": "ok",
     "timestamp": 1599929651824,
     "user": {
      "displayName": "Josie Eaton",
      "photoUrl": "",
      "userId": "09517213720414736042"
     },
     "user_tz": 240
    },
    "id": "mhzvJUnpTpMO",
    "outputId": "06323f49-fdf8-4ee2-b6b9-ea53397a72f2"
   },
   "outputs": [
    {
     "name": "stdout",
     "output_type": "stream",
     "text": [
      "            train_x (27788, 66)\n",
      "train_x_token_types (27788, 66)\n",
      "            train_y (27788,)\n",
      "             test_x (6948, 66)\n",
      "        max_seq_len 66\n"
     ]
    }
   ],
   "source": [
    "print(\"            train_x\", data.train_x.shape)\n",
    "print(\"train_x_token_types\", data.train_x_token_types.shape)\n",
    "print(\"            train_y\", data.train_y.shape)\n",
    "\n",
    "print(\"             test_x\", data.test_x.shape)\n",
    "\n",
    "print(\"        max_seq_len\", data.max_seq_len)"
   ]
  },
  {
   "cell_type": "markdown",
   "metadata": {},
   "source": [
    "The data's max_seq_len is 66 words, so that's what will be used in the model training. I will be training the entire BERT layers with my data, so the I will not be using the freeze_bert_layer function. For training, a learning rate scheduler will also be instantiated. A warm up phase will also be instantiated. Initally the training rate will be higher, making larger changes, and reduce per epoch, making finer adjustments."
   ]
  },
  {
   "cell_type": "code",
   "execution_count": 29,
   "metadata": {
    "colab": {},
    "colab_type": "code",
    "executionInfo": {
     "elapsed": 12870,
     "status": "ok",
     "timestamp": 1599929651825,
     "user": {
      "displayName": "Josie Eaton",
      "photoUrl": "",
      "userId": "09517213720414736042"
     },
     "user_tz": 240
    },
    "id": "hMMd_QqcVPsn"
   },
   "outputs": [],
   "source": [
    "def flatten_layers(root_layer):\n",
    "    if isinstance(root_layer, keras.layers.Layer):\n",
    "        yield root_layer\n",
    "    for layer in root_layer._layers:\n",
    "        for sub_layer in flatten_layers(layer):\n",
    "            yield sub_layer\n",
    "\n",
    "\n",
    "def freeze_bert_layers(l_bert):\n",
    "    for layer in flatten_layers(l_bert):\n",
    "        if layer.name in [\"LayerNorm\", \"adapter-down\", \"adapter-up\"]:\n",
    "            layer.trainable = True\n",
    "        elif len(layer._layers) == 0:\n",
    "            layer.trainable = False\n",
    "        l_bert.embeddings_layer.trainable = False\n",
    "\n",
    "        \n",
    "def create_learning_rate_scheduler(max_learn_rate=5e-5,\n",
    "                                   end_learn_rate=1e-7,\n",
    "                                   warmup_epoch_count=10,\n",
    "                                   total_epoch_count=90):\n",
    "\n",
    "    def lr_scheduler(epoch):\n",
    "        if epoch < warmup_epoch_count:\n",
    "            res = (max_learn_rate/warmup_epoch_count) * (epoch + 1)\n",
    "        else:\n",
    "            res = max_learn_rate*math.exp(\n",
    "                math.log(end_learn_rate/max_learn_rate)*(epoch-warmup_epoch_count+1)/(total_epoch_count-warmup_epoch_count+1))\n",
    "        return float(res)\n",
    "    learning_rate_scheduler = tf.keras.callbacks.LearningRateScheduler(lr_scheduler, verbose=1)\n",
    "\n",
    "    return learning_rate_scheduler\n"
   ]
  },
  {
   "cell_type": "markdown",
   "metadata": {},
   "source": [
    "From here I will assemble my model, and add a layer of softmax to give the final classification probability. This function will also load the the pre-trained BERT model. Finally the function will return the compiled model."
   ]
  },
  {
   "cell_type": "code",
   "execution_count": 30,
   "metadata": {
    "colab": {},
    "colab_type": "code",
    "executionInfo": {
     "elapsed": 12937,
     "status": "ok",
     "timestamp": 1599929651993,
     "user": {
      "displayName": "Josie Eaton",
      "photoUrl": "",
      "userId": "09517213720414736042"
     },
     "user_tz": 240
    },
    "id": "yhrdBOLKVWSy"
   },
   "outputs": [],
   "source": [
    "def create_model(max_seq_len, adapter_size=64):\n",
    "    \n",
    "    with tf.io.gfile.GFile(bert_config_file, \"r\") as reader:\n",
    "        bc = StockBertConfig.from_json_string(reader.read())\n",
    "        bert_params = map_stock_config_to_params(bc)\n",
    "        bert_params.adapter_size = adapter_size\n",
    "        bert = BertModelLayer.from_params(bert_params, name=\"bert\")\n",
    "\n",
    "    input_ids      = keras.layers.Input(shape=(max_seq_len,), dtype='int32', name=\"input_ids\")\n",
    "    output         = bert(input_ids)\n",
    "\n",
    "    print(\"bert shape\", output.shape)\n",
    "    cls_out = keras.layers.Lambda(lambda seq: seq[:, 0, :])(output)\n",
    "    cls_out = keras.layers.Dropout(0.5)(cls_out)\n",
    "    logits = keras.layers.Dense(units=768, activation=\"tanh\")(cls_out)\n",
    "    logits = keras.layers.Dropout(0.5)(logits)\n",
    "    logits = keras.layers.Dense(units=2, activation=\"softmax\")(logits)\n",
    "\n",
    "    model = keras.Model(inputs=input_ids, outputs=logits)\n",
    "    model.build(input_shape=(None, max_seq_len))\n",
    "\n",
    "    # load the pre-trained model weights\n",
    "    load_stock_weights(bert, bert_ckpt_file)\n",
    "\n",
    "    # freeze weights if adapter-BERT is used\n",
    "    if adapter_size is not None:\n",
    "        freeze_bert_layers(bert)\n",
    "\n",
    "    model.compile(optimizer=keras.optimizers.Adam(),\n",
    "                loss=keras.losses.SparseCategoricalCrossentropy(from_logits=True),\n",
    "                metrics=[keras.metrics.SparseCategoricalAccuracy(name=\"acc\")])\n",
    "\n",
    "    model.summary()\n",
    "\n",
    "    return model"
   ]
  },
  {
   "cell_type": "markdown",
   "metadata": {},
   "source": [
    "Compiling model"
   ]
  },
  {
   "cell_type": "code",
   "execution_count": 31,
   "metadata": {
    "colab": {
     "base_uri": "https://localhost:8080/",
     "height": 632
    },
    "colab_type": "code",
    "executionInfo": {
     "elapsed": 16705,
     "status": "ok",
     "timestamp": 1599929655771,
     "user": {
      "displayName": "Josie Eaton",
      "photoUrl": "",
      "userId": "09517213720414736042"
     },
     "user_tz": 240
    },
    "id": "Jk0PcI7vVYX9",
    "outputId": "9dd87edc-5121-4bd2-cfac-fac367e116ff"
   },
   "outputs": [
    {
     "name": "stdout",
     "output_type": "stream",
     "text": [
      "bert shape (None, 66, 768)\n",
      "Done loading 196 BERT weights from: /content/drive/My Drive/CAPSTONE/BERT/model/uncased_L-12_H-768_A-12/bert_model.ckpt into <bert.model.BertModelLayer object at 0x7f771bbedbe0> (prefix:bert). Count of weights not found in the checkpoint was: [0]. Count of weights with mismatched shape: [0]\n",
      "Unused weights from checkpoint: \n",
      "\tbert/embeddings/token_type_embeddings\n",
      "\tbert/pooler/dense/bias\n",
      "\tbert/pooler/dense/kernel\n",
      "\tcls/predictions/output_bias\n",
      "\tcls/predictions/transform/LayerNorm/beta\n",
      "\tcls/predictions/transform/LayerNorm/gamma\n",
      "\tcls/predictions/transform/dense/bias\n",
      "\tcls/predictions/transform/dense/kernel\n",
      "\tcls/seq_relationship/output_bias\n",
      "\tcls/seq_relationship/output_weights\n",
      "Model: \"functional_3\"\n",
      "_________________________________________________________________\n",
      "Layer (type)                 Output Shape              Param #   \n",
      "=================================================================\n",
      "input_ids (InputLayer)       [(None, 66)]              0         \n",
      "_________________________________________________________________\n",
      "bert (BertModelLayer)        (None, 66, 768)           108890112 \n",
      "_________________________________________________________________\n",
      "lambda_1 (Lambda)            (None, 768)               0         \n",
      "_________________________________________________________________\n",
      "dropout_2 (Dropout)          (None, 768)               0         \n",
      "_________________________________________________________________\n",
      "dense_2 (Dense)              (None, 768)               590592    \n",
      "_________________________________________________________________\n",
      "dropout_3 (Dropout)          (None, 768)               0         \n",
      "_________________________________________________________________\n",
      "dense_3 (Dense)              (None, 2)                 1538      \n",
      "=================================================================\n",
      "Total params: 109,482,242\n",
      "Trainable params: 109,482,242\n",
      "Non-trainable params: 0\n",
      "_________________________________________________________________\n"
     ]
    }
   ],
   "source": [
    "adapter_size = None\n",
    "model = create_model(data.max_seq_len, adapter_size=adapter_size)"
   ]
  },
  {
   "cell_type": "markdown",
   "metadata": {},
   "source": [
    "The final compiled model will train all 110,000,000 parameters. I will now start the model. I also have passed in an early stop to avoid overfitting"
   ]
  },
  {
   "cell_type": "code",
   "execution_count": 32,
   "metadata": {
    "colab": {
     "base_uri": "https://localhost:8080/",
     "height": 768
    },
    "colab_type": "code",
    "executionInfo": {
     "elapsed": 8152795,
     "status": "ok",
     "timestamp": 1599937791918,
     "user": {
      "displayName": "Josie Eaton",
      "photoUrl": "",
      "userId": "09517213720414736042"
     },
     "user_tz": 240
    },
    "id": "NFXlqRKFVakr",
    "outputId": "912ffe73-88dd-4929-d7f1-3905323037fc"
   },
   "outputs": [
    {
     "name": "stdout",
     "output_type": "stream",
     "text": [
      "\n",
      "Epoch 00001: LearningRateScheduler reducing learning rate to 5.000000000000001e-07.\n",
      "Epoch 1/10\n",
      "   2/2085 [..............................] - ETA: 25:55 - loss: 0.6376 - acc: 0.5833WARNING:tensorflow:Callbacks method `on_train_batch_end` is slow compared to the batch time (batch time: 0.3951s vs `on_train_batch_end` time: 1.0981s). Check your callbacks.\n",
      "2085/2085 [==============================] - 816s 391ms/step - loss: 0.6685 - acc: 0.5941 - val_loss: 0.5620 - val_acc: 0.7337\n",
      "\n",
      "Epoch 00002: LearningRateScheduler reducing learning rate to 1.0000000000000002e-06.\n",
      "Epoch 2/10\n",
      "2085/2085 [==============================] - 830s 398ms/step - loss: 0.5543 - acc: 0.7429 - val_loss: 0.4557 - val_acc: 0.8499\n",
      "\n",
      "Epoch 00003: LearningRateScheduler reducing learning rate to 1.5000000000000002e-06.\n",
      "Epoch 3/10\n",
      "2085/2085 [==============================] - 815s 391ms/step - loss: 0.4851 - acc: 0.8192 - val_loss: 0.4362 - val_acc: 0.8694\n",
      "\n",
      "Epoch 00004: LearningRateScheduler reducing learning rate to 2.0000000000000003e-06.\n",
      "Epoch 4/10\n",
      "2085/2085 [==============================] - 818s 392ms/step - loss: 0.4485 - acc: 0.8594 - val_loss: 0.4004 - val_acc: 0.9122\n",
      "\n",
      "Epoch 00005: LearningRateScheduler reducing learning rate to 2.5000000000000006e-06.\n",
      "Epoch 5/10\n",
      "2085/2085 [==============================] - 807s 387ms/step - loss: 0.4277 - acc: 0.8821 - val_loss: 0.3887 - val_acc: 0.9216\n",
      "\n",
      "Epoch 00006: LearningRateScheduler reducing learning rate to 3.0000000000000005e-06.\n",
      "Epoch 6/10\n",
      "2085/2085 [==============================] - 812s 389ms/step - loss: 0.4121 - acc: 0.8979 - val_loss: 0.3835 - val_acc: 0.9273\n",
      "\n",
      "Epoch 00007: LearningRateScheduler reducing learning rate to 3.5000000000000004e-06.\n",
      "Epoch 7/10\n",
      "2085/2085 [==============================] - 806s 387ms/step - loss: 0.4041 - acc: 0.9067 - val_loss: 0.3837 - val_acc: 0.9266\n",
      "\n",
      "Epoch 00008: LearningRateScheduler reducing learning rate to 4.000000000000001e-06.\n",
      "Epoch 8/10\n",
      "2085/2085 [==============================] - 805s 386ms/step - loss: 0.3915 - acc: 0.9196 - val_loss: 0.3915 - val_acc: 0.9187\n",
      "\n",
      "Epoch 00009: LearningRateScheduler reducing learning rate to 4.500000000000001e-06.\n",
      "Epoch 9/10\n",
      "2085/2085 [==============================] - 806s 386ms/step - loss: 0.3855 - acc: 0.9259 - val_loss: 0.3805 - val_acc: 0.9302\n",
      "\n",
      "Epoch 00010: LearningRateScheduler reducing learning rate to 5.000000000000001e-06.\n",
      "Epoch 10/10\n",
      "2085/2085 [==============================] - 805s 386ms/step - loss: 0.3795 - acc: 0.9315 - val_loss: 0.3892 - val_acc: 0.9205\n",
      "CPU times: user 2h 40min 20s, sys: 7min 27s, total: 2h 47min 47s\n",
      "Wall time: 2h 15min 36s\n"
     ]
    }
   ],
   "source": [
    "%%time\n",
    "\n",
    "log_dir = \".log/satire_class/\" + datetime.datetime.now().strftime(\"%Y%m%d-%H%M%s\")\n",
    "tensorboard_callback = keras.callbacks.TensorBoard(log_dir=log_dir)\n",
    "\n",
    "total_epoch_count = 10\n",
    "history = model.fit(x=data.train_x, y=data.train_y,\n",
    "          validation_split=0.1,\n",
    "          batch_size=12,\n",
    "          shuffle=True,\n",
    "          epochs=total_epoch_count,\n",
    "          callbacks=[create_learning_rate_scheduler(max_learn_rate=1e-5,\n",
    "                                                    end_learn_rate=1e-7,\n",
    "                                                    warmup_epoch_count=20,\n",
    "                                                    total_epoch_count=total_epoch_count),\n",
    "                     keras.callbacks.EarlyStopping(patience=5, restore_best_weights=True),\n",
    "                     tensorboard_callback])"
   ]
  },
  {
   "cell_type": "code",
   "execution_count": 58,
   "metadata": {
    "colab": {},
    "colab_type": "code",
    "executionInfo": {
     "elapsed": 456,
     "status": "ok",
     "timestamp": 1599939224109,
     "user": {
      "displayName": "Josie Eaton",
      "photoUrl": "",
      "userId": "09517213720414736042"
     },
     "user_tz": 240
    },
    "id": "drldpJdMzxfW"
   },
   "outputs": [],
   "source": [
    "%config InlineBackend.figure_format='retina'"
   ]
  },
  {
   "cell_type": "markdown",
   "metadata": {},
   "source": [
    "Very good validation accuracy from this model, at 92%. I will now plot the loss vs epoch and accuracy vs epoch to evaluate the training process."
   ]
  },
  {
   "cell_type": "code",
   "execution_count": 59,
   "metadata": {
    "colab": {
     "base_uri": "https://localhost:8080/",
     "height": 294
    },
    "colab_type": "code",
    "executionInfo": {
     "elapsed": 618,
     "status": "ok",
     "timestamp": 1599939225358,
     "user": {
      "displayName": "Josie Eaton",
      "photoUrl": "",
      "userId": "09517213720414736042"
     },
     "user_tz": 240
    },
    "id": "1M0uxZ9mPIhs",
    "outputId": "ef60ee94-5a06-4cba-a09b-846c7c32b2e4"
   },
   "outputs": [
    {
     "data": {
      "image/png": "[encoded data removed]",
      "text/plain": [
       "<Figure size 432x288 with 1 Axes>"
      ]
     },
     "metadata": {
      "image/png": {
       "height": 277,
       "width": 392
      },
      "needs_background": "light",
      "tags": []
     },
     "output_type": "display_data"
    }
   ],
   "source": [
    "import matplotlib.pyplot as plt\n",
    "from matplotlib.ticker import MaxNLocator\n",
    "from matplotlib import rc\n",
    "\n",
    "ax = plt.figure().gca()\n",
    "ax.xaxis.set_major_locator(MaxNLocator(integer=True))\n",
    "\n",
    "ax.plot(history.history['loss'])\n",
    "ax.plot(history.history['val_loss'])\n",
    "plt.ylabel('Loss')\n",
    "plt.xlabel('Epoch')\n",
    "plt.legend(['train', 'val'])\n",
    "plt.title('Loss over training epochs')\n",
    "plt.show();"
   ]
  },
  {
   "cell_type": "markdown",
   "metadata": {},
   "source": [
    "From the above graph above, the training loss decreased significantly in the earlier epochs and from around epoch 6, there was no more significant loss in model error. From the above graph, I would say that the number epoch I chose is appropriate, if not a little too high."
   ]
  },
  {
   "cell_type": "code",
   "execution_count": 60,
   "metadata": {
    "colab": {
     "base_uri": "https://localhost:8080/",
     "height": 294
    },
    "colab_type": "code",
    "executionInfo": {
     "elapsed": 576,
     "status": "ok",
     "timestamp": 1599939254133,
     "user": {
      "displayName": "Josie Eaton",
      "photoUrl": "",
      "userId": "09517213720414736042"
     },
     "user_tz": 240
    },
    "id": "YQA3znXtPIWe",
    "outputId": "33880eb7-52f7-4a88-d11e-4001e2fb173a"
   },
   "outputs": [
    {
     "data": {
      "image/png": "[encoded data removed]",
      "text/plain": [
       "<Figure size 432x288 with 1 Axes>"
      ]
     },
     "metadata": {
      "image/png": {
       "height": 277,
       "width": 392
      },
      "needs_background": "light",
      "tags": []
     },
     "output_type": "display_data"
    }
   ],
   "source": [
    "ax = plt.figure().gca()\n",
    "ax.xaxis.set_major_locator(MaxNLocator(integer=True))\n",
    "\n",
    "ax.plot(history.history['acc'])\n",
    "ax.plot(history.history['val_acc'])\n",
    "plt.ylabel('Accuracy')\n",
    "plt.xlabel('Epoch')\n",
    "plt.legend(['train', 'val'])\n",
    "plt.title('Accuracy over training epochs')\n",
    "plt.show();"
   ]
  },
  {
   "cell_type": "markdown",
   "metadata": {},
   "source": [
    "From graph above, it can be seen that the gain in validation accuracy increased tremendously over the first 4 epochs, where it started to plateau. At the end of the training period, there was no more increase in validation accuracy. I will now test this model agaisnt the test set."
   ]
  },
  {
   "cell_type": "code",
   "execution_count": 36,
   "metadata": {
    "colab": {
     "base_uri": "https://localhost:8080/",
     "height": 119
    },
    "colab_type": "code",
    "executionInfo": {
     "elapsed": 182875,
     "status": "ok",
     "timestamp": 1599938171211,
     "user": {
      "displayName": "Josie Eaton",
      "photoUrl": "",
      "userId": "09517213720414736042"
     },
     "user_tz": 240
    },
    "id": "3OQSHtqIVeve",
    "outputId": "a9e81e9e-cff4-4627-e2ff-b87e530e0021"
   },
   "outputs": [
    {
     "name": "stdout",
     "output_type": "stream",
     "text": [
      "869/869 [==============================] - 146s 168ms/step - loss: 0.3644 - acc: 0.9475\n",
      "218/218 [==============================] - 36s 166ms/step - loss: 0.4142 - acc: 0.8962\n",
      "train acc 0.94745934009552\n",
      " test acc 0.8962291479110718\n",
      "CPU times: user 1min 1s, sys: 10.8 s, total: 1min 12s\n",
      "Wall time: 3min 2s\n"
     ]
    }
   ],
   "source": [
    "%%time\n",
    "\n",
    "_, train_acc = model.evaluate(data.train_x, data.train_y)\n",
    "_, test_acc = model.evaluate(data.test_x, data.test_y)\n",
    "\n",
    "print(\"train acc\", train_acc)\n",
    "print(\" test acc\", test_acc)"
   ]
  },
  {
   "cell_type": "markdown",
   "metadata": {},
   "source": [
    "The test accuracy is around 90%, compared to 95% of validation accuracy. There is not a very significant difference between the two accuracies, indicating that the model is possibly not overfitted, and if so, not so bad. I would like to extract the weights from this model to be used another time, on my local system."
   ]
  },
  {
   "cell_type": "code",
   "execution_count": 56,
   "metadata": {
    "colab": {},
    "colab_type": "code",
    "executionInfo": {
     "elapsed": 2095,
     "status": "ok",
     "timestamp": 1599938793624,
     "user": {
      "displayName": "Josie Eaton",
      "photoUrl": "",
      "userId": "09517213720414736042"
     },
     "user_tz": 240
    },
    "id": "0prllAxQuH96"
   },
   "outputs": [],
   "source": [
    "# Saving weights\n",
    "\n",
    "model.save_weights('/bert_final_bin.h5', overwrite=True)"
   ]
  },
  {
   "cell_type": "code",
   "execution_count": 57,
   "metadata": {
    "colab": {
     "base_uri": "https://localhost:8080/",
     "height": 632
    },
    "colab_type": "code",
    "executionInfo": {
     "elapsed": 4372,
     "status": "ok",
     "timestamp": 1599938813075,
     "user": {
      "displayName": "Josie Eaton",
      "photoUrl": "",
      "userId": "09517213720414736042"
     },
     "user_tz": 240
    },
    "id": "gilfmq5Xu2jS",
    "outputId": "a735b544-16ca-4769-e8da-ddbdace527b7"
   },
   "outputs": [
    {
     "name": "stdout",
     "output_type": "stream",
     "text": [
      "bert shape (None, 66, 768)\n",
      "Done loading 196 BERT weights from: /content/drive/My Drive/CAPSTONE/BERT/model/uncased_L-12_H-768_A-12/bert_model.ckpt into <bert.model.BertModelLayer object at 0x7f756c822cc0> (prefix:bert). Count of weights not found in the checkpoint was: [0]. Count of weights with mismatched shape: [0]\n",
      "Unused weights from checkpoint: \n",
      "\tbert/embeddings/token_type_embeddings\n",
      "\tbert/pooler/dense/bias\n",
      "\tbert/pooler/dense/kernel\n",
      "\tcls/predictions/output_bias\n",
      "\tcls/predictions/transform/LayerNorm/beta\n",
      "\tcls/predictions/transform/LayerNorm/gamma\n",
      "\tcls/predictions/transform/dense/bias\n",
      "\tcls/predictions/transform/dense/kernel\n",
      "\tcls/seq_relationship/output_bias\n",
      "\tcls/seq_relationship/output_weights\n",
      "Model: \"functional_7\"\n",
      "_________________________________________________________________\n",
      "Layer (type)                 Output Shape              Param #   \n",
      "=================================================================\n",
      "input_ids (InputLayer)       [(None, 66)]              0         \n",
      "_________________________________________________________________\n",
      "bert (BertModelLayer)        (None, 66, 768)           108890112 \n",
      "_________________________________________________________________\n",
      "lambda_3 (Lambda)            (None, 768)               0         \n",
      "_________________________________________________________________\n",
      "dropout_6 (Dropout)          (None, 768)               0         \n",
      "_________________________________________________________________\n",
      "dense_6 (Dense)              (None, 768)               590592    \n",
      "_________________________________________________________________\n",
      "dropout_7 (Dropout)          (None, 768)               0         \n",
      "_________________________________________________________________\n",
      "dense_7 (Dense)              (None, 2)                 1538      \n",
      "=================================================================\n",
      "Total params: 109,482,242\n",
      "Trainable params: 109,482,242\n",
      "Non-trainable params: 0\n",
      "_________________________________________________________________\n"
     ]
    }
   ],
   "source": [
    "# I will now load the model and test\n",
    "\n",
    "loaded_model = create_model(data.max_seq_len, adapter_size=None)\n",
    "loaded_model.load_weights(\"/bert_final_bin.h5\")"
   ]
  },
  {
   "cell_type": "code",
   "execution_count": 42,
   "metadata": {
    "colab": {
     "base_uri": "https://localhost:8080/",
     "height": 85
    },
    "colab_type": "code",
    "executionInfo": {
     "elapsed": 72750,
     "status": "ok",
     "timestamp": 1599938382168,
     "user": {
      "displayName": "Josie Eaton",
      "photoUrl": "",
      "userId": "09517213720414736042"
     },
     "user_tz": 240
    },
    "id": "C5BH1dlXu9Gy",
    "outputId": "6ac6e475-9c05-45ef-fafc-88d8451934b0"
   },
   "outputs": [
    {
     "name": "stdout",
     "output_type": "stream",
     "text": [
      "218/218 [==============================] - 37s 167ms/step - loss: 0.4142 - acc: 0.8962\n",
      " test acc 0.8962291479110718\n",
      "CPU times: user 24 s, sys: 4.14 s, total: 28.2 s\n",
      "Wall time: 1min 12s\n"
     ]
    }
   ],
   "source": [
    "%%time \n",
    "\n",
    "# _, train_acc = model.evaluate(data.train_x, data.train_y)\n",
    "_, test_acc = loaded_model.evaluate(data.test_x, data.test_y)\n",
    "\n",
    "# print(\"train acc\", train_acc)\n",
    "print(\" test acc\", test_acc)\n",
    "\n",
    "\n",
    "y_pred = loaded_model.predict(data.test_x).argmax(axis=-1)"
   ]
  },
  {
   "cell_type": "markdown",
   "metadata": {},
   "source": [
    "We have the exact same results from the loaded model as the original model. I will now evaluate the model by creating a classification report and confusion matrix. I will use the test set to create these evaluations."
   ]
  },
  {
   "cell_type": "code",
   "execution_count": 43,
   "metadata": {
    "colab": {
     "base_uri": "https://localhost:8080/",
     "height": 170
    },
    "colab_type": "code",
    "executionInfo": {
     "elapsed": 920,
     "status": "ok",
     "timestamp": 1599938383097,
     "user": {
      "displayName": "Josie Eaton",
      "photoUrl": "",
      "userId": "09517213720414736042"
     },
     "user_tz": 240
    },
    "id": "dgDZBpDAkfba",
    "outputId": "a77c6f7b-aa4d-40f3-f354-c761622c57b6"
   },
   "outputs": [
    {
     "name": "stdout",
     "output_type": "stream",
     "text": [
      "              precision    recall  f1-score   support\n",
      "\n",
      "           0       0.84      0.94      0.89      3029\n",
      "           1       0.95      0.86      0.90      3919\n",
      "\n",
      "    accuracy                           0.90      6948\n",
      "   macro avg       0.89      0.90      0.90      6948\n",
      "weighted avg       0.90      0.90      0.90      6948\n",
      "\n"
     ]
    }
   ],
   "source": [
    "# print classification report\n",
    "\n",
    "from sklearn.metrics import confusion_matrix, classification_report\n",
    "\n",
    "print(classification_report(data.test_y, y_pred))"
   ]
  },
  {
   "cell_type": "code",
   "execution_count": 47,
   "metadata": {
    "colab": {},
    "colab_type": "code",
    "executionInfo": {
     "elapsed": 435,
     "status": "ok",
     "timestamp": 1599938471272,
     "user": {
      "displayName": "Josie Eaton",
      "photoUrl": "",
      "userId": "09517213720414736042"
     },
     "user_tz": 240
    },
    "id": "_VTgPTsrkpwH"
   },
   "outputs": [],
   "source": [
    "# create confusion matrix\n",
    "\n",
    "group = train_df.satire.unique().tolist()\n",
    "\n",
    "cm = confusion_matrix(data.test_y, y_pred)\n",
    "\n",
    "df_cm = pd.DataFrame(cm, index=group, columns=group)"
   ]
  },
  {
   "cell_type": "code",
   "execution_count": 61,
   "metadata": {
    "colab": {
     "base_uri": "https://localhost:8080/",
     "height": 303
    },
    "colab_type": "code",
    "executionInfo": {
     "elapsed": 855,
     "status": "ok",
     "timestamp": 1599939268296,
     "user": {
      "displayName": "Josie Eaton",
      "photoUrl": "",
      "userId": "09517213720414736042"
     },
     "user_tz": 240
    },
    "id": "Dqs9CWcCkqkO",
    "outputId": "7c765b56-9a04-452d-9adf-f71de65509d9"
   },
   "outputs": [
    {
     "data": {
      "image/png": "[encoded data removed]",
      "text/plain": [
       "<Figure size 432x288 with 2 Axes>"
      ]
     },
     "metadata": {
      "image/png": {
       "height": 286,
       "width": 413
      },
      "needs_background": "light",
      "tags": []
     },
     "output_type": "display_data"
    }
   ],
   "source": [
    "# make heatmap\n",
    "\n",
    "import seaborn as sns\n",
    "\n",
    "hmap = sns.heatmap(df_cm, annot=True, fmt=\"d\")\n",
    "hmap.yaxis.set_ticklabels(['legitimate', 'satire'], rotation=0, ha='right')\n",
    "hmap.xaxis.set_ticklabels(['legitimate', 'satire'], rotation=30, ha='right')\n",
    "plt.ylabel('True label')\n",
    "plt.xlabel('Predicted label');"
   ]
  },
  {
   "cell_type": "markdown",
   "metadata": {},
   "source": [
    "From the heatmap above, I could see that there is a much higher rate of false negative than false positive. The overall accuracy of this model is 90%, same with recall and precision. From here, I would like to be able to insert custom sentences into our model. The following code will tokenize, make a [CLS] [SEP] sandwhich, convert tokens to IDs, and feed these tokens into the loaded model. "
   ]
  },
  {
   "cell_type": "code",
   "execution_count": null,
   "metadata": {
    "colab": {
     "base_uri": "https://localhost:8080/",
     "height": 68
    },
    "colab_type": "code",
    "executionInfo": {
     "elapsed": 799,
     "status": "ok",
     "timestamp": 1599938475791,
     "user": {
      "displayName": "Josie Eaton",
      "photoUrl": "",
      "userId": "09517213720414736042"
     },
     "user_tz": 240
    },
    "id": "6ekuswUSvGkZ",
    "outputId": "da6a7e63-c533-4240-c1c0-e912d7a15053"
   },
   "outputs": [],
   "source": [
    "%%time\n",
    "CLASSES = [\"legitimate\",\"satire\"]\n",
    "max_seq_len = 128\n",
    "pred_sentences = [\n",
    "  \"premier ford outraged federal government not doing his job\",\n",
    "  \"vancouver experiencing severe mothman infestation\",\n",
    "  \"most of B.C. now warned of smoky skies and lower air quality from U.S. wildfires\",\n",
    "  \"17 dead and dozens missing as western wildfires rage\",\n",
    "]\n",
    "\n",
    "inputs = pd.DataFrame(pred_sentences)\n",
    "\n",
    "pred_tokens    = map(tokenizer.tokenize, inputs.to_numpy()[:, 0].tolist())\n",
    "pred_tokens    = map(lambda tok: [\"[CLS]\"] + tok + [\"[SEP]\"], pred_tokens)\n",
    "pred_token_ids = list(map(tokenizer.convert_tokens_to_ids, pred_tokens))\n",
    "pred_token_ids = map(lambda tids: tids + [0] * (max_seq_len-len(tids)), pred_token_ids)\n",
    "pred_token_ids = np.array(list(pred_token_ids))\n",
    "\n",
    "res = loaded_model(pred_token_ids).numpy().argmax(axis=-1)\n",
    "print([CLASSES[i] for i in res])"
   ]
  },
  {
   "cell_type": "markdown",
   "metadata": {},
   "source": [
    "The model made good predictions for my custom headlines. I will now save the whole model to create an app. I will then download the model to my local computer."
   ]
  },
  {
   "cell_type": "code",
   "execution_count": 67,
   "metadata": {
    "colab": {
     "base_uri": "https://localhost:8080/",
     "height": 71
    },
    "colab_type": "code",
    "executionInfo": {
     "elapsed": 70085,
     "status": "ok",
     "timestamp": 1599941907331,
     "user": {
      "displayName": "Josie Eaton",
      "photoUrl": "",
      "userId": "09517213720414736042"
     },
     "user_tz": 240
    },
    "id": "DVLGXHew53Z7",
    "outputId": "06efb627-b054-4230-a3b4-89aedc0666b9"
   },
   "outputs": [
    {
     "name": "stdout",
     "output_type": "stream",
     "text": [
      "WARNING:tensorflow:Skipping full serialization of Keras layer <tensorflow.python.keras.layers.embeddings.Embedding object at 0x7f771bb87eb8>, because it is not built.\n",
      "INFO:tensorflow:Assets written to: /content/drive/My Drive/CAPSTONE/final_binary_model/assets\n"
     ]
    }
   ],
   "source": [
    "model.save('/content/drive/My Drive/CAPSTONE/final_binary_model')"
   ]
  }
 ],
 "metadata": {
  "accelerator": "GPU",
  "colab": {
   "collapsed_sections": [],
   "name": "BERT_FINAL.ipynb",
   "provenance": []
  },
  "kernelspec": {
   "display_name": "Python 3",
   "language": "python",
   "name": "python3"
  },
  "language_info": {
   "codemirror_mode": {
    "name": "ipython",
    "version": 3
   },
   "file_extension": ".py",
   "mimetype": "text/x-python",
   "name": "python",
   "nbconvert_exporter": "python",
   "pygments_lexer": "ipython3",
   "version": "3.7.6"
  }
 },
 "nbformat": 4,
 "nbformat_minor": 4
}
